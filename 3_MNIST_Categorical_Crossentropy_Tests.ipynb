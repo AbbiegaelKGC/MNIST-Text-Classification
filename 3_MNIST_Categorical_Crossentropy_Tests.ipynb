{
  "cells": [
    {
      "cell_type": "markdown",
      "metadata": {
        "id": "HTOWf9rux3Bk"
      },
      "source": [
        "## Task 1\n",
        "Import libraries"
      ]
    },
    {
      "cell_type": "code",
      "execution_count": null,
      "metadata": {
        "id": "fw32qBUtgEnc"
      },
      "outputs": [],
      "source": [
        "#import relevant libraries\n",
        "\n",
        "import tensorflow as tf\n",
        "import matplotlib.pyplot as plt\n",
        "import pandas as pd\n",
        "import numpy as np\n",
        "from keras.utils import to_categorical"
      ]
    },
    {
      "cell_type": "markdown",
      "metadata": {
        "id": "RA5DkcZ0yY8Q"
      },
      "source": [
        "## Task 2\n",
        "Load dataset using keras API\n",
        "\n",
        "Dataset must be pre-processed before training the network, if you check image in the training, you will see pixel value range from 0 to 255, scale these values range from 0 to 1. [note it is important that both training and testing dataset pre-processed same way]."
      ]
    },
    {
      "cell_type": "code",
      "execution_count": null,
      "metadata": {
        "colab": {
          "base_uri": "https://localhost:8080/"
        },
        "id": "mTdld1QLx8fO",
        "outputId": "6b3743ee-fb52-4e77-d319-778f769886c2"
      },
      "outputs": [
        {
          "name": "stdout",
          "output_type": "stream",
          "text": [
            "Downloading data from https://storage.googleapis.com/tensorflow/tf-keras-datasets/mnist.npz\n",
            "11490434/11490434 [==============================] - 0s 0us/step\n"
          ]
        }
      ],
      "source": [
        "#loading the mnist dataset using keras API\n",
        "\n",
        "mnist = tf.keras.datasets.mnist.load_data(path=\"mnist.npz\")"
      ]
    },
    {
      "cell_type": "code",
      "execution_count": null,
      "metadata": {
        "colab": {
          "base_uri": "https://localhost:8080/"
        },
        "id": "EA4iDBRnya48",
        "outputId": "5e7ecc06-cdb7-4c84-a257-40ceb7d2c9f8"
      },
      "outputs": [
        {
          "name": "stdout",
          "output_type": "stream",
          "text": [
            "((array([[[0, 0, 0, ..., 0, 0, 0],\n",
            "        [0, 0, 0, ..., 0, 0, 0],\n",
            "        [0, 0, 0, ..., 0, 0, 0],\n",
            "        ...,\n",
            "        [0, 0, 0, ..., 0, 0, 0],\n",
            "        [0, 0, 0, ..., 0, 0, 0],\n",
            "        [0, 0, 0, ..., 0, 0, 0]],\n",
            "\n",
            "       [[0, 0, 0, ..., 0, 0, 0],\n",
            "        [0, 0, 0, ..., 0, 0, 0],\n",
            "        [0, 0, 0, ..., 0, 0, 0],\n",
            "        ...,\n",
            "        [0, 0, 0, ..., 0, 0, 0],\n",
            "        [0, 0, 0, ..., 0, 0, 0],\n",
            "        [0, 0, 0, ..., 0, 0, 0]],\n",
            "\n",
            "       [[0, 0, 0, ..., 0, 0, 0],\n",
            "        [0, 0, 0, ..., 0, 0, 0],\n",
            "        [0, 0, 0, ..., 0, 0, 0],\n",
            "        ...,\n",
            "        [0, 0, 0, ..., 0, 0, 0],\n",
            "        [0, 0, 0, ..., 0, 0, 0],\n",
            "        [0, 0, 0, ..., 0, 0, 0]],\n",
            "\n",
            "       ...,\n",
            "\n",
            "       [[0, 0, 0, ..., 0, 0, 0],\n",
            "        [0, 0, 0, ..., 0, 0, 0],\n",
            "        [0, 0, 0, ..., 0, 0, 0],\n",
            "        ...,\n",
            "        [0, 0, 0, ..., 0, 0, 0],\n",
            "        [0, 0, 0, ..., 0, 0, 0],\n",
            "        [0, 0, 0, ..., 0, 0, 0]],\n",
            "\n",
            "       [[0, 0, 0, ..., 0, 0, 0],\n",
            "        [0, 0, 0, ..., 0, 0, 0],\n",
            "        [0, 0, 0, ..., 0, 0, 0],\n",
            "        ...,\n",
            "        [0, 0, 0, ..., 0, 0, 0],\n",
            "        [0, 0, 0, ..., 0, 0, 0],\n",
            "        [0, 0, 0, ..., 0, 0, 0]],\n",
            "\n",
            "       [[0, 0, 0, ..., 0, 0, 0],\n",
            "        [0, 0, 0, ..., 0, 0, 0],\n",
            "        [0, 0, 0, ..., 0, 0, 0],\n",
            "        ...,\n",
            "        [0, 0, 0, ..., 0, 0, 0],\n",
            "        [0, 0, 0, ..., 0, 0, 0],\n",
            "        [0, 0, 0, ..., 0, 0, 0]]], dtype=uint8), array([5, 0, 4, ..., 5, 6, 8], dtype=uint8)), (array([[[0, 0, 0, ..., 0, 0, 0],\n",
            "        [0, 0, 0, ..., 0, 0, 0],\n",
            "        [0, 0, 0, ..., 0, 0, 0],\n",
            "        ...,\n",
            "        [0, 0, 0, ..., 0, 0, 0],\n",
            "        [0, 0, 0, ..., 0, 0, 0],\n",
            "        [0, 0, 0, ..., 0, 0, 0]],\n",
            "\n",
            "       [[0, 0, 0, ..., 0, 0, 0],\n",
            "        [0, 0, 0, ..., 0, 0, 0],\n",
            "        [0, 0, 0, ..., 0, 0, 0],\n",
            "        ...,\n",
            "        [0, 0, 0, ..., 0, 0, 0],\n",
            "        [0, 0, 0, ..., 0, 0, 0],\n",
            "        [0, 0, 0, ..., 0, 0, 0]],\n",
            "\n",
            "       [[0, 0, 0, ..., 0, 0, 0],\n",
            "        [0, 0, 0, ..., 0, 0, 0],\n",
            "        [0, 0, 0, ..., 0, 0, 0],\n",
            "        ...,\n",
            "        [0, 0, 0, ..., 0, 0, 0],\n",
            "        [0, 0, 0, ..., 0, 0, 0],\n",
            "        [0, 0, 0, ..., 0, 0, 0]],\n",
            "\n",
            "       ...,\n",
            "\n",
            "       [[0, 0, 0, ..., 0, 0, 0],\n",
            "        [0, 0, 0, ..., 0, 0, 0],\n",
            "        [0, 0, 0, ..., 0, 0, 0],\n",
            "        ...,\n",
            "        [0, 0, 0, ..., 0, 0, 0],\n",
            "        [0, 0, 0, ..., 0, 0, 0],\n",
            "        [0, 0, 0, ..., 0, 0, 0]],\n",
            "\n",
            "       [[0, 0, 0, ..., 0, 0, 0],\n",
            "        [0, 0, 0, ..., 0, 0, 0],\n",
            "        [0, 0, 0, ..., 0, 0, 0],\n",
            "        ...,\n",
            "        [0, 0, 0, ..., 0, 0, 0],\n",
            "        [0, 0, 0, ..., 0, 0, 0],\n",
            "        [0, 0, 0, ..., 0, 0, 0]],\n",
            "\n",
            "       [[0, 0, 0, ..., 0, 0, 0],\n",
            "        [0, 0, 0, ..., 0, 0, 0],\n",
            "        [0, 0, 0, ..., 0, 0, 0],\n",
            "        ...,\n",
            "        [0, 0, 0, ..., 0, 0, 0],\n",
            "        [0, 0, 0, ..., 0, 0, 0],\n",
            "        [0, 0, 0, ..., 0, 0, 0]]], dtype=uint8), array([7, 2, 1, ..., 4, 5, 6], dtype=uint8)))\n"
          ]
        }
      ],
      "source": [
        "# Checking the structure of mnist dataset.\n",
        "print(mnist)"
      ]
    },
    {
      "cell_type": "code",
      "execution_count": null,
      "metadata": {
        "id": "uuSnFT1xyb7J"
      },
      "outputs": [],
      "source": [
        "#Assigning images to test and train\n",
        "(X_train, y_train), (X_test, y_test) = mnist"
      ]
    },
    {
      "cell_type": "code",
      "execution_count": null,
      "metadata": {
        "colab": {
          "base_uri": "https://localhost:8080/"
        },
        "id": "QXMYK0s2ylyH",
        "outputId": "49cd2cde-fbca-4a18-bef6-a462beefd4e4"
      },
      "outputs": [
        {
          "data": {
            "text/plain": [
              "(60000, 28, 28)"
            ]
          },
          "execution_count": 5,
          "metadata": {},
          "output_type": "execute_result"
        }
      ],
      "source": [
        "#Checking the shape of X_train (training dataset of pictures)\n",
        "\n",
        "X_train.shape"
      ]
    },
    {
      "cell_type": "code",
      "execution_count": null,
      "metadata": {
        "colab": {
          "base_uri": "https://localhost:8080/"
        },
        "id": "yslLXRjiynJv",
        "outputId": "28a3388c-5c90-4bf3-d042-95d8d3bb33ac"
      },
      "outputs": [
        {
          "data": {
            "text/plain": [
              "(60000,)"
            ]
          },
          "execution_count": 6,
          "metadata": {},
          "output_type": "execute_result"
        }
      ],
      "source": [
        "#Checking the shape of y_train (class numbers of training dataset)\n",
        "\n",
        "y_train.shape"
      ]
    },
    {
      "cell_type": "code",
      "execution_count": null,
      "metadata": {
        "colab": {
          "base_uri": "https://localhost:8080/"
        },
        "id": "9zgh_lFUyyPk",
        "outputId": "b408eb02-7ba2-4a70-bd5c-54a715897d42"
      },
      "outputs": [
        {
          "data": {
            "text/plain": [
              "(10000, 28, 28)"
            ]
          },
          "execution_count": 7,
          "metadata": {},
          "output_type": "execute_result"
        }
      ],
      "source": [
        "#Checking the shape of X_test (testing dataset of pictures)\n",
        "\n",
        "X_test.shape"
      ]
    },
    {
      "cell_type": "code",
      "execution_count": null,
      "metadata": {
        "colab": {
          "base_uri": "https://localhost:8080/"
        },
        "id": "KfmYA7w0yzlb",
        "outputId": "f14f31c9-e65f-467a-b005-dae930f3be5e"
      },
      "outputs": [
        {
          "data": {
            "text/plain": [
              "(10000,)"
            ]
          },
          "execution_count": 8,
          "metadata": {},
          "output_type": "execute_result"
        }
      ],
      "source": [
        "#Checking the shape of y_test(class numbers of testing dataset)\n",
        "\n",
        "y_test.shape"
      ]
    },
    {
      "cell_type": "code",
      "execution_count": null,
      "metadata": {
        "colab": {
          "base_uri": "https://localhost:8080/",
          "height": 1000
        },
        "id": "KyBgG_Oty7e5",
        "outputId": "e4f2a457-af3b-454d-cee2-73a954baf9e9"
      },
      "outputs": [
        {
          "name": "stdout",
          "output_type": "stream",
          "text": [
            "class number example : 5\n",
            "[[  0   0   0   0   0   0   0   0   0   0   0   0   0   0   0   0   0   0\n",
            "    0   0   0   0   0   0   0   0   0   0]\n",
            " [  0   0   0   0   0   0   0   0   0   0   0   0   0   0   0   0   0   0\n",
            "    0   0   0   0   0   0   0   0   0   0]\n",
            " [  0   0   0   0   0   0   0   0   0   0   0   0   0   0   0   0   0   0\n",
            "    0   0   0   0   0   0   0   0   0   0]\n",
            " [  0   0   0   0   0   0   0   0   0   0   0   0   0   0   0   0   0   0\n",
            "    0   0   0   0   0   0   0   0   0   0]\n",
            " [  0   0   0   0   0   0   0   0   0   0   0   0   0   0   0   0   0   0\n",
            "    0   0   0   0   0   0   0   0   0   0]\n",
            " [  0   0   0   0   0   0   0   0   0   0   0   0   3  18  18  18 126 136\n",
            "  175  26 166 255 247 127   0   0   0   0]\n",
            " [  0   0   0   0   0   0   0   0  30  36  94 154 170 253 253 253 253 253\n",
            "  225 172 253 242 195  64   0   0   0   0]\n",
            " [  0   0   0   0   0   0   0  49 238 253 253 253 253 253 253 253 253 251\n",
            "   93  82  82  56  39   0   0   0   0   0]\n",
            " [  0   0   0   0   0   0   0  18 219 253 253 253 253 253 198 182 247 241\n",
            "    0   0   0   0   0   0   0   0   0   0]\n",
            " [  0   0   0   0   0   0   0   0  80 156 107 253 253 205  11   0  43 154\n",
            "    0   0   0   0   0   0   0   0   0   0]\n",
            " [  0   0   0   0   0   0   0   0   0  14   1 154 253  90   0   0   0   0\n",
            "    0   0   0   0   0   0   0   0   0   0]\n",
            " [  0   0   0   0   0   0   0   0   0   0   0 139 253 190   2   0   0   0\n",
            "    0   0   0   0   0   0   0   0   0   0]\n",
            " [  0   0   0   0   0   0   0   0   0   0   0  11 190 253  70   0   0   0\n",
            "    0   0   0   0   0   0   0   0   0   0]\n",
            " [  0   0   0   0   0   0   0   0   0   0   0   0  35 241 225 160 108   1\n",
            "    0   0   0   0   0   0   0   0   0   0]\n",
            " [  0   0   0   0   0   0   0   0   0   0   0   0   0  81 240 253 253 119\n",
            "   25   0   0   0   0   0   0   0   0   0]\n",
            " [  0   0   0   0   0   0   0   0   0   0   0   0   0   0  45 186 253 253\n",
            "  150  27   0   0   0   0   0   0   0   0]\n",
            " [  0   0   0   0   0   0   0   0   0   0   0   0   0   0   0  16  93 252\n",
            "  253 187   0   0   0   0   0   0   0   0]\n",
            " [  0   0   0   0   0   0   0   0   0   0   0   0   0   0   0   0   0 249\n",
            "  253 249  64   0   0   0   0   0   0   0]\n",
            " [  0   0   0   0   0   0   0   0   0   0   0   0   0   0  46 130 183 253\n",
            "  253 207   2   0   0   0   0   0   0   0]\n",
            " [  0   0   0   0   0   0   0   0   0   0   0   0  39 148 229 253 253 253\n",
            "  250 182   0   0   0   0   0   0   0   0]\n",
            " [  0   0   0   0   0   0   0   0   0   0  24 114 221 253 253 253 253 201\n",
            "   78   0   0   0   0   0   0   0   0   0]\n",
            " [  0   0   0   0   0   0   0   0  23  66 213 253 253 253 253 198  81   2\n",
            "    0   0   0   0   0   0   0   0   0   0]\n",
            " [  0   0   0   0   0   0  18 171 219 253 253 253 253 195  80   9   0   0\n",
            "    0   0   0   0   0   0   0   0   0   0]\n",
            " [  0   0   0   0  55 172 226 253 253 253 253 244 133  11   0   0   0   0\n",
            "    0   0   0   0   0   0   0   0   0   0]\n",
            " [  0   0   0   0 136 253 253 253 212 135 132  16   0   0   0   0   0   0\n",
            "    0   0   0   0   0   0   0   0   0   0]\n",
            " [  0   0   0   0   0   0   0   0   0   0   0   0   0   0   0   0   0   0\n",
            "    0   0   0   0   0   0   0   0   0   0]\n",
            " [  0   0   0   0   0   0   0   0   0   0   0   0   0   0   0   0   0   0\n",
            "    0   0   0   0   0   0   0   0   0   0]\n",
            " [  0   0   0   0   0   0   0   0   0   0   0   0   0   0   0   0   0   0\n",
            "    0   0   0   0   0   0   0   0   0   0]]\n"
          ]
        },
        {
          "data": {
            "text/plain": [
              "<matplotlib.image.AxesImage at 0x7b425cf49090>"
            ]
          },
          "execution_count": 9,
          "metadata": {},
          "output_type": "execute_result"
        },
        {
          "data": {
            "image/png": "[encoded data removed]",
            "text/plain": [
              "<Figure size 640x480 with 1 Axes>"
            ]
          },
          "metadata": {},
          "output_type": "display_data"
        }
      ],
      "source": [
        "#Summary, showing image\n",
        "\n",
        "#Tells us which number the first array is\n",
        "print(\"class number example :\", y_train[0])\n",
        "\n",
        "#Shows us the first array\n",
        "print(X_train[0])\n",
        "\n",
        "#Plots what the array looks like\n",
        "plt.imshow(X_train[0])"
      ]
    },
    {
      "cell_type": "code",
      "execution_count": null,
      "metadata": {
        "id": "3gOjdRCxFnUI"
      },
      "outputs": [],
      "source": [
        "#One hot encoding the target labels in the MNIST dataset to ensure that labels are clear\n",
        "y_train = to_categorical(y_train)\n",
        "y_test = to_categorical(y_test)"
      ]
    },
    {
      "cell_type": "code",
      "execution_count": null,
      "metadata": {
        "colab": {
          "base_uri": "https://localhost:8080/",
          "height": 105
        },
        "id": "E7oUE4tuy8Tx",
        "outputId": "c3b16712-0b68-4e23-fb5e-165cdd9a2f80"
      },
      "outputs": [
        {
          "name": "stdout",
          "output_type": "stream",
          "text": [
            "784\n"
          ]
        },
        {
          "data": {
            "application/vnd.google.colaboratory.intrinsic+json": {
              "type": "string"
            },
            "text/plain": [
              "'\\nGrey scale images have pixel values from 0 to 255, which represents the intensities of the pixels.\\nDividing the values by 255 can help us make the pixels into the same magnitude.\\nNormalization was applied here, rather than standardization, since normalization is the usual choice for image dataset.\\n'"
            ]
          },
          "execution_count": 11,
          "metadata": {},
          "output_type": "execute_result"
        }
      ],
      "source": [
        "#Normalizing the data by dividing with 255.0\n",
        "x_train = X_train/ 255.0\n",
        "x_test = X_test / 255.0\n",
        "\n",
        "print(X_train[0].shape[0] * X_train[0].shape[1])\n",
        "\n",
        "'''\n",
        "Grey scale images have pixel values from 0 to 255, which represents the intensities of the pixels.\n",
        "Dividing the values by 255 can help us make the pixels into the same magnitude.\n",
        "Normalization was applied here, rather than standardization, since normalization is the usual choice for image dataset.\n",
        "'''"
      ]
    },
    {
      "cell_type": "code",
      "execution_count": null,
      "metadata": {
        "colab": {
          "base_uri": "https://localhost:8080/"
        },
        "id": "jMVShYMhWs17",
        "outputId": "a6d346a1-4efe-4e10-e2cc-66d40e6d6028"
      },
      "outputs": [
        {
          "name": "stdout",
          "output_type": "stream",
          "text": [
            "[[0.         0.         0.         0.         0.         0.\n",
            "  0.         0.         0.         0.         0.         0.\n",
            "  0.         0.         0.         0.         0.         0.\n",
            "  0.         0.         0.         0.         0.         0.\n",
            "  0.         0.         0.         0.        ]\n",
            " [0.         0.         0.         0.         0.         0.\n",
            "  0.         0.         0.         0.         0.         0.\n",
            "  0.         0.         0.         0.         0.         0.\n",
            "  0.         0.         0.         0.         0.         0.\n",
            "  0.         0.         0.         0.        ]\n",
            " [0.         0.         0.         0.         0.         0.\n",
            "  0.         0.         0.         0.         0.         0.\n",
            "  0.         0.         0.         0.         0.         0.\n",
            "  0.         0.         0.         0.         0.         0.\n",
            "  0.         0.         0.         0.        ]\n",
            " [0.         0.         0.         0.         0.         0.\n",
            "  0.         0.         0.         0.         0.         0.\n",
            "  0.         0.         0.         0.         0.         0.\n",
            "  0.         0.         0.         0.         0.         0.\n",
            "  0.         0.         0.         0.        ]\n",
            " [0.         0.         0.         0.         0.         0.\n",
            "  0.         0.         0.         0.         0.         0.\n",
            "  0.         0.         0.         0.         0.         0.\n",
            "  0.         0.         0.         0.         0.         0.\n",
            "  0.         0.         0.         0.        ]\n",
            " [0.         0.         0.         0.         0.         0.\n",
            "  0.         0.         0.         0.         0.         0.\n",
            "  0.01176471 0.07058824 0.07058824 0.07058824 0.49411765 0.53333333\n",
            "  0.68627451 0.10196078 0.65098039 1.         0.96862745 0.49803922\n",
            "  0.         0.         0.         0.        ]\n",
            " [0.         0.         0.         0.         0.         0.\n",
            "  0.         0.         0.11764706 0.14117647 0.36862745 0.60392157\n",
            "  0.66666667 0.99215686 0.99215686 0.99215686 0.99215686 0.99215686\n",
            "  0.88235294 0.6745098  0.99215686 0.94901961 0.76470588 0.25098039\n",
            "  0.         0.         0.         0.        ]\n",
            " [0.         0.         0.         0.         0.         0.\n",
            "  0.         0.19215686 0.93333333 0.99215686 0.99215686 0.99215686\n",
            "  0.99215686 0.99215686 0.99215686 0.99215686 0.99215686 0.98431373\n",
            "  0.36470588 0.32156863 0.32156863 0.21960784 0.15294118 0.\n",
            "  0.         0.         0.         0.        ]\n",
            " [0.         0.         0.         0.         0.         0.\n",
            "  0.         0.07058824 0.85882353 0.99215686 0.99215686 0.99215686\n",
            "  0.99215686 0.99215686 0.77647059 0.71372549 0.96862745 0.94509804\n",
            "  0.         0.         0.         0.         0.         0.\n",
            "  0.         0.         0.         0.        ]\n",
            " [0.         0.         0.         0.         0.         0.\n",
            "  0.         0.         0.31372549 0.61176471 0.41960784 0.99215686\n",
            "  0.99215686 0.80392157 0.04313725 0.         0.16862745 0.60392157\n",
            "  0.         0.         0.         0.         0.         0.\n",
            "  0.         0.         0.         0.        ]\n",
            " [0.         0.         0.         0.         0.         0.\n",
            "  0.         0.         0.         0.05490196 0.00392157 0.60392157\n",
            "  0.99215686 0.35294118 0.         0.         0.         0.\n",
            "  0.         0.         0.         0.         0.         0.\n",
            "  0.         0.         0.         0.        ]\n",
            " [0.         0.         0.         0.         0.         0.\n",
            "  0.         0.         0.         0.         0.         0.54509804\n",
            "  0.99215686 0.74509804 0.00784314 0.         0.         0.\n",
            "  0.         0.         0.         0.         0.         0.\n",
            "  0.         0.         0.         0.        ]\n",
            " [0.         0.         0.         0.         0.         0.\n",
            "  0.         0.         0.         0.         0.         0.04313725\n",
            "  0.74509804 0.99215686 0.2745098  0.         0.         0.\n",
            "  0.         0.         0.         0.         0.         0.\n",
            "  0.         0.         0.         0.        ]\n",
            " [0.         0.         0.         0.         0.         0.\n",
            "  0.         0.         0.         0.         0.         0.\n",
            "  0.1372549  0.94509804 0.88235294 0.62745098 0.42352941 0.00392157\n",
            "  0.         0.         0.         0.         0.         0.\n",
            "  0.         0.         0.         0.        ]\n",
            " [0.         0.         0.         0.         0.         0.\n",
            "  0.         0.         0.         0.         0.         0.\n",
            "  0.         0.31764706 0.94117647 0.99215686 0.99215686 0.46666667\n",
            "  0.09803922 0.         0.         0.         0.         0.\n",
            "  0.         0.         0.         0.        ]\n",
            " [0.         0.         0.         0.         0.         0.\n",
            "  0.         0.         0.         0.         0.         0.\n",
            "  0.         0.         0.17647059 0.72941176 0.99215686 0.99215686\n",
            "  0.58823529 0.10588235 0.         0.         0.         0.\n",
            "  0.         0.         0.         0.        ]\n",
            " [0.         0.         0.         0.         0.         0.\n",
            "  0.         0.         0.         0.         0.         0.\n",
            "  0.         0.         0.         0.0627451  0.36470588 0.98823529\n",
            "  0.99215686 0.73333333 0.         0.         0.         0.\n",
            "  0.         0.         0.         0.        ]\n",
            " [0.         0.         0.         0.         0.         0.\n",
            "  0.         0.         0.         0.         0.         0.\n",
            "  0.         0.         0.         0.         0.         0.97647059\n",
            "  0.99215686 0.97647059 0.25098039 0.         0.         0.\n",
            "  0.         0.         0.         0.        ]\n",
            " [0.         0.         0.         0.         0.         0.\n",
            "  0.         0.         0.         0.         0.         0.\n",
            "  0.         0.         0.18039216 0.50980392 0.71764706 0.99215686\n",
            "  0.99215686 0.81176471 0.00784314 0.         0.         0.\n",
            "  0.         0.         0.         0.        ]\n",
            " [0.         0.         0.         0.         0.         0.\n",
            "  0.         0.         0.         0.         0.         0.\n",
            "  0.15294118 0.58039216 0.89803922 0.99215686 0.99215686 0.99215686\n",
            "  0.98039216 0.71372549 0.         0.         0.         0.\n",
            "  0.         0.         0.         0.        ]\n",
            " [0.         0.         0.         0.         0.         0.\n",
            "  0.         0.         0.         0.         0.09411765 0.44705882\n",
            "  0.86666667 0.99215686 0.99215686 0.99215686 0.99215686 0.78823529\n",
            "  0.30588235 0.         0.         0.         0.         0.\n",
            "  0.         0.         0.         0.        ]\n",
            " [0.         0.         0.         0.         0.         0.\n",
            "  0.         0.         0.09019608 0.25882353 0.83529412 0.99215686\n",
            "  0.99215686 0.99215686 0.99215686 0.77647059 0.31764706 0.00784314\n",
            "  0.         0.         0.         0.         0.         0.\n",
            "  0.         0.         0.         0.        ]\n",
            " [0.         0.         0.         0.         0.         0.\n",
            "  0.07058824 0.67058824 0.85882353 0.99215686 0.99215686 0.99215686\n",
            "  0.99215686 0.76470588 0.31372549 0.03529412 0.         0.\n",
            "  0.         0.         0.         0.         0.         0.\n",
            "  0.         0.         0.         0.        ]\n",
            " [0.         0.         0.         0.         0.21568627 0.6745098\n",
            "  0.88627451 0.99215686 0.99215686 0.99215686 0.99215686 0.95686275\n",
            "  0.52156863 0.04313725 0.         0.         0.         0.\n",
            "  0.         0.         0.         0.         0.         0.\n",
            "  0.         0.         0.         0.        ]\n",
            " [0.         0.         0.         0.         0.53333333 0.99215686\n",
            "  0.99215686 0.99215686 0.83137255 0.52941176 0.51764706 0.0627451\n",
            "  0.         0.         0.         0.         0.         0.\n",
            "  0.         0.         0.         0.         0.         0.\n",
            "  0.         0.         0.         0.        ]\n",
            " [0.         0.         0.         0.         0.         0.\n",
            "  0.         0.         0.         0.         0.         0.\n",
            "  0.         0.         0.         0.         0.         0.\n",
            "  0.         0.         0.         0.         0.         0.\n",
            "  0.         0.         0.         0.        ]\n",
            " [0.         0.         0.         0.         0.         0.\n",
            "  0.         0.         0.         0.         0.         0.\n",
            "  0.         0.         0.         0.         0.         0.\n",
            "  0.         0.         0.         0.         0.         0.\n",
            "  0.         0.         0.         0.        ]\n",
            " [0.         0.         0.         0.         0.         0.\n",
            "  0.         0.         0.         0.         0.         0.\n",
            "  0.         0.         0.         0.         0.         0.\n",
            "  0.         0.         0.         0.         0.         0.\n",
            "  0.         0.         0.         0.        ]]\n"
          ]
        }
      ],
      "source": [
        "#Checking what x_train looks like after normalization\n",
        "print(x_train[0])"
      ]
    },
    {
      "cell_type": "code",
      "execution_count": null,
      "metadata": {
        "colab": {
          "base_uri": "https://localhost:8080/"
        },
        "id": "Jk9MEjiiHHDb",
        "outputId": "cefe78e5-ebc5-4717-9ad3-f258fb96253f"
      },
      "outputs": [
        {
          "name": "stdout",
          "output_type": "stream",
          "text": [
            "(60000, 784)\n"
          ]
        }
      ],
      "source": [
        "#Reshaping our X Data\n",
        "x_train = x_train.reshape(x_train.shape[0],-1)\n",
        "x_test = x_test.reshape(x_test.shape[0],-1)\n",
        "\n",
        "print(x_train.shape)\n",
        "\n",
        "#We are turning our 2D array into 1 long vector, the -1 in the reshape code makes that happen."
      ]
    },
    {
      "cell_type": "markdown",
      "metadata": {
        "id": "MMjStKSIiviK"
      },
      "source": [
        "# **Benchmark**"
      ]
    },
    {
      "cell_type": "markdown",
      "metadata": {
        "id": "uI0rMQgyiviR"
      },
      "source": [
        "## Task 3: Build a Classifier using MLP\n",
        "The layer is the most fundamental component of a neural network. Data is put into layers, and they extract representations from it. Choose the number of stacking layers so that model representations should, be useful for the given task."
      ]
    },
    {
      "cell_type": "code",
      "execution_count": null,
      "metadata": {
        "colab": {
          "base_uri": "https://localhost:8080/",
          "height": 70
        },
        "id": "7KWFVdJsiviS",
        "outputId": "cd8cdc7b-1123-4b36-9d49-5803a251a706"
      },
      "outputs": [
        {
          "data": {
            "application/vnd.google.colaboratory.intrinsic+json": {
              "type": "string"
            },
            "text/plain": [
              "'\\nThe parameters above were chosen by replicating the clothes classification model.\\nThis notebook aims to create a benchmark of the MNIST model so that we can compare its results to other models made.\\n'"
            ]
          },
          "execution_count": 14,
          "metadata": {},
          "output_type": "execute_result"
        }
      ],
      "source": [
        "#Creating the neural network for the classifier model\n",
        "\n",
        "#Random seed with key 42 was established for reproducibility.\n",
        "tf.random.set_seed(42)\n",
        "\n",
        "#Creating a sequential model using Keras. Sequential model linearly stacks layers one after another.\n",
        "model = tf.keras.Sequential()\n",
        "\n",
        "#We can skip flattening the array since we did that in the preprocessing stage.\n",
        "\n",
        "#Creating 2 dense hidden layers of 128, and using the ReLu activation.\n",
        "#ReLu was used due to its non-linearity properties and efficiency.\n",
        "#input shape 784 was from multiplying 28 and 28.\n",
        "model.add(tf.keras.layers.Dense(128, activation=\"relu\", input_shape=(784,)))\n",
        "model.add(tf.keras.layers.Dense(128, activation=\"relu\"))\n",
        "\n",
        "#Creating a droupout layer to help prevent overfitting\n",
        "#Dropout 0.25 means that we are dropping out 25% of our input units randomly.\n",
        "model.add(tf.keras.layers.Dropout(0.25))\n",
        "\n",
        "#Creating the final output layer, which classifies the images from 0 to 9.\n",
        "#Softmax activation is used for multiclass classfication and as the output layer.\n",
        "model.add(tf.keras.layers.Dense(10, activation=\"softmax\"))\n",
        "\n",
        "'''\n",
        "The parameters above were chosen by replicating the clothes classification model.\n",
        "This notebook aims to create a benchmark of the MNIST model so that we can compare its results to other models made.\n",
        "'''"
      ]
    },
    {
      "cell_type": "code",
      "execution_count": null,
      "metadata": {
        "colab": {
          "base_uri": "https://localhost:8080/"
        },
        "id": "CKG9RPIdiviS",
        "outputId": "1d611c7c-013f-41b9-ac8d-4cf339fd13f5"
      },
      "outputs": [
        {
          "name": "stdout",
          "output_type": "stream",
          "text": [
            "Model: \"sequential\"\n",
            "_________________________________________________________________\n",
            " Layer (type)                Output Shape              Param #   \n",
            "=================================================================\n",
            " dense (Dense)               (None, 128)               100480    \n",
            "                                                                 \n",
            " dense_1 (Dense)             (None, 128)               16512     \n",
            "                                                                 \n",
            " dropout (Dropout)           (None, 128)               0         \n",
            "                                                                 \n",
            " dense_2 (Dense)             (None, 10)                1290      \n",
            "                                                                 \n",
            "=================================================================\n",
            "Total params: 118282 (462.04 KB)\n",
            "Trainable params: 118282 (462.04 KB)\n",
            "Non-trainable params: 0 (0.00 Byte)\n",
            "_________________________________________________________________\n"
          ]
        }
      ],
      "source": [
        "#Showing a summary of the model created.\n",
        "model.summary()"
      ]
    },
    {
      "cell_type": "markdown",
      "metadata": {
        "id": "-WPA-ffGiviS"
      },
      "source": [
        "## Task 4: Compile the Model\n",
        "A few more parameters are required before the model can be used for training.\n",
        "\n",
        "These are added at the build step of the model: Choose these parameters.\n",
        "\n",
        "Loss function\n",
        "\n",
        "Optimizer\n",
        "\n",
        "Metrics"
      ]
    },
    {
      "cell_type": "code",
      "execution_count": null,
      "metadata": {
        "id": "oZU59QD6iviS"
      },
      "outputs": [],
      "source": [
        "#Compiling the model by configuring the loss, optimizer, and metrics paramters.\n",
        "model.compile(loss=\"categorical_crossentropy\",\n",
        "             optimizer = \"adam\",\n",
        "             metrics=['accuracy'])\n",
        "\n",
        "#Trying Categorical Crossentropy since this is multi-class classification and the data is encoded. The loss is also on a Logarithmic scale, so the model penalizes confident but incorrect predictions more heavily.\n",
        "#adam is an extension of SGD and is designed to overcome the limitations of sgd.\n",
        "# Accuracy was used as a metric to evaluate the model's success."
      ]
    },
    {
      "cell_type": "markdown",
      "metadata": {
        "id": "ZkA_C49PiviS"
      },
      "source": [
        "## Task 5: Train and Test the model.\n",
        "a. Feed the training data to the built model.\n",
        "\n",
        "b. Ask model to make predictions about a test set.\n",
        "\n",
        "c. Verify that the predictions match the labels from the test labels."
      ]
    },
    {
      "cell_type": "code",
      "execution_count": null,
      "metadata": {
        "colab": {
          "base_uri": "https://localhost:8080/"
        },
        "id": "fRIhcCoRiviS",
        "outputId": "a3c07709-6b41-4b74-e51e-4d92b5b83bf3"
      },
      "outputs": [
        {
          "name": "stdout",
          "output_type": "stream",
          "text": [
            "Epoch 1/20\n",
            "118/118 [==============================] - 4s 20ms/step - loss: 0.6139 - accuracy: 0.8206 - val_loss: 0.2281 - val_accuracy: 0.9345\n",
            "Epoch 2/20\n",
            "118/118 [==============================] - 2s 18ms/step - loss: 0.2228 - accuracy: 0.9355 - val_loss: 0.1578 - val_accuracy: 0.9540\n",
            "Epoch 3/20\n",
            "118/118 [==============================] - 2s 20ms/step - loss: 0.1601 - accuracy: 0.9539 - val_loss: 0.1292 - val_accuracy: 0.9614\n",
            "Epoch 4/20\n",
            "118/118 [==============================] - 3s 26ms/step - loss: 0.1275 - accuracy: 0.9621 - val_loss: 0.1104 - val_accuracy: 0.9664\n",
            "Epoch 5/20\n",
            "118/118 [==============================] - 2s 20ms/step - loss: 0.1077 - accuracy: 0.9682 - val_loss: 0.1005 - val_accuracy: 0.9685\n",
            "Epoch 6/20\n",
            "118/118 [==============================] - 2s 20ms/step - loss: 0.0918 - accuracy: 0.9725 - val_loss: 0.0918 - val_accuracy: 0.9723\n",
            "Epoch 7/20\n",
            "118/118 [==============================] - 2s 19ms/step - loss: 0.0792 - accuracy: 0.9765 - val_loss: 0.0902 - val_accuracy: 0.9726\n",
            "Epoch 8/20\n",
            "118/118 [==============================] - 2s 17ms/step - loss: 0.0709 - accuracy: 0.9791 - val_loss: 0.0821 - val_accuracy: 0.9744\n",
            "Epoch 9/20\n",
            "118/118 [==============================] - 3s 23ms/step - loss: 0.0608 - accuracy: 0.9821 - val_loss: 0.0809 - val_accuracy: 0.9739\n",
            "Epoch 10/20\n",
            "118/118 [==============================] - 3s 25ms/step - loss: 0.0542 - accuracy: 0.9835 - val_loss: 0.0787 - val_accuracy: 0.9746\n",
            "Epoch 11/20\n",
            "118/118 [==============================] - 1s 11ms/step - loss: 0.0506 - accuracy: 0.9850 - val_loss: 0.0753 - val_accuracy: 0.9763\n",
            "Epoch 12/20\n",
            "118/118 [==============================] - 1s 9ms/step - loss: 0.0448 - accuracy: 0.9862 - val_loss: 0.0803 - val_accuracy: 0.9738\n",
            "Epoch 13/20\n",
            "118/118 [==============================] - 1s 10ms/step - loss: 0.0404 - accuracy: 0.9879 - val_loss: 0.0717 - val_accuracy: 0.9784\n",
            "Epoch 14/20\n",
            "118/118 [==============================] - 1s 9ms/step - loss: 0.0355 - accuracy: 0.9892 - val_loss: 0.0735 - val_accuracy: 0.9775\n",
            "Epoch 15/20\n",
            "118/118 [==============================] - 1s 9ms/step - loss: 0.0334 - accuracy: 0.9898 - val_loss: 0.0795 - val_accuracy: 0.9761\n",
            "Epoch 16/20\n",
            "118/118 [==============================] - 1s 9ms/step - loss: 0.0291 - accuracy: 0.9912 - val_loss: 0.0726 - val_accuracy: 0.9788\n",
            "Epoch 17/20\n",
            "118/118 [==============================] - 1s 10ms/step - loss: 0.0263 - accuracy: 0.9922 - val_loss: 0.0737 - val_accuracy: 0.9767\n",
            "Epoch 18/20\n",
            "118/118 [==============================] - 1s 10ms/step - loss: 0.0256 - accuracy: 0.9918 - val_loss: 0.0801 - val_accuracy: 0.9774\n",
            "Epoch 19/20\n",
            "118/118 [==============================] - 1s 10ms/step - loss: 0.0223 - accuracy: 0.9931 - val_loss: 0.0748 - val_accuracy: 0.9788\n",
            "Epoch 20/20\n",
            "118/118 [==============================] - 2s 15ms/step - loss: 0.0207 - accuracy: 0.9937 - val_loss: 0.0790 - val_accuracy: 0.9780\n"
          ]
        }
      ],
      "source": [
        "#Training the model with 20 epochs.\n",
        "#20 epochs will be used across all notebooks for the MNIST dataset for uniformity.\n",
        "history = model.fit(x_train, y_train, epochs=20, validation_data=(x_test, y_test), batch_size=512)\n",
        "\n",
        "#A mini batch was selected to make the training less computationally expensive. A batch size of 512 means that we are processing 512 examples from the training dataset."
      ]
    },
    {
      "cell_type": "code",
      "execution_count": null,
      "metadata": {
        "colab": {
          "base_uri": "https://localhost:8080/",
          "height": 447
        },
        "id": "q9k0uLmEiviT",
        "outputId": "3af9dc82-6869-4ca3-c70f-bde2e01fe1f7"
      },
      "outputs": [
        {
          "data": {
            "text/plain": [
              "[<matplotlib.lines.Line2D at 0x7b42283edab0>]"
            ]
          },
          "execution_count": 18,
          "metadata": {},
          "output_type": "execute_result"
        },
        {
          "data": {
            "image/png": "[encoded data removed]",
            "text/plain": [
              "<Figure size 640x480 with 1 Axes>"
            ]
          },
          "metadata": {},
          "output_type": "display_data"
        }
      ],
      "source": [
        "#Visualising the training loss and validation loss of the model\n",
        "\n",
        "plt.plot(history.history['loss'])\n",
        "plt.plot(history.history['val_loss'])\n",
        "\n",
        "#We can see that around 5 epochs, the test and validation losses were around the same."
      ]
    },
    {
      "cell_type": "code",
      "execution_count": null,
      "metadata": {
        "colab": {
          "base_uri": "https://localhost:8080/"
        },
        "id": "PXJnlLEaiviT",
        "outputId": "9f504167-cecc-4762-b5e3-169f7c27df5c"
      },
      "outputs": [
        {
          "name": "stdout",
          "output_type": "stream",
          "text": [
            "313/313 [==============================] - 1s 2ms/step - loss: 0.0790 - accuracy: 0.9780\n"
          ]
        },
        {
          "data": {
            "text/plain": [
              "[0.07899697870016098, 0.9779999852180481]"
            ]
          },
          "execution_count": 19,
          "metadata": {},
          "output_type": "execute_result"
        }
      ],
      "source": [
        "#Evaluating the test loss and accuracy of the model.\n",
        "model.evaluate(x_test, y_test)\n",
        "\n",
        "#The decrease of neurons in the second layer seemed to slightly improve loss and slightly decrease accuracy."
      ]
    },
    {
      "cell_type": "markdown",
      "metadata": {
        "id": "aQID-Tj8N7hj"
      },
      "source": [
        "# **Test 1: Decrease Neurons in Second Layer**\n",
        "\n",
        "Second layer neurons from 128 to 100"
      ]
    },
    {
      "cell_type": "markdown",
      "metadata": {
        "id": "YiIz4NUG1wmY"
      },
      "source": [
        "## Task 3: Build a Classifier using MLP\n",
        "The layer is the most fundamental component of a neural network. Data is put into layers, and they extract representations from it. Choose the number of stacking layers so that model representations should, be useful for the given task."
      ]
    },
    {
      "cell_type": "code",
      "execution_count": null,
      "metadata": {
        "colab": {
          "base_uri": "https://localhost:8080/",
          "height": 70
        },
        "id": "qZ7pDuJrzASU",
        "outputId": "46e83fb0-52ec-4625-b2ea-724e0fa27a11"
      },
      "outputs": [
        {
          "data": {
            "application/vnd.google.colaboratory.intrinsic+json": {
              "type": "string"
            },
            "text/plain": [
              "'\\nThe parameters above were chosen by replicating the clothes classification model.\\nThis notebook aims to create a benchmark of the MNIST model so that we can compare its results to other models made.\\n'"
            ]
          },
          "execution_count": 20,
          "metadata": {},
          "output_type": "execute_result"
        }
      ],
      "source": [
        "#Creating the neural network for the classifier model\n",
        "\n",
        "#Random seed with key 42 was established for reproducibility.\n",
        "tf.random.set_seed(42)\n",
        "\n",
        "#Creating a sequential model using Keras. Sequential model linearly stacks layers one after another.\n",
        "model = tf.keras.Sequential()\n",
        "\n",
        "#We can skip flattening the array since we did that in the preprocessing stage.\n",
        "\n",
        "#Creating 2 dense hidden layers of 128, and using the ReLu activation.\n",
        "#ReLu was used due to its non-linearity properties and efficiency.\n",
        "#input shape 784 was from multiplying 28 and 28.\n",
        "model.add(tf.keras.layers.Dense(128, activation=\"relu\", input_shape=(784,)))\n",
        "model.add(tf.keras.layers.Dense(100, activation=\"relu\"))\n",
        "\n",
        "#Creating a droupout layer to help prevent overfitting\n",
        "#Dropout 0.25 means that we are dropping out 25% of our input units randomly.\n",
        "model.add(tf.keras.layers.Dropout(0.25))\n",
        "\n",
        "#Creating the final output layer, which classifies the images from 0 to 9.\n",
        "#Softmax activation is used for multiclass classfication and as the output layer.\n",
        "model.add(tf.keras.layers.Dense(10, activation=\"softmax\"))\n",
        "\n",
        "'''\n",
        "The parameters above were chosen by replicating the clothes classification model.\n",
        "This notebook aims to create a benchmark of the MNIST model so that we can compare its results to other models made.\n",
        "'''"
      ]
    },
    {
      "cell_type": "code",
      "execution_count": null,
      "metadata": {
        "colab": {
          "base_uri": "https://localhost:8080/"
        },
        "id": "RSHiywcJ1ze-",
        "outputId": "7d9f5ba6-96f2-47c5-f0f8-097669f82a77"
      },
      "outputs": [
        {
          "name": "stdout",
          "output_type": "stream",
          "text": [
            "Model: \"sequential_1\"\n",
            "_________________________________________________________________\n",
            " Layer (type)                Output Shape              Param #   \n",
            "=================================================================\n",
            " dense_3 (Dense)             (None, 128)               100480    \n",
            "                                                                 \n",
            " dense_4 (Dense)             (None, 100)               12900     \n",
            "                                                                 \n",
            " dropout_1 (Dropout)         (None, 100)               0         \n",
            "                                                                 \n",
            " dense_5 (Dense)             (None, 10)                1010      \n",
            "                                                                 \n",
            "=================================================================\n",
            "Total params: 114390 (446.84 KB)\n",
            "Trainable params: 114390 (446.84 KB)\n",
            "Non-trainable params: 0 (0.00 Byte)\n",
            "_________________________________________________________________\n"
          ]
        }
      ],
      "source": [
        "#Showing a summary of the model created.\n",
        "model.summary()"
      ]
    },
    {
      "cell_type": "markdown",
      "metadata": {
        "id": "Egh5XHmL1_mw"
      },
      "source": [
        "## Task 4: Compile the Model\n",
        "A few more parameters are required before the model can be used for training.\n",
        "\n",
        "These are added at the build step of the model: Choose these parameters.\n",
        "\n",
        "Loss function\n",
        "\n",
        "Optimizer\n",
        "\n",
        "Metrics"
      ]
    },
    {
      "cell_type": "code",
      "execution_count": null,
      "metadata": {
        "id": "4-z0nfb010sQ"
      },
      "outputs": [],
      "source": [
        "#Compiling the model by configuring the loss, optimizer, and metrics paramters.\n",
        "model.compile(loss=\"categorical_crossentropy\",\n",
        "             optimizer = \"adam\",\n",
        "             metrics=['accuracy'])\n",
        "\n",
        "#Trying Categorical Crossentropy since this is multi-class classification and the data is encoded. The loss is also on a Logarithmic scale, so the model penalizes confident but incorrect predictions more heavily.\n",
        "#adam is an extension of SGD and is designed to overcome the limitations of sgd.\n",
        "# Accuracy was used as a metric to evaluate the model's success."
      ]
    },
    {
      "cell_type": "markdown",
      "metadata": {
        "id": "KItBLs0M2DKH"
      },
      "source": [
        "## Task 5: Train and Test the model.\n",
        "a. Feed the training data to the built model.\n",
        "\n",
        "b. Ask model to make predictions about a test set.\n",
        "\n",
        "c. Verify that the predictions match the labels from the test labels."
      ]
    },
    {
      "cell_type": "code",
      "execution_count": null,
      "metadata": {
        "colab": {
          "base_uri": "https://localhost:8080/"
        },
        "id": "JrxLHr041-Ap",
        "outputId": "d8de3cc3-e084-4133-ef8e-7d83b0098375"
      },
      "outputs": [
        {
          "name": "stdout",
          "output_type": "stream",
          "text": [
            "Epoch 1/20\n",
            "118/118 [==============================] - 2s 11ms/step - loss: 0.6204 - accuracy: 0.8196 - val_loss: 0.2448 - val_accuracy: 0.9298\n",
            "Epoch 2/20\n",
            "118/118 [==============================] - 1s 10ms/step - loss: 0.2411 - accuracy: 0.9303 - val_loss: 0.1624 - val_accuracy: 0.9529\n",
            "Epoch 3/20\n",
            "118/118 [==============================] - 1s 9ms/step - loss: 0.1760 - accuracy: 0.9495 - val_loss: 0.1350 - val_accuracy: 0.9582\n",
            "Epoch 4/20\n",
            "118/118 [==============================] - 1s 10ms/step - loss: 0.1440 - accuracy: 0.9580 - val_loss: 0.1163 - val_accuracy: 0.9644\n",
            "Epoch 5/20\n",
            "118/118 [==============================] - 1s 9ms/step - loss: 0.1200 - accuracy: 0.9652 - val_loss: 0.1069 - val_accuracy: 0.9662\n",
            "Epoch 6/20\n",
            "118/118 [==============================] - 1s 10ms/step - loss: 0.1025 - accuracy: 0.9700 - val_loss: 0.0978 - val_accuracy: 0.9697\n",
            "Epoch 7/20\n",
            "118/118 [==============================] - 1s 9ms/step - loss: 0.0891 - accuracy: 0.9740 - val_loss: 0.0890 - val_accuracy: 0.9724\n",
            "Epoch 8/20\n",
            "118/118 [==============================] - 1s 13ms/step - loss: 0.0802 - accuracy: 0.9762 - val_loss: 0.0874 - val_accuracy: 0.9713\n",
            "Epoch 9/20\n",
            "118/118 [==============================] - 2s 15ms/step - loss: 0.0693 - accuracy: 0.9789 - val_loss: 0.0834 - val_accuracy: 0.9750\n",
            "Epoch 10/20\n",
            "118/118 [==============================] - 1s 9ms/step - loss: 0.0618 - accuracy: 0.9810 - val_loss: 0.0802 - val_accuracy: 0.9750\n",
            "Epoch 11/20\n",
            "118/118 [==============================] - 1s 9ms/step - loss: 0.0573 - accuracy: 0.9829 - val_loss: 0.0744 - val_accuracy: 0.9776\n",
            "Epoch 12/20\n",
            "118/118 [==============================] - 1s 9ms/step - loss: 0.0496 - accuracy: 0.9850 - val_loss: 0.0745 - val_accuracy: 0.9767\n",
            "Epoch 13/20\n",
            "118/118 [==============================] - 1s 9ms/step - loss: 0.0437 - accuracy: 0.9867 - val_loss: 0.0715 - val_accuracy: 0.9788\n",
            "Epoch 14/20\n",
            "118/118 [==============================] - 1s 10ms/step - loss: 0.0399 - accuracy: 0.9882 - val_loss: 0.0704 - val_accuracy: 0.9783\n",
            "Epoch 15/20\n",
            "118/118 [==============================] - 1s 10ms/step - loss: 0.0364 - accuracy: 0.9891 - val_loss: 0.0733 - val_accuracy: 0.9768\n",
            "Epoch 16/20\n",
            "118/118 [==============================] - 1s 9ms/step - loss: 0.0323 - accuracy: 0.9901 - val_loss: 0.0702 - val_accuracy: 0.9794\n",
            "Epoch 17/20\n",
            "118/118 [==============================] - 1s 9ms/step - loss: 0.0279 - accuracy: 0.9915 - val_loss: 0.0686 - val_accuracy: 0.9782\n",
            "Epoch 18/20\n",
            "118/118 [==============================] - 1s 9ms/step - loss: 0.0273 - accuracy: 0.9912 - val_loss: 0.0716 - val_accuracy: 0.9795\n",
            "Epoch 19/20\n",
            "118/118 [==============================] - 2s 14ms/step - loss: 0.0253 - accuracy: 0.9926 - val_loss: 0.0709 - val_accuracy: 0.9794\n",
            "Epoch 20/20\n",
            "118/118 [==============================] - 2s 14ms/step - loss: 0.0232 - accuracy: 0.9929 - val_loss: 0.0724 - val_accuracy: 0.9783\n"
          ]
        }
      ],
      "source": [
        "#Training the model with 20 epochs.\n",
        "#20 epochs will be used across all notebooks for the MNIST dataset for uniformity.\n",
        "history = model.fit(x_train, y_train, epochs=20, validation_data=(x_test, y_test), batch_size=512)\n",
        "\n",
        "#A mini batch was selected to make the training less computationally expensive. A batch size of 512 means that we are processing 512 examples from the training dataset."
      ]
    },
    {
      "cell_type": "code",
      "execution_count": null,
      "metadata": {
        "colab": {
          "base_uri": "https://localhost:8080/",
          "height": 447
        },
        "id": "nFrBsY-c2PZD",
        "outputId": "6395ea01-d6f2-4022-ab51-db273c08b5e2"
      },
      "outputs": [
        {
          "data": {
            "text/plain": [
              "[<matplotlib.lines.Line2D at 0x7b4238985ae0>]"
            ]
          },
          "execution_count": 24,
          "metadata": {},
          "output_type": "execute_result"
        },
        {
          "data": {
            "image/png": "[encoded data removed]",
            "text/plain": [
              "<Figure size 640x480 with 1 Axes>"
            ]
          },
          "metadata": {},
          "output_type": "display_data"
        }
      ],
      "source": [
        "#Visualising the training loss and validation loss of the model\n",
        "\n",
        "plt.plot(history.history['loss'])\n",
        "plt.plot(history.history['val_loss'])\n",
        "\n",
        "#We can see that around 5 epochs, the test and validation losses were around the same."
      ]
    },
    {
      "cell_type": "code",
      "execution_count": null,
      "metadata": {
        "colab": {
          "base_uri": "https://localhost:8080/"
        },
        "id": "eSxsSoHz2RuY",
        "outputId": "72f348d0-23e8-4058-fd48-5260293e38ab"
      },
      "outputs": [
        {
          "name": "stdout",
          "output_type": "stream",
          "text": [
            "313/313 [==============================] - 1s 2ms/step - loss: 0.0724 - accuracy: 0.9783\n"
          ]
        },
        {
          "data": {
            "text/plain": [
              "[0.07242457568645477, 0.9782999753952026]"
            ]
          },
          "execution_count": 25,
          "metadata": {},
          "output_type": "execute_result"
        }
      ],
      "source": [
        "#Evaluating the test loss and accuracy of the model.\n",
        "model.evaluate(x_test, y_test)\n",
        "\n",
        "#The decrease of neurons in the second layer seemed to slightly improve loss and slightly decrease accuracy."
      ]
    },
    {
      "cell_type": "markdown",
      "metadata": {
        "id": "vCJVPZYhOX9Y"
      },
      "source": [
        "# **Test 2: Increase Neurons in Second Layer**\n",
        "\n",
        "Second layer neurons from 128 to 156"
      ]
    },
    {
      "cell_type": "markdown",
      "metadata": {
        "id": "yCPg8MHyOX9Y"
      },
      "source": [
        "## Task 3: Build a Classifier using MLP\n",
        "The layer is the most fundamental component of a neural network. Data is put into layers, and they extract representations from it. Choose the number of stacking layers so that model representations should, be useful for the given task."
      ]
    },
    {
      "cell_type": "code",
      "execution_count": null,
      "metadata": {
        "colab": {
          "base_uri": "https://localhost:8080/",
          "height": 70
        },
        "id": "NFQsOgPJOX9Z",
        "outputId": "848332af-f6e5-410d-8e42-c7ff602c2c0f"
      },
      "outputs": [
        {
          "data": {
            "application/vnd.google.colaboratory.intrinsic+json": {
              "type": "string"
            },
            "text/plain": [
              "'\\nThe parameters above were chosen by replicating the clothes classification model.\\nThis notebook aims to create a benchmark of the MNIST model so that we can compare its results to other models made.\\n'"
            ]
          },
          "execution_count": 26,
          "metadata": {},
          "output_type": "execute_result"
        }
      ],
      "source": [
        "#Creating the neural network for the classifier model\n",
        "\n",
        "#Random seed with key 42 was established for reproducibility.\n",
        "tf.random.set_seed(42)\n",
        "\n",
        "#Creating a sequential model using Keras. Sequential model linearly stacks layers one after another.\n",
        "model = tf.keras.Sequential()\n",
        "\n",
        "#We can skip flattening the array since we did that in the preprocessing stage.\n",
        "\n",
        "#Creating 2 dense hidden layers of 128, and using the ReLu activation.\n",
        "#ReLu was used due to its non-linearity properties and efficiency.\n",
        "#input shape 784 was from multiplying 28 and 28.\n",
        "model.add(tf.keras.layers.Dense(128, activation=\"relu\", input_shape=(784,)))\n",
        "model.add(tf.keras.layers.Dense(156, activation=\"relu\"))\n",
        "\n",
        "#Creating a droupout layer to help prevent overfitting\n",
        "#Dropout 0.25 means that we are dropping out 25% of our input units randomly.\n",
        "model.add(tf.keras.layers.Dropout(0.25))\n",
        "\n",
        "#Creating the final output layer, which classifies the images from 0 to 9.\n",
        "#Softmax activation is used for multiclass classfication and as the output layer.\n",
        "model.add(tf.keras.layers.Dense(10, activation=\"softmax\"))\n",
        "\n",
        "'''\n",
        "The parameters above were chosen by replicating the clothes classification model.\n",
        "This notebook aims to create a benchmark of the MNIST model so that we can compare its results to other models made.\n",
        "'''"
      ]
    },
    {
      "cell_type": "code",
      "execution_count": null,
      "metadata": {
        "colab": {
          "base_uri": "https://localhost:8080/"
        },
        "id": "po8AKAI7OX9Z",
        "outputId": "1f4e5538-f8cb-4f5a-86a1-2ef305512531"
      },
      "outputs": [
        {
          "name": "stdout",
          "output_type": "stream",
          "text": [
            "Model: \"sequential_2\"\n",
            "_________________________________________________________________\n",
            " Layer (type)                Output Shape              Param #   \n",
            "=================================================================\n",
            " dense_6 (Dense)             (None, 128)               100480    \n",
            "                                                                 \n",
            " dense_7 (Dense)             (None, 156)               20124     \n",
            "                                                                 \n",
            " dropout_2 (Dropout)         (None, 156)               0         \n",
            "                                                                 \n",
            " dense_8 (Dense)             (None, 10)                1570      \n",
            "                                                                 \n",
            "=================================================================\n",
            "Total params: 122174 (477.24 KB)\n",
            "Trainable params: 122174 (477.24 KB)\n",
            "Non-trainable params: 0 (0.00 Byte)\n",
            "_________________________________________________________________\n"
          ]
        }
      ],
      "source": [
        "#Showing a summary of the model created.\n",
        "model.summary()"
      ]
    },
    {
      "cell_type": "markdown",
      "metadata": {
        "id": "vA9XG6FJOX9a"
      },
      "source": [
        "## Task 4: Compile the Model\n",
        "A few more parameters are required before the model can be used for training.\n",
        "\n",
        "These are added at the build step of the model: Choose these parameters.\n",
        "\n",
        "Loss function\n",
        "\n",
        "Optimizer\n",
        "\n",
        "Metrics"
      ]
    },
    {
      "cell_type": "code",
      "execution_count": null,
      "metadata": {
        "id": "jIxSsu1JOX9a"
      },
      "outputs": [],
      "source": [
        "#Compiling the model by configuring the loss, optimizer, and metrics paramters.\n",
        "model.compile(loss=\"categorical_crossentropy\",\n",
        "             optimizer = \"adam\",\n",
        "             metrics=['accuracy'])\n",
        "\n",
        "#Trying Categorical Crossentropy since this is multi-class classification and the data is encoded. The loss is also on a Logarithmic scale, so the model penalizes confident but incorrect predictions more heavily.\n",
        "#adam is an extension of SGD and is designed to overcome the limitations of sgd.\n",
        "# Accuracy was used as a metric to evaluate the model's success."
      ]
    },
    {
      "cell_type": "markdown",
      "metadata": {
        "id": "U9ONnsnsOX9a"
      },
      "source": [
        "## Task 5: Train and Test the model.\n",
        "a. Feed the training data to the built model.\n",
        "\n",
        "b. Ask model to make predictions about a test set.\n",
        "\n",
        "c. Verify that the predictions match the labels from the test labels."
      ]
    },
    {
      "cell_type": "code",
      "execution_count": null,
      "metadata": {
        "colab": {
          "base_uri": "https://localhost:8080/"
        },
        "id": "Tbco5a5eOX9a",
        "outputId": "a01087ad-ffb5-48a7-cf0b-1d59292fd73f"
      },
      "outputs": [
        {
          "name": "stdout",
          "output_type": "stream",
          "text": [
            "Epoch 1/20\n",
            "118/118 [==============================] - 2s 12ms/step - loss: 0.5900 - accuracy: 0.8291 - val_loss: 0.2273 - val_accuracy: 0.9330\n",
            "Epoch 2/20\n",
            "118/118 [==============================] - 1s 10ms/step - loss: 0.2161 - accuracy: 0.9371 - val_loss: 0.1513 - val_accuracy: 0.9548\n",
            "Epoch 3/20\n",
            "118/118 [==============================] - 1s 10ms/step - loss: 0.1534 - accuracy: 0.9553 - val_loss: 0.1185 - val_accuracy: 0.9631\n",
            "Epoch 4/20\n",
            "118/118 [==============================] - 1s 10ms/step - loss: 0.1208 - accuracy: 0.9638 - val_loss: 0.1017 - val_accuracy: 0.9684\n",
            "Epoch 5/20\n",
            "118/118 [==============================] - 1s 10ms/step - loss: 0.0985 - accuracy: 0.9699 - val_loss: 0.0906 - val_accuracy: 0.9724\n",
            "Epoch 6/20\n",
            "118/118 [==============================] - 1s 10ms/step - loss: 0.0833 - accuracy: 0.9748 - val_loss: 0.0838 - val_accuracy: 0.9737\n",
            "Epoch 7/20\n",
            "118/118 [==============================] - 2s 14ms/step - loss: 0.0703 - accuracy: 0.9790 - val_loss: 0.0797 - val_accuracy: 0.9744\n",
            "Epoch 8/20\n",
            "118/118 [==============================] - 2s 15ms/step - loss: 0.0625 - accuracy: 0.9809 - val_loss: 0.0748 - val_accuracy: 0.9759\n",
            "Epoch 9/20\n",
            "118/118 [==============================] - 1s 10ms/step - loss: 0.0534 - accuracy: 0.9841 - val_loss: 0.0727 - val_accuracy: 0.9764\n",
            "Epoch 10/20\n",
            "118/118 [==============================] - 1s 10ms/step - loss: 0.0484 - accuracy: 0.9849 - val_loss: 0.0756 - val_accuracy: 0.9751\n",
            "Epoch 11/20\n",
            "118/118 [==============================] - 1s 10ms/step - loss: 0.0419 - accuracy: 0.9874 - val_loss: 0.0687 - val_accuracy: 0.9779\n",
            "Epoch 12/20\n",
            "118/118 [==============================] - 1s 10ms/step - loss: 0.0369 - accuracy: 0.9894 - val_loss: 0.0720 - val_accuracy: 0.9772\n",
            "Epoch 13/20\n",
            "118/118 [==============================] - 1s 10ms/step - loss: 0.0324 - accuracy: 0.9901 - val_loss: 0.0669 - val_accuracy: 0.9788\n",
            "Epoch 14/20\n",
            "118/118 [==============================] - 1s 10ms/step - loss: 0.0273 - accuracy: 0.9920 - val_loss: 0.0650 - val_accuracy: 0.9797\n",
            "Epoch 15/20\n",
            "118/118 [==============================] - 1s 10ms/step - loss: 0.0261 - accuracy: 0.9923 - val_loss: 0.0693 - val_accuracy: 0.9791\n",
            "Epoch 16/20\n",
            "118/118 [==============================] - 1s 10ms/step - loss: 0.0250 - accuracy: 0.9922 - val_loss: 0.0735 - val_accuracy: 0.9781\n",
            "Epoch 17/20\n",
            "118/118 [==============================] - 2s 14ms/step - loss: 0.0192 - accuracy: 0.9943 - val_loss: 0.0669 - val_accuracy: 0.9794\n",
            "Epoch 18/20\n",
            "118/118 [==============================] - 2s 15ms/step - loss: 0.0183 - accuracy: 0.9947 - val_loss: 0.0713 - val_accuracy: 0.9791\n",
            "Epoch 19/20\n",
            "118/118 [==============================] - 2s 14ms/step - loss: 0.0172 - accuracy: 0.9947 - val_loss: 0.0692 - val_accuracy: 0.9809\n",
            "Epoch 20/20\n",
            "118/118 [==============================] - 1s 10ms/step - loss: 0.0155 - accuracy: 0.9954 - val_loss: 0.0754 - val_accuracy: 0.9789\n"
          ]
        }
      ],
      "source": [
        "#Training the model with 20 epochs.\n",
        "#20 epochs will be used across all notebooks for the MNIST dataset for uniformity.\n",
        "history = model.fit(x_train, y_train, epochs=20, validation_data=(x_test, y_test), batch_size=512)\n",
        "\n",
        "#A mini batch was selected to make the training less computationally expensive. A batch size of 512 means that we are processing 512 examples from the training dataset."
      ]
    },
    {
      "cell_type": "code",
      "execution_count": null,
      "metadata": {
        "colab": {
          "base_uri": "https://localhost:8080/",
          "height": 447
        },
        "id": "OMZCAzxNOX9a",
        "outputId": "ffc3a310-a293-4102-82ed-b3681b7406f4"
      },
      "outputs": [
        {
          "data": {
            "text/plain": [
              "[<matplotlib.lines.Line2D at 0x7b423ada7370>]"
            ]
          },
          "execution_count": 30,
          "metadata": {},
          "output_type": "execute_result"
        },
        {
          "data": {
            "image/png": "[encoded data removed]",
            "text/plain": [
              "<Figure size 640x480 with 1 Axes>"
            ]
          },
          "metadata": {},
          "output_type": "display_data"
        }
      ],
      "source": [
        "#Visualising the training loss and validation loss of the model\n",
        "\n",
        "plt.plot(history.history['loss'])\n",
        "plt.plot(history.history['val_loss'])\n",
        "\n",
        "#We can see that around 5 epochs, the test and validation losses were around the same."
      ]
    },
    {
      "cell_type": "code",
      "execution_count": null,
      "metadata": {
        "colab": {
          "base_uri": "https://localhost:8080/"
        },
        "id": "dbAehOljOX9a",
        "outputId": "b8d1e21c-8036-4779-9a5d-b8e747fe87f3"
      },
      "outputs": [
        {
          "name": "stdout",
          "output_type": "stream",
          "text": [
            "313/313 [==============================] - 1s 2ms/step - loss: 0.0754 - accuracy: 0.9789\n"
          ]
        },
        {
          "data": {
            "text/plain": [
              "[0.07540804147720337, 0.9789000153541565]"
            ]
          },
          "execution_count": 31,
          "metadata": {},
          "output_type": "execute_result"
        }
      ],
      "source": [
        "#Evaluating the test loss and accuracy of the model.\n",
        "model.evaluate(x_test, y_test)\n",
        "\n",
        "#The increase of neurons in the second layer seemed to slightly decreased accuracy and increased loss."
      ]
    },
    {
      "cell_type": "markdown",
      "metadata": {
        "id": "77TukMU5RHio"
      },
      "source": [
        "# **Test 3: Increase Neurons in First Layer**\n",
        "\n",
        "First layer neurons from 128 to 156"
      ]
    },
    {
      "cell_type": "markdown",
      "metadata": {
        "id": "brkWeB6vRHiw"
      },
      "source": [
        "## Task 3: Build a Classifier using MLP\n",
        "The layer is the most fundamental component of a neural network. Data is put into layers, and they extract representations from it. Choose the number of stacking layers so that model representations should, be useful for the given task."
      ]
    },
    {
      "cell_type": "code",
      "execution_count": null,
      "metadata": {
        "colab": {
          "base_uri": "https://localhost:8080/",
          "height": 70
        },
        "id": "5bMh5tx9RHiw",
        "outputId": "59da424a-21d8-4725-90dd-91af0383f1e1"
      },
      "outputs": [
        {
          "data": {
            "application/vnd.google.colaboratory.intrinsic+json": {
              "type": "string"
            },
            "text/plain": [
              "'\\nThe parameters above were chosen by replicating the clothes classification model.\\nThis notebook aims to create a benchmark of the MNIST model so that we can compare its results to other models made.\\n'"
            ]
          },
          "execution_count": 32,
          "metadata": {},
          "output_type": "execute_result"
        }
      ],
      "source": [
        "#Creating the neural network for the classifier model\n",
        "\n",
        "#Random seed with key 42 was established for reproducibility.\n",
        "tf.random.set_seed(42)\n",
        "\n",
        "#Creating a sequential model using Keras. Sequential model linearly stacks layers one after another.\n",
        "model = tf.keras.Sequential()\n",
        "\n",
        "#We can skip flattening the array since we did that in the preprocessing stage.\n",
        "\n",
        "#Creating 2 dense hidden layers of 128, and using the ReLu activation.\n",
        "#ReLu was used due to its non-linearity properties and efficiency.\n",
        "#input shape 784 was from multiplying 28 and 28.\n",
        "model.add(tf.keras.layers.Dense(156, activation=\"relu\", input_shape=(784,)))\n",
        "model.add(tf.keras.layers.Dense(128, activation=\"relu\"))\n",
        "\n",
        "#Creating a droupout layer to help prevent overfitting\n",
        "#Dropout 0.25 means that we are dropping out 25% of our input units randomly.\n",
        "model.add(tf.keras.layers.Dropout(0.25))\n",
        "\n",
        "#Creating the final output layer, which classifies the images from 0 to 9.\n",
        "#Softmax activation is used for multiclass classfication and as the output layer.\n",
        "model.add(tf.keras.layers.Dense(10, activation=\"softmax\"))\n",
        "\n",
        "'''\n",
        "The parameters above were chosen by replicating the clothes classification model.\n",
        "This notebook aims to create a benchmark of the MNIST model so that we can compare its results to other models made.\n",
        "'''"
      ]
    },
    {
      "cell_type": "code",
      "execution_count": null,
      "metadata": {
        "colab": {
          "base_uri": "https://localhost:8080/"
        },
        "id": "UKjFLKtkRHix",
        "outputId": "4777440d-11fd-44ac-b84c-178efc2807d5"
      },
      "outputs": [
        {
          "name": "stdout",
          "output_type": "stream",
          "text": [
            "Model: \"sequential_3\"\n",
            "_________________________________________________________________\n",
            " Layer (type)                Output Shape              Param #   \n",
            "=================================================================\n",
            " dense_9 (Dense)             (None, 156)               122460    \n",
            "                                                                 \n",
            " dense_10 (Dense)            (None, 128)               20096     \n",
            "                                                                 \n",
            " dropout_3 (Dropout)         (None, 128)               0         \n",
            "                                                                 \n",
            " dense_11 (Dense)            (None, 10)                1290      \n",
            "                                                                 \n",
            "=================================================================\n",
            "Total params: 143846 (561.90 KB)\n",
            "Trainable params: 143846 (561.90 KB)\n",
            "Non-trainable params: 0 (0.00 Byte)\n",
            "_________________________________________________________________\n"
          ]
        }
      ],
      "source": [
        "#Showing a summary of the model created.\n",
        "model.summary()"
      ]
    },
    {
      "cell_type": "markdown",
      "metadata": {
        "id": "I70rrs_NRHix"
      },
      "source": [
        "## Task 4: Compile the Model\n",
        "A few more parameters are required before the model can be used for training.\n",
        "\n",
        "These are added at the build step of the model: Choose these parameters.\n",
        "\n",
        "Loss function\n",
        "\n",
        "Optimizer\n",
        "\n",
        "Metrics"
      ]
    },
    {
      "cell_type": "code",
      "execution_count": null,
      "metadata": {
        "id": "ZaFLtJAyRHix"
      },
      "outputs": [],
      "source": [
        "#Compiling the model by configuring the loss, optimizer, and metrics paramters.\n",
        "model.compile(loss=\"categorical_crossentropy\",\n",
        "             optimizer = \"adam\",\n",
        "             metrics=['accuracy'])\n",
        "\n",
        "#Trying Categorical Crossentropy since this is multi-class classification and the data is encoded. The loss is also on a Logarithmic scale, so the model penalizes confident but incorrect predictions more heavily.\n",
        "#adam is an extension of SGD and is designed to overcome the limitations of sgd.\n",
        "# Accuracy was used as a metric to evaluate the model's success."
      ]
    },
    {
      "cell_type": "markdown",
      "metadata": {
        "id": "Kh9j3HvERHiy"
      },
      "source": [
        "## Task 5: Train and Test the model.\n",
        "a. Feed the training data to the built model.\n",
        "\n",
        "b. Ask model to make predictions about a test set.\n",
        "\n",
        "c. Verify that the predictions match the labels from the test labels."
      ]
    },
    {
      "cell_type": "code",
      "execution_count": null,
      "metadata": {
        "colab": {
          "background_save": true,
          "base_uri": "https://localhost:8080/"
        },
        "id": "uxXmOz3oRHiy",
        "outputId": "98221ff4-e87f-45c1-9673-fcde8dbef75b"
      },
      "outputs": [
        {
          "name": "stdout",
          "output_type": "stream",
          "text": [
            "Epoch 1/20\n",
            "118/118 [==============================] - 2s 13ms/step - loss: 0.5733 - accuracy: 0.8337 - val_loss: 0.2139 - val_accuracy: 0.9372\n",
            "Epoch 2/20\n",
            "118/118 [==============================] - 1s 11ms/step - loss: 0.2104 - accuracy: 0.9392 - val_loss: 0.1464 - val_accuracy: 0.9585\n",
            "Epoch 3/20\n",
            "118/118 [==============================] - 1s 10ms/step - loss: 0.1510 - accuracy: 0.9561 - val_loss: 0.1146 - val_accuracy: 0.9649\n",
            "Epoch 4/20\n",
            "118/118 [==============================] - 1s 13ms/step - loss: 0.1209 - accuracy: 0.9648 - val_loss: 0.0991 - val_accuracy: 0.9701\n",
            "Epoch 5/20\n",
            "118/118 [==============================] - 2s 17ms/step - loss: 0.0994 - accuracy: 0.9700 - val_loss: 0.0912 - val_accuracy: 0.9722\n",
            "Epoch 6/20\n",
            "118/118 [==============================] - 1s 11ms/step - loss: 0.0826 - accuracy: 0.9753 - val_loss: 0.0833 - val_accuracy: 0.9744\n",
            "Epoch 7/20\n",
            "118/118 [==============================] - 1s 10ms/step - loss: 0.0712 - accuracy: 0.9791 - val_loss: 0.0791 - val_accuracy: 0.9749\n",
            "Epoch 8/20\n",
            "118/118 [==============================] - 2s 15ms/step - loss: 0.0621 - accuracy: 0.9815 - val_loss: 0.0738 - val_accuracy: 0.9754\n",
            "Epoch 9/20\n",
            "118/118 [==============================] - 1s 11ms/step - loss: 0.0527 - accuracy: 0.9838 - val_loss: 0.0716 - val_accuracy: 0.9774\n",
            "Epoch 10/20\n",
            "118/118 [==============================] - 1s 11ms/step - loss: 0.0465 - accuracy: 0.9862 - val_loss: 0.0683 - val_accuracy: 0.9791\n",
            "Epoch 11/20\n",
            "118/118 [==============================] - 1s 10ms/step - loss: 0.0419 - accuracy: 0.9873 - val_loss: 0.0687 - val_accuracy: 0.9781\n",
            "Epoch 12/20\n",
            "118/118 [==============================] - 1s 10ms/step - loss: 0.0367 - accuracy: 0.9886 - val_loss: 0.0658 - val_accuracy: 0.9801\n",
            "Epoch 13/20\n",
            "118/118 [==============================] - 2s 13ms/step - loss: 0.0325 - accuracy: 0.9901 - val_loss: 0.0652 - val_accuracy: 0.9805\n",
            "Epoch 14/20\n",
            "118/118 [==============================] - 2s 17ms/step - loss: 0.0294 - accuracy: 0.9912 - val_loss: 0.0653 - val_accuracy: 0.9799\n",
            "Epoch 15/20\n",
            "118/118 [==============================] - 1s 11ms/step - loss: 0.0280 - accuracy: 0.9914 - val_loss: 0.0694 - val_accuracy: 0.9790\n",
            "Epoch 16/20\n",
            "118/118 [==============================] - 1s 11ms/step - loss: 0.0231 - accuracy: 0.9930 - val_loss: 0.0647 - val_accuracy: 0.9813\n",
            "Epoch 17/20\n",
            "118/118 [==============================] - 1s 11ms/step - loss: 0.0201 - accuracy: 0.9939 - val_loss: 0.0670 - val_accuracy: 0.9810\n",
            "Epoch 18/20\n",
            "118/118 [==============================] - 1s 11ms/step - loss: 0.0199 - accuracy: 0.9940 - val_loss: 0.0710 - val_accuracy: 0.9795\n",
            "Epoch 19/20\n",
            "118/118 [==============================] - 1s 11ms/step - loss: 0.0175 - accuracy: 0.9946 - val_loss: 0.0674 - val_accuracy: 0.9810\n",
            "Epoch 20/20\n",
            "118/118 [==============================] - 1s 11ms/step - loss: 0.0167 - accuracy: 0.9950 - val_loss: 0.0662 - val_accuracy: 0.9807\n"
          ]
        }
      ],
      "source": [
        "#Training the model with 20 epochs.\n",
        "#20 epochs will be used across all notebooks for the MNIST dataset for uniformity.\n",
        "history = model.fit(x_train, y_train, epochs=20, validation_data=(x_test, y_test), batch_size=512)\n",
        "\n",
        "#A mini batch was selected to make the training less computationally expensive. A batch size of 512 means that we are processing 512 examples from the training dataset."
      ]
    },
    {
      "cell_type": "code",
      "execution_count": null,
      "metadata": {
        "colab": {
          "background_save": true
        },
        "id": "ao-d4hzfRHiy",
        "outputId": "c6befdb2-d2d5-4141-d0fb-701f1c8dc9a9"
      },
      "outputs": [
        {
          "data": {
            "text/plain": [
              "[<matplotlib.lines.Line2D at 0x7b423aabf220>]"
            ]
          },
          "execution_count": 36,
          "metadata": {},
          "output_type": "execute_result"
        },
        {
          "data": {
            "image/png": "[encoded data removed]",
            "text/plain": [
              "<Figure size 640x480 with 1 Axes>"
            ]
          },
          "metadata": {},
          "output_type": "display_data"
        }
      ],
      "source": [
        "#Visualising the training loss and validation loss of the model\n",
        "\n",
        "plt.plot(history.history['loss'])\n",
        "plt.plot(history.history['val_loss'])\n",
        "\n",
        "#We can see that around 5 epochs, the test and validation losses were around the same."
      ]
    },
    {
      "cell_type": "code",
      "execution_count": null,
      "metadata": {
        "colab": {
          "background_save": true
        },
        "id": "gPaEPv1KRHiy",
        "outputId": "79b49a4c-9e0a-4624-80c7-6bd58906c22f"
      },
      "outputs": [
        {
          "name": "stdout",
          "output_type": "stream",
          "text": [
            "313/313 [==============================] - 1s 3ms/step - loss: 0.0662 - accuracy: 0.9807\n"
          ]
        },
        {
          "data": {
            "text/plain": [
              "[0.06616652756929398, 0.9807000160217285]"
            ]
          },
          "execution_count": 37,
          "metadata": {},
          "output_type": "execute_result"
        }
      ],
      "source": [
        "#Evaluating the test loss and accuracy of the model.\n",
        "model.evaluate(x_test, y_test)\n",
        "\n",
        "#The increase of neurons in the second layer seemed to slightly decreased accuracy and increased loss."
      ]
    },
    {
      "cell_type": "code",
      "execution_count": null,
      "metadata": {
        "colab": {
          "background_save": true
        },
        "id": "5el_7QvGRHiy",
        "outputId": "b5590559-ea3e-4f1b-a62e-53abfa6eb493"
      },
      "outputs": [
        {
          "name": "stdout",
          "output_type": "stream",
          "text": [
            "1/1 [==============================] - 0s 125ms/step\n"
          ]
        },
        {
          "data": {
            "text/plain": [
              "array([[0., 0., 0., 0., 0., 0., 0., 1., 0., 0.],\n",
              "       [0., 0., 1., 0., 0., 0., 0., 0., 0., 0.],\n",
              "       [0., 1., 0., 0., 0., 0., 0., 0., 0., 0.]], dtype=float32)"
            ]
          },
          "execution_count": 38,
          "metadata": {},
          "output_type": "execute_result"
        }
      ],
      "source": [
        "#Use model to make predictions about the test set\n",
        "\n",
        "X_new = x_test[:3]\n",
        "y_proba = model.predict(X_new)\n",
        "y_proba.round(2)\n",
        "\n",
        "#Taking the first 3 arrays of the test set, which shows that they are 7, 2, and 1."
      ]
    },
    {
      "cell_type": "code",
      "execution_count": null,
      "metadata": {
        "colab": {
          "background_save": true
        },
        "id": "mvO6kHmfRHiy",
        "outputId": "ded6bb6e-9130-4500-fbaf-4980a8c3093d"
      },
      "outputs": [
        {
          "data": {
            "text/plain": [
              "array([7, 2, 1])"
            ]
          },
          "execution_count": 39,
          "metadata": {},
          "output_type": "execute_result"
        }
      ],
      "source": [
        "y_pred = y_proba.argmax(axis=-1)\n",
        "y_pred"
      ]
    },
    {
      "cell_type": "code",
      "execution_count": null,
      "metadata": {
        "colab": {
          "background_save": true
        },
        "id": "mHr5bxlzRHiz",
        "outputId": "9c462fc5-e1c3-4e6b-a100-37848aee404f"
      },
      "outputs": [
        {
          "data": {
            "text/plain": [
              "array([[0., 0., 0., 0., 0., 0., 0., 1., 0., 0.],\n",
              "       [0., 0., 1., 0., 0., 0., 0., 0., 0., 0.],\n",
              "       [0., 1., 0., 0., 0., 0., 0., 0., 0., 0.]], dtype=float32)"
            ]
          },
          "execution_count": 40,
          "metadata": {},
          "output_type": "execute_result"
        }
      ],
      "source": [
        "#Checking the model's prediction vs test set's actual label.\n",
        "y_new = y_test[:3]\n",
        "y_new"
      ]
    },
    {
      "cell_type": "code",
      "execution_count": null,
      "metadata": {
        "colab": {
          "background_save": true
        },
        "id": "XEnExdd3RHiz"
      },
      "outputs": [],
      "source": []
    },
    {
      "cell_type": "markdown",
      "metadata": {
        "id": "0HlbN7JgRzjv"
      },
      "source": [
        "# **Test 4: Decrease Neurons in First Layer**\n",
        "\n",
        "First layer neurons from 128 to 100"
      ]
    },
    {
      "cell_type": "markdown",
      "metadata": {
        "id": "i1eqlCjSRzj6"
      },
      "source": [
        "## Task 3: Build a Classifier using MLP\n",
        "The layer is the most fundamental component of a neural network. Data is put into layers, and they extract representations from it. Choose the number of stacking layers so that model representations should, be useful for the given task."
      ]
    },
    {
      "cell_type": "code",
      "execution_count": null,
      "metadata": {
        "colab": {
          "background_save": true
        },
        "id": "1Vl7S036Rzj7",
        "outputId": "99741535-adb3-42ca-d85f-2c7c8d7be6b0"
      },
      "outputs": [
        {
          "data": {
            "application/vnd.google.colaboratory.intrinsic+json": {
              "type": "string"
            },
            "text/plain": [
              "'\\nThe parameters above were chosen by replicating the clothes classification model.\\nThis notebook aims to create a benchmark of the MNIST model so that we can compare its results to other models made.\\n'"
            ]
          },
          "execution_count": 41,
          "metadata": {},
          "output_type": "execute_result"
        }
      ],
      "source": [
        "#Creating the neural network for the classifier model\n",
        "\n",
        "#Random seed with key 42 was established for reproducibility.\n",
        "tf.random.set_seed(42)\n",
        "\n",
        "#Creating a sequential model using Keras. Sequential model linearly stacks layers one after another.\n",
        "model = tf.keras.Sequential()\n",
        "\n",
        "#We can skip flattening the array since we did that in the preprocessing stage.\n",
        "\n",
        "#Creating 2 dense hidden layers of 128, and using the ReLu activation.\n",
        "#ReLu was used due to its non-linearity properties and efficiency.\n",
        "#input shape 784 was from multiplying 28 and 28.\n",
        "model.add(tf.keras.layers.Dense(100, activation=\"relu\", input_shape=(784,)))\n",
        "model.add(tf.keras.layers.Dense(128, activation=\"relu\"))\n",
        "\n",
        "#Creating a droupout layer to help prevent overfitting\n",
        "#Dropout 0.25 means that we are dropping out 25% of our input units randomly.\n",
        "model.add(tf.keras.layers.Dropout(0.25))\n",
        "\n",
        "#Creating the final output layer, which classifies the images from 0 to 9.\n",
        "#Softmax activation is used for multiclass classfication and as the output layer.\n",
        "model.add(tf.keras.layers.Dense(10, activation=\"softmax\"))\n",
        "\n",
        "'''\n",
        "The parameters above were chosen by replicating the clothes classification model.\n",
        "This notebook aims to create a benchmark of the MNIST model so that we can compare its results to other models made.\n",
        "'''"
      ]
    },
    {
      "cell_type": "code",
      "execution_count": null,
      "metadata": {
        "colab": {
          "background_save": true
        },
        "id": "GhsxrkqDRzj7",
        "outputId": "0419d285-4102-4a5d-9dff-44675e88b3f3"
      },
      "outputs": [
        {
          "name": "stdout",
          "output_type": "stream",
          "text": [
            "Model: \"sequential_4\"\n",
            "_________________________________________________________________\n",
            " Layer (type)                Output Shape              Param #   \n",
            "=================================================================\n",
            " dense_12 (Dense)            (None, 100)               78500     \n",
            "                                                                 \n",
            " dense_13 (Dense)            (None, 128)               12928     \n",
            "                                                                 \n",
            " dropout_4 (Dropout)         (None, 128)               0         \n",
            "                                                                 \n",
            " dense_14 (Dense)            (None, 10)                1290      \n",
            "                                                                 \n",
            "=================================================================\n",
            "Total params: 92718 (362.18 KB)\n",
            "Trainable params: 92718 (362.18 KB)\n",
            "Non-trainable params: 0 (0.00 Byte)\n",
            "_________________________________________________________________\n"
          ]
        }
      ],
      "source": [
        "#Showing a summary of the model created.\n",
        "model.summary()"
      ]
    },
    {
      "cell_type": "markdown",
      "metadata": {
        "id": "mQaKabgPRzj7"
      },
      "source": [
        "## Task 4: Compile the Model\n",
        "A few more parameters are required before the model can be used for training.\n",
        "\n",
        "These are added at the build step of the model: Choose these parameters.\n",
        "\n",
        "Loss function\n",
        "\n",
        "Optimizer\n",
        "\n",
        "Metrics"
      ]
    },
    {
      "cell_type": "code",
      "execution_count": null,
      "metadata": {
        "colab": {
          "background_save": true
        },
        "id": "6QfdmkoXRzj7"
      },
      "outputs": [],
      "source": [
        "#Compiling the model by configuring the loss, optimizer, and metrics paramters.\n",
        "model.compile(loss=\"categorical_crossentropy\",\n",
        "             optimizer = \"adam\",\n",
        "             metrics=['accuracy'])\n",
        "\n",
        "#Trying Categorical Crossentropy since this is multi-class classification and the data is encoded. The loss is also on a Logarithmic scale, so the model penalizes confident but incorrect predictions more heavily.\n",
        "#adam is an extension of SGD and is designed to overcome the limitations of sgd.\n",
        "# Accuracy was used as a metric to evaluate the model's success."
      ]
    },
    {
      "cell_type": "markdown",
      "metadata": {
        "id": "t3iaY7dbRzj7"
      },
      "source": [
        "## Task 5: Train and Test the model.\n",
        "a. Feed the training data to the built model.\n",
        "\n",
        "b. Ask model to make predictions about a test set.\n",
        "\n",
        "c. Verify that the predictions match the labels from the test labels."
      ]
    },
    {
      "cell_type": "code",
      "execution_count": null,
      "metadata": {
        "colab": {
          "background_save": true
        },
        "id": "_40IZJbSRzj7",
        "outputId": "20b2d397-1713-4a1f-f08b-5f8fe2687306"
      },
      "outputs": [
        {
          "name": "stdout",
          "output_type": "stream",
          "text": [
            "Epoch 1/20\n",
            "118/118 [==============================] - 2s 10ms/step - loss: 0.6561 - accuracy: 0.8081 - val_loss: 0.2411 - val_accuracy: 0.9289\n",
            "Epoch 2/20\n",
            "118/118 [==============================] - 1s 8ms/step - loss: 0.2358 - accuracy: 0.9308 - val_loss: 0.1615 - val_accuracy: 0.9519\n",
            "Epoch 3/20\n",
            "118/118 [==============================] - 1s 9ms/step - loss: 0.1712 - accuracy: 0.9503 - val_loss: 0.1346 - val_accuracy: 0.9583\n",
            "Epoch 4/20\n",
            "118/118 [==============================] - 1s 9ms/step - loss: 0.1352 - accuracy: 0.9609 - val_loss: 0.1177 - val_accuracy: 0.9648\n",
            "Epoch 5/20\n",
            "118/118 [==============================] - 1s 8ms/step - loss: 0.1168 - accuracy: 0.9645 - val_loss: 0.1044 - val_accuracy: 0.9681\n",
            "Epoch 6/20\n",
            "118/118 [==============================] - 1s 8ms/step - loss: 0.0985 - accuracy: 0.9709 - val_loss: 0.0962 - val_accuracy: 0.9705\n",
            "Epoch 7/20\n",
            "118/118 [==============================] - 1s 8ms/step - loss: 0.0863 - accuracy: 0.9744 - val_loss: 0.0867 - val_accuracy: 0.9741\n",
            "Epoch 8/20\n",
            "118/118 [==============================] - 1s 8ms/step - loss: 0.0757 - accuracy: 0.9777 - val_loss: 0.0868 - val_accuracy: 0.9732\n",
            "Epoch 9/20\n",
            "118/118 [==============================] - 1s 9ms/step - loss: 0.0685 - accuracy: 0.9791 - val_loss: 0.0802 - val_accuracy: 0.9764\n",
            "Epoch 10/20\n",
            "118/118 [==============================] - 1s 10ms/step - loss: 0.0620 - accuracy: 0.9811 - val_loss: 0.0787 - val_accuracy: 0.9759\n",
            "Epoch 11/20\n",
            "118/118 [==============================] - 2s 14ms/step - loss: 0.0555 - accuracy: 0.9835 - val_loss: 0.0802 - val_accuracy: 0.9757\n",
            "Epoch 12/20\n",
            "118/118 [==============================] - 1s 11ms/step - loss: 0.0495 - accuracy: 0.9849 - val_loss: 0.0769 - val_accuracy: 0.9752\n",
            "Epoch 13/20\n",
            "118/118 [==============================] - 1s 9ms/step - loss: 0.0458 - accuracy: 0.9861 - val_loss: 0.0720 - val_accuracy: 0.9781\n",
            "Epoch 14/20\n",
            "118/118 [==============================] - 1s 9ms/step - loss: 0.0408 - accuracy: 0.9875 - val_loss: 0.0755 - val_accuracy: 0.9773\n",
            "Epoch 15/20\n",
            "118/118 [==============================] - 1s 8ms/step - loss: 0.0383 - accuracy: 0.9882 - val_loss: 0.0730 - val_accuracy: 0.9773\n",
            "Epoch 16/20\n",
            "118/118 [==============================] - 1s 8ms/step - loss: 0.0352 - accuracy: 0.9893 - val_loss: 0.0714 - val_accuracy: 0.9773\n",
            "Epoch 17/20\n",
            "118/118 [==============================] - 1s 8ms/step - loss: 0.0304 - accuracy: 0.9909 - val_loss: 0.0706 - val_accuracy: 0.9783\n",
            "Epoch 18/20\n",
            "118/118 [==============================] - 1s 9ms/step - loss: 0.0296 - accuracy: 0.9911 - val_loss: 0.0738 - val_accuracy: 0.9776\n",
            "Epoch 19/20\n",
            "118/118 [==============================] - 1s 9ms/step - loss: 0.0262 - accuracy: 0.9916 - val_loss: 0.0726 - val_accuracy: 0.9785\n",
            "Epoch 20/20\n",
            "118/118 [==============================] - 1s 8ms/step - loss: 0.0256 - accuracy: 0.9917 - val_loss: 0.0753 - val_accuracy: 0.9782\n"
          ]
        }
      ],
      "source": [
        "#Training the model with 20 epochs.\n",
        "#20 epochs will be used across all notebooks for the MNIST dataset for uniformity.\n",
        "history = model.fit(x_train, y_train, epochs=20, validation_data=(x_test, y_test), batch_size=512)\n",
        "\n",
        "#A mini batch was selected to make the training less computationally expensive. A batch size of 512 means that we are processing 512 examples from the training dataset."
      ]
    },
    {
      "cell_type": "code",
      "execution_count": null,
      "metadata": {
        "colab": {
          "background_save": true
        },
        "id": "nYPIwjPeRzj8",
        "outputId": "ab8065da-9208-4ca0-9b1b-1b039beea48b"
      },
      "outputs": [
        {
          "data": {
            "text/plain": [
              "[<matplotlib.lines.Line2D at 0x7b423aea8370>]"
            ]
          },
          "execution_count": 45,
          "metadata": {},
          "output_type": "execute_result"
        },
        {
          "data": {
            "image/png": "[encoded data removed]",
            "text/plain": [
              "<Figure size 640x480 with 1 Axes>"
            ]
          },
          "metadata": {},
          "output_type": "display_data"
        }
      ],
      "source": [
        "#Visualising the training loss and validation loss of the model\n",
        "\n",
        "plt.plot(history.history['loss'])\n",
        "plt.plot(history.history['val_loss'])\n",
        "\n",
        "#We can see that around 5 epochs, the test and validation losses were around the same."
      ]
    },
    {
      "cell_type": "code",
      "execution_count": null,
      "metadata": {
        "colab": {
          "background_save": true
        },
        "id": "xqX7yGZXRzj8",
        "outputId": "c21006ff-550d-46ac-e4fc-1c505fc8698c"
      },
      "outputs": [
        {
          "name": "stdout",
          "output_type": "stream",
          "text": [
            "313/313 [==============================] - 1s 2ms/step - loss: 0.0753 - accuracy: 0.9782\n"
          ]
        },
        {
          "data": {
            "text/plain": [
              "[0.07531683146953583, 0.9782000184059143]"
            ]
          },
          "execution_count": 46,
          "metadata": {},
          "output_type": "execute_result"
        }
      ],
      "source": [
        "#Evaluating the test loss and accuracy of the model.\n",
        "model.evaluate(x_test, y_test)\n",
        "\n",
        "#The increase of neurons in the second layer seemed to slightly decreased accuracy and increased loss."
      ]
    },
    {
      "cell_type": "markdown",
      "metadata": {
        "id": "HnymEdZCSflj"
      },
      "source": [
        "# **Test 5: Increase Neurons in First and Second Layers**\n",
        "\n",
        "Neurons from 128 to 156"
      ]
    },
    {
      "cell_type": "markdown",
      "metadata": {
        "id": "B45woM2GSflu"
      },
      "source": [
        "## Task 3: Build a Classifier using MLP\n",
        "The layer is the most fundamental component of a neural network. Data is put into layers, and they extract representations from it. Choose the number of stacking layers so that model representations should, be useful for the given task."
      ]
    },
    {
      "cell_type": "code",
      "execution_count": null,
      "metadata": {
        "colab": {
          "background_save": true
        },
        "id": "DalynkOZSflv",
        "outputId": "75b2b1c3-0a1c-4f8d-f328-f1ad158ee5b3"
      },
      "outputs": [
        {
          "data": {
            "application/vnd.google.colaboratory.intrinsic+json": {
              "type": "string"
            },
            "text/plain": [
              "'\\nThe parameters above were chosen by replicating the clothes classification model.\\nThis notebook aims to create a benchmark of the MNIST model so that we can compare its results to other models made.\\n'"
            ]
          },
          "execution_count": 47,
          "metadata": {},
          "output_type": "execute_result"
        }
      ],
      "source": [
        "#Creating the neural network for the classifier model\n",
        "\n",
        "#Random seed with key 42 was established for reproducibility.\n",
        "tf.random.set_seed(42)\n",
        "\n",
        "#Creating a sequential model using Keras. Sequential model linearly stacks layers one after another.\n",
        "model = tf.keras.Sequential()\n",
        "\n",
        "#We can skip flattening the array since we did that in the preprocessing stage.\n",
        "\n",
        "#Creating 2 dense hidden layers of 128, and using the ReLu activation.\n",
        "#ReLu was used due to its non-linearity properties and efficiency.\n",
        "#input shape 784 was from multiplying 28 and 28.\n",
        "model.add(tf.keras.layers.Dense(156, activation=\"relu\", input_shape=(784,)))\n",
        "model.add(tf.keras.layers.Dense(156, activation=\"relu\"))\n",
        "\n",
        "#Creating a droupout layer to help prevent overfitting\n",
        "#Dropout 0.25 means that we are dropping out 25% of our input units randomly.\n",
        "model.add(tf.keras.layers.Dropout(0.25))\n",
        "\n",
        "#Creating the final output layer, which classifies the images from 0 to 9.\n",
        "#Softmax activation is used for multiclass classfication and as the output layer.\n",
        "model.add(tf.keras.layers.Dense(10, activation=\"softmax\"))\n",
        "\n",
        "'''\n",
        "The parameters above were chosen by replicating the clothes classification model.\n",
        "This notebook aims to create a benchmark of the MNIST model so that we can compare its results to other models made.\n",
        "'''"
      ]
    },
    {
      "cell_type": "code",
      "execution_count": null,
      "metadata": {
        "colab": {
          "background_save": true
        },
        "id": "59NVYkoHSflv",
        "outputId": "9701f251-9d7b-4ba5-80e7-c623ce1d143c"
      },
      "outputs": [
        {
          "name": "stdout",
          "output_type": "stream",
          "text": [
            "Model: \"sequential_5\"\n",
            "_________________________________________________________________\n",
            " Layer (type)                Output Shape              Param #   \n",
            "=================================================================\n",
            " dense_15 (Dense)            (None, 156)               122460    \n",
            "                                                                 \n",
            " dense_16 (Dense)            (None, 156)               24492     \n",
            "                                                                 \n",
            " dropout_5 (Dropout)         (None, 156)               0         \n",
            "                                                                 \n",
            " dense_17 (Dense)            (None, 10)                1570      \n",
            "                                                                 \n",
            "=================================================================\n",
            "Total params: 148522 (580.16 KB)\n",
            "Trainable params: 148522 (580.16 KB)\n",
            "Non-trainable params: 0 (0.00 Byte)\n",
            "_________________________________________________________________\n"
          ]
        }
      ],
      "source": [
        "#Showing a summary of the model created.\n",
        "model.summary()"
      ]
    },
    {
      "cell_type": "markdown",
      "metadata": {
        "id": "X3kaBKHwSflv"
      },
      "source": [
        "## Task 4: Compile the Model\n",
        "A few more parameters are required before the model can be used for training.\n",
        "\n",
        "These are added at the build step of the model: Choose these parameters.\n",
        "\n",
        "Loss function\n",
        "\n",
        "Optimizer\n",
        "\n",
        "Metrics"
      ]
    },
    {
      "cell_type": "code",
      "execution_count": null,
      "metadata": {
        "colab": {
          "background_save": true
        },
        "id": "DvsX8brCSflv"
      },
      "outputs": [],
      "source": [
        "#Compiling the model by configuring the loss, optimizer, and metrics paramters.\n",
        "model.compile(loss=\"categorical_crossentropy\",\n",
        "             optimizer = \"adam\",\n",
        "             metrics=['accuracy'])\n",
        "\n",
        "#Trying Categorical Crossentropy since this is multi-class classification and the data is encoded. The loss is also on a Logarithmic scale, so the model penalizes confident but incorrect predictions more heavily.\n",
        "#adam is an extension of SGD and is designed to overcome the limitations of sgd.\n",
        "# Accuracy was used as a metric to evaluate the model's success."
      ]
    },
    {
      "cell_type": "markdown",
      "metadata": {
        "id": "7zpdj4k7Sflv"
      },
      "source": [
        "## Task 5: Train and Test the model.\n",
        "a. Feed the training data to the built model.\n",
        "\n",
        "b. Ask model to make predictions about a test set.\n",
        "\n",
        "c. Verify that the predictions match the labels from the test labels."
      ]
    },
    {
      "cell_type": "code",
      "execution_count": null,
      "metadata": {
        "colab": {
          "background_save": true
        },
        "id": "M_81LwUuSflv",
        "outputId": "036ae44a-304b-4969-b321-aa1b1977a6e6"
      },
      "outputs": [
        {
          "name": "stdout",
          "output_type": "stream",
          "text": [
            "Epoch 1/20\n",
            "118/118 [==============================] - 3s 18ms/step - loss: 0.5480 - accuracy: 0.8409 - val_loss: 0.2140 - val_accuracy: 0.9361\n",
            "Epoch 2/20\n",
            "118/118 [==============================] - 1s 11ms/step - loss: 0.2058 - accuracy: 0.9413 - val_loss: 0.1468 - val_accuracy: 0.9562\n",
            "Epoch 3/20\n",
            "118/118 [==============================] - 1s 12ms/step - loss: 0.1492 - accuracy: 0.9560 - val_loss: 0.1211 - val_accuracy: 0.9629\n",
            "Epoch 4/20\n",
            "118/118 [==============================] - 1s 11ms/step - loss: 0.1172 - accuracy: 0.9653 - val_loss: 0.1037 - val_accuracy: 0.9683\n",
            "Epoch 5/20\n",
            "118/118 [==============================] - 1s 11ms/step - loss: 0.0967 - accuracy: 0.9706 - val_loss: 0.0924 - val_accuracy: 0.9708\n",
            "Epoch 6/20\n",
            "118/118 [==============================] - 1s 11ms/step - loss: 0.0793 - accuracy: 0.9760 - val_loss: 0.0870 - val_accuracy: 0.9737\n",
            "Epoch 7/20\n",
            "118/118 [==============================] - 1s 11ms/step - loss: 0.0670 - accuracy: 0.9794 - val_loss: 0.0822 - val_accuracy: 0.9737\n",
            "Epoch 8/20\n",
            "118/118 [==============================] - 1s 11ms/step - loss: 0.0564 - accuracy: 0.9827 - val_loss: 0.0762 - val_accuracy: 0.9761\n",
            "Epoch 9/20\n",
            "118/118 [==============================] - 2s 18ms/step - loss: 0.0487 - accuracy: 0.9855 - val_loss: 0.0714 - val_accuracy: 0.9783\n",
            "Epoch 10/20\n",
            "118/118 [==============================] - 2s 14ms/step - loss: 0.0422 - accuracy: 0.9872 - val_loss: 0.0721 - val_accuracy: 0.9771\n",
            "Epoch 11/20\n",
            "118/118 [==============================] - 1s 11ms/step - loss: 0.0371 - accuracy: 0.9888 - val_loss: 0.0690 - val_accuracy: 0.9787\n",
            "Epoch 12/20\n",
            "118/118 [==============================] - 1s 11ms/step - loss: 0.0319 - accuracy: 0.9905 - val_loss: 0.0714 - val_accuracy: 0.9773\n",
            "Epoch 13/20\n",
            "118/118 [==============================] - 1s 11ms/step - loss: 0.0285 - accuracy: 0.9916 - val_loss: 0.0690 - val_accuracy: 0.9790\n",
            "Epoch 14/20\n",
            "118/118 [==============================] - 1s 12ms/step - loss: 0.0255 - accuracy: 0.9923 - val_loss: 0.0654 - val_accuracy: 0.9806\n",
            "Epoch 15/20\n",
            "118/118 [==============================] - 1s 11ms/step - loss: 0.0226 - accuracy: 0.9935 - val_loss: 0.0686 - val_accuracy: 0.9783\n",
            "Epoch 16/20\n",
            "118/118 [==============================] - 1s 11ms/step - loss: 0.0213 - accuracy: 0.9936 - val_loss: 0.0698 - val_accuracy: 0.9791\n",
            "Epoch 17/20\n",
            "118/118 [==============================] - 2s 13ms/step - loss: 0.0175 - accuracy: 0.9950 - val_loss: 0.0705 - val_accuracy: 0.9814\n",
            "Epoch 18/20\n",
            "118/118 [==============================] - 2s 19ms/step - loss: 0.0151 - accuracy: 0.9955 - val_loss: 0.0758 - val_accuracy: 0.9790\n",
            "Epoch 19/20\n",
            "118/118 [==============================] - 1s 11ms/step - loss: 0.0144 - accuracy: 0.9959 - val_loss: 0.0776 - val_accuracy: 0.9777\n",
            "Epoch 20/20\n",
            "118/118 [==============================] - 1s 11ms/step - loss: 0.0152 - accuracy: 0.9955 - val_loss: 0.0687 - val_accuracy: 0.9809\n"
          ]
        }
      ],
      "source": [
        "#Training the model with 20 epochs.\n",
        "#20 epochs will be used across all notebooks for the MNIST dataset for uniformity.\n",
        "history = model.fit(x_train, y_train, epochs=20, validation_data=(x_test, y_test), batch_size=512)\n",
        "\n",
        "#A mini batch was selected to make the training less computationally expensive. A batch size of 512 means that we are processing 512 examples from the training dataset."
      ]
    },
    {
      "cell_type": "code",
      "execution_count": null,
      "metadata": {
        "colab": {
          "background_save": true
        },
        "id": "6nU3LdkpSflw",
        "outputId": "0b52da70-9b6b-4c50-b5cf-1a26a4f9e5b7"
      },
      "outputs": [
        {
          "data": {
            "text/plain": [
              "[<matplotlib.lines.Line2D at 0x7b4239bcf6a0>]"
            ]
          },
          "execution_count": 51,
          "metadata": {},
          "output_type": "execute_result"
        },
        {
          "data": {
            "image/png": "[encoded data removed]",
            "text/plain": [
              "<Figure size 640x480 with 1 Axes>"
            ]
          },
          "metadata": {},
          "output_type": "display_data"
        }
      ],
      "source": [
        "#Visualising the training loss and validation loss of the model\n",
        "\n",
        "plt.plot(history.history['loss'])\n",
        "plt.plot(history.history['val_loss'])\n",
        "\n",
        "#We can see that around 5 epochs, the test and validation losses were around the same."
      ]
    },
    {
      "cell_type": "code",
      "execution_count": null,
      "metadata": {
        "colab": {
          "background_save": true
        },
        "id": "m1xPpTJuSflw",
        "outputId": "3d1633fc-66a5-4a06-9a7c-45d5456d1ce7"
      },
      "outputs": [
        {
          "name": "stdout",
          "output_type": "stream",
          "text": [
            "313/313 [==============================] - 1s 2ms/step - loss: 0.0687 - accuracy: 0.9809\n"
          ]
        },
        {
          "data": {
            "text/plain": [
              "[0.06869211792945862, 0.98089998960495]"
            ]
          },
          "execution_count": 52,
          "metadata": {},
          "output_type": "execute_result"
        }
      ],
      "source": [
        "#Evaluating the test loss and accuracy of the model.\n",
        "model.evaluate(x_test, y_test)\n",
        "\n",
        "#The increase of neurons in the second layer seemed to slightly decreased accuracy and increased loss."
      ]
    },
    {
      "cell_type": "markdown",
      "metadata": {
        "id": "rqM6YHwWTAGv"
      },
      "source": [
        "# **Test 6: Increase Neurons in First Layer and Decrease Neurons in Second Layers**\n",
        "\n",
        "First layer 128 to 156\n",
        "Second layer 128 to 100"
      ]
    },
    {
      "cell_type": "markdown",
      "metadata": {
        "id": "gQUnKaMhTAG2"
      },
      "source": [
        "## Task 3: Build a Classifier using MLP\n",
        "The layer is the most fundamental component of a neural network. Data is put into layers, and they extract representations from it. Choose the number of stacking layers so that model representations should, be useful for the given task."
      ]
    },
    {
      "cell_type": "code",
      "execution_count": null,
      "metadata": {
        "colab": {
          "background_save": true
        },
        "id": "rkcUjvv5TAG2",
        "outputId": "6130f293-b0f0-4969-cbc8-ea8c5055de3a"
      },
      "outputs": [
        {
          "data": {
            "application/vnd.google.colaboratory.intrinsic+json": {
              "type": "string"
            },
            "text/plain": [
              "'\\nThe parameters above were chosen by replicating the clothes classification model.\\nThis notebook aims to create a benchmark of the MNIST model so that we can compare its results to other models made.\\n'"
            ]
          },
          "execution_count": 53,
          "metadata": {},
          "output_type": "execute_result"
        }
      ],
      "source": [
        "#Creating the neural network for the classifier model\n",
        "\n",
        "#Random seed with key 42 was established for reproducibility.\n",
        "tf.random.set_seed(42)\n",
        "\n",
        "#Creating a sequential model using Keras. Sequential model linearly stacks layers one after another.\n",
        "model = tf.keras.Sequential()\n",
        "\n",
        "#We can skip flattening the array since we did that in the preprocessing stage.\n",
        "\n",
        "#Creating 2 dense hidden layers of 128, and using the ReLu activation.\n",
        "#ReLu was used due to its non-linearity properties and efficiency.\n",
        "#input shape 784 was from multiplying 28 and 28.\n",
        "model.add(tf.keras.layers.Dense(156, activation=\"relu\", input_shape=(784,)))\n",
        "model.add(tf.keras.layers.Dense(100, activation=\"relu\"))\n",
        "\n",
        "#Creating a droupout layer to help prevent overfitting\n",
        "#Dropout 0.25 means that we are dropping out 25% of our input units randomly.\n",
        "model.add(tf.keras.layers.Dropout(0.25))\n",
        "\n",
        "#Creating the final output layer, which classifies the images from 0 to 9.\n",
        "#Softmax activation is used for multiclass classfication and as the output layer.\n",
        "model.add(tf.keras.layers.Dense(10, activation=\"softmax\"))\n",
        "\n",
        "'''\n",
        "The parameters above were chosen by replicating the clothes classification model.\n",
        "This notebook aims to create a benchmark of the MNIST model so that we can compare its results to other models made.\n",
        "'''"
      ]
    },
    {
      "cell_type": "code",
      "execution_count": null,
      "metadata": {
        "colab": {
          "background_save": true
        },
        "id": "aPPCSI0kTAG2",
        "outputId": "6c86be87-49c4-4006-9aba-50d51e738d1f"
      },
      "outputs": [
        {
          "name": "stdout",
          "output_type": "stream",
          "text": [
            "Model: \"sequential_6\"\n",
            "_________________________________________________________________\n",
            " Layer (type)                Output Shape              Param #   \n",
            "=================================================================\n",
            " dense_18 (Dense)            (None, 156)               122460    \n",
            "                                                                 \n",
            " dense_19 (Dense)            (None, 100)               15700     \n",
            "                                                                 \n",
            " dropout_6 (Dropout)         (None, 100)               0         \n",
            "                                                                 \n",
            " dense_20 (Dense)            (None, 10)                1010      \n",
            "                                                                 \n",
            "=================================================================\n",
            "Total params: 139170 (543.63 KB)\n",
            "Trainable params: 139170 (543.63 KB)\n",
            "Non-trainable params: 0 (0.00 Byte)\n",
            "_________________________________________________________________\n"
          ]
        }
      ],
      "source": [
        "#Showing a summary of the model created.\n",
        "model.summary()"
      ]
    },
    {
      "cell_type": "markdown",
      "metadata": {
        "id": "gItjnMa_TAG2"
      },
      "source": [
        "## Task 4: Compile the Model\n",
        "A few more parameters are required before the model can be used for training.\n",
        "\n",
        "These are added at the build step of the model: Choose these parameters.\n",
        "\n",
        "Loss function\n",
        "\n",
        "Optimizer\n",
        "\n",
        "Metrics"
      ]
    },
    {
      "cell_type": "code",
      "execution_count": null,
      "metadata": {
        "colab": {
          "background_save": true
        },
        "id": "yz4jFZhKTAG3"
      },
      "outputs": [],
      "source": [
        "#Compiling the model by configuring the loss, optimizer, and metrics paramters.\n",
        "model.compile(loss=\"categorical_crossentropy\",\n",
        "             optimizer = \"adam\",\n",
        "             metrics=['accuracy'])\n",
        "\n",
        "#Trying Categorical Crossentropy since this is multi-class classification and the data is encoded. The loss is also on a Logarithmic scale, so the model penalizes confident but incorrect predictions more heavily.\n",
        "#adam is an extension of SGD and is designed to overcome the limitations of sgd.\n",
        "# Accuracy was used as a metric to evaluate the model's success."
      ]
    },
    {
      "cell_type": "markdown",
      "metadata": {
        "id": "JM9wHqqNTAG3"
      },
      "source": [
        "## Task 5: Train and Test the model.\n",
        "a. Feed the training data to the built model.\n",
        "\n",
        "b. Ask model to make predictions about a test set.\n",
        "\n",
        "c. Verify that the predictions match the labels from the test labels."
      ]
    },
    {
      "cell_type": "code",
      "execution_count": null,
      "metadata": {
        "colab": {
          "background_save": true
        },
        "id": "fIz7ntTJTAG3",
        "outputId": "d50db883-51f7-4293-84ce-e96a64b9b49f"
      },
      "outputs": [
        {
          "name": "stdout",
          "output_type": "stream",
          "text": [
            "Epoch 1/20\n",
            "118/118 [==============================] - 2s 12ms/step - loss: 0.5903 - accuracy: 0.8291 - val_loss: 0.2286 - val_accuracy: 0.9342\n",
            "Epoch 2/20\n",
            "118/118 [==============================] - 1s 11ms/step - loss: 0.2235 - accuracy: 0.9349 - val_loss: 0.1512 - val_accuracy: 0.9568\n",
            "Epoch 3/20\n",
            "118/118 [==============================] - 1s 10ms/step - loss: 0.1605 - accuracy: 0.9532 - val_loss: 0.1240 - val_accuracy: 0.9618\n",
            "Epoch 4/20\n",
            "118/118 [==============================] - 1s 10ms/step - loss: 0.1283 - accuracy: 0.9626 - val_loss: 0.1069 - val_accuracy: 0.9684\n",
            "Epoch 5/20\n",
            "118/118 [==============================] - 2s 18ms/step - loss: 0.1042 - accuracy: 0.9693 - val_loss: 0.0967 - val_accuracy: 0.9711\n",
            "Epoch 6/20\n",
            "118/118 [==============================] - 2s 13ms/step - loss: 0.0875 - accuracy: 0.9745 - val_loss: 0.0878 - val_accuracy: 0.9739\n",
            "Epoch 7/20\n",
            "118/118 [==============================] - 1s 11ms/step - loss: 0.0762 - accuracy: 0.9772 - val_loss: 0.0844 - val_accuracy: 0.9743\n",
            "Epoch 8/20\n",
            "118/118 [==============================] - 1s 11ms/step - loss: 0.0660 - accuracy: 0.9804 - val_loss: 0.0815 - val_accuracy: 0.9744\n",
            "Epoch 9/20\n",
            "118/118 [==============================] - 1s 11ms/step - loss: 0.0561 - accuracy: 0.9831 - val_loss: 0.0752 - val_accuracy: 0.9773\n",
            "Epoch 10/20\n",
            "118/118 [==============================] - 1s 11ms/step - loss: 0.0486 - accuracy: 0.9851 - val_loss: 0.0738 - val_accuracy: 0.9774\n",
            "Epoch 11/20\n",
            "118/118 [==============================] - 1s 11ms/step - loss: 0.0450 - accuracy: 0.9862 - val_loss: 0.0740 - val_accuracy: 0.9773\n",
            "Epoch 12/20\n",
            "118/118 [==============================] - 1s 11ms/step - loss: 0.0399 - accuracy: 0.9877 - val_loss: 0.0800 - val_accuracy: 0.9763\n",
            "Epoch 13/20\n",
            "118/118 [==============================] - 1s 10ms/step - loss: 0.0361 - accuracy: 0.9891 - val_loss: 0.0687 - val_accuracy: 0.9793\n",
            "Epoch 14/20\n",
            "118/118 [==============================] - 2s 16ms/step - loss: 0.0316 - accuracy: 0.9906 - val_loss: 0.0701 - val_accuracy: 0.9791\n",
            "Epoch 15/20\n",
            "118/118 [==============================] - 1s 11ms/step - loss: 0.0290 - accuracy: 0.9913 - val_loss: 0.0677 - val_accuracy: 0.9808\n",
            "Epoch 16/20\n",
            "118/118 [==============================] - 1s 11ms/step - loss: 0.0242 - accuracy: 0.9925 - val_loss: 0.0711 - val_accuracy: 0.9793\n",
            "Epoch 17/20\n",
            "118/118 [==============================] - 1s 11ms/step - loss: 0.0222 - accuracy: 0.9935 - val_loss: 0.0683 - val_accuracy: 0.9801\n",
            "Epoch 18/20\n",
            "118/118 [==============================] - 1s 11ms/step - loss: 0.0188 - accuracy: 0.9942 - val_loss: 0.0691 - val_accuracy: 0.9801\n",
            "Epoch 19/20\n",
            "118/118 [==============================] - 1s 10ms/step - loss: 0.0186 - accuracy: 0.9943 - val_loss: 0.0719 - val_accuracy: 0.9797\n",
            "Epoch 20/20\n",
            "118/118 [==============================] - 1s 11ms/step - loss: 0.0171 - accuracy: 0.9949 - val_loss: 0.0739 - val_accuracy: 0.9787\n"
          ]
        }
      ],
      "source": [
        "#Training the model with 20 epochs.\n",
        "#20 epochs will be used across all notebooks for the MNIST dataset for uniformity.\n",
        "history = model.fit(x_train, y_train, epochs=20, validation_data=(x_test, y_test), batch_size=512)\n",
        "\n",
        "#A mini batch was selected to make the training less computationally expensive. A batch size of 512 means that we are processing 512 examples from the training dataset."
      ]
    },
    {
      "cell_type": "code",
      "execution_count": null,
      "metadata": {
        "colab": {
          "background_save": true
        },
        "id": "qNrZw3PfTAG3",
        "outputId": "93d8328b-06d3-49e5-d361-c8f188f6765a"
      },
      "outputs": [
        {
          "data": {
            "text/plain": [
              "[<matplotlib.lines.Line2D at 0x7b423879e1a0>]"
            ]
          },
          "execution_count": 57,
          "metadata": {},
          "output_type": "execute_result"
        },
        {
          "data": {
            "image/png": "[encoded data removed]",
            "text/plain": [
              "<Figure size 640x480 with 1 Axes>"
            ]
          },
          "metadata": {},
          "output_type": "display_data"
        }
      ],
      "source": [
        "#Visualising the training loss and validation loss of the model\n",
        "\n",
        "plt.plot(history.history['loss'])\n",
        "plt.plot(history.history['val_loss'])\n",
        "\n",
        "#We can see that around 5 epochs, the test and validation losses were around the same."
      ]
    },
    {
      "cell_type": "code",
      "execution_count": null,
      "metadata": {
        "colab": {
          "background_save": true
        },
        "id": "B_yoUqVwTAG3",
        "outputId": "9942e6a0-8f88-4c72-c2d2-35419dd3138d"
      },
      "outputs": [
        {
          "name": "stdout",
          "output_type": "stream",
          "text": [
            "313/313 [==============================] - 1s 2ms/step - loss: 0.0739 - accuracy: 0.9787\n"
          ]
        },
        {
          "data": {
            "text/plain": [
              "[0.07391957193613052, 0.9786999821662903]"
            ]
          },
          "execution_count": 58,
          "metadata": {},
          "output_type": "execute_result"
        }
      ],
      "source": [
        "#Evaluating the test loss and accuracy of the model.\n",
        "model.evaluate(x_test, y_test)\n",
        "\n",
        "#The increase of neurons in the second layer seemed to slightly decreased accuracy and increased loss."
      ]
    },
    {
      "cell_type": "code",
      "execution_count": null,
      "metadata": {
        "colab": {
          "background_save": true
        },
        "id": "gtxGk96GTaIy"
      },
      "outputs": [],
      "source": []
    },
    {
      "cell_type": "markdown",
      "metadata": {
        "id": "JEEUlz-HUUqs"
      },
      "source": [
        "# **Test 7: Increasing Dropout to 50%**"
      ]
    },
    {
      "cell_type": "markdown",
      "metadata": {
        "id": "jiiGyn-fUUq1"
      },
      "source": [
        "## Task 3: Build a Classifier using MLP\n",
        "The layer is the most fundamental component of a neural network. Data is put into layers, and they extract representations from it. Choose the number of stacking layers so that model representations should, be useful for the given task."
      ]
    },
    {
      "cell_type": "code",
      "execution_count": null,
      "metadata": {
        "colab": {
          "background_save": true
        },
        "id": "0ZhS4dOwUUq1",
        "outputId": "ec1e6569-51f7-4e91-c9f8-9753faf499a4"
      },
      "outputs": [
        {
          "data": {
            "application/vnd.google.colaboratory.intrinsic+json": {
              "type": "string"
            },
            "text/plain": [
              "'\\nThe parameters above were chosen by replicating the clothes classification model.\\nThis notebook aims to create a benchmark of the MNIST model so that we can compare its results to other models made.\\n'"
            ]
          },
          "execution_count": 59,
          "metadata": {},
          "output_type": "execute_result"
        }
      ],
      "source": [
        "#Creating the neural network for the classifier model\n",
        "\n",
        "#Random seed with key 42 was established for reproducibility.\n",
        "tf.random.set_seed(42)\n",
        "\n",
        "#Creating a sequential model using Keras. Sequential model linearly stacks layers one after another.\n",
        "model = tf.keras.Sequential()\n",
        "\n",
        "#We can skip flattening the array since we did that in the preprocessing stage.\n",
        "\n",
        "#Creating 2 dense hidden layers of 128, and using the ReLu activation.\n",
        "#ReLu was used due to its non-linearity properties and efficiency.\n",
        "#input shape 784 was from multiplying 28 and 28.\n",
        "model.add(tf.keras.layers.Dense(128, activation=\"relu\", input_shape=(784,)))\n",
        "model.add(tf.keras.layers.Dense(128, activation=\"relu\"))\n",
        "\n",
        "#Creating a droupout layer to help prevent overfitting\n",
        "#Dropout 0.25 means that we are dropping out 50% of our input units randomly.\n",
        "model.add(tf.keras.layers.Dropout(0.50))\n",
        "\n",
        "#Creating the final output layer, which classifies the images from 0 to 9.\n",
        "#Softmax activation is used for multiclass classfication and as the output layer.\n",
        "model.add(tf.keras.layers.Dense(10, activation=\"softmax\"))\n",
        "\n",
        "'''\n",
        "The parameters above were chosen by replicating the clothes classification model.\n",
        "This notebook aims to create a benchmark of the MNIST model so that we can compare its results to other models made.\n",
        "'''"
      ]
    },
    {
      "cell_type": "code",
      "execution_count": null,
      "metadata": {
        "colab": {
          "background_save": true
        },
        "id": "1Pcy69DjUUq1",
        "outputId": "c3b86cc0-8e87-47d3-9fe1-b9e21d381da8"
      },
      "outputs": [
        {
          "name": "stdout",
          "output_type": "stream",
          "text": [
            "Model: \"sequential_7\"\n",
            "_________________________________________________________________\n",
            " Layer (type)                Output Shape              Param #   \n",
            "=================================================================\n",
            " dense_21 (Dense)            (None, 128)               100480    \n",
            "                                                                 \n",
            " dense_22 (Dense)            (None, 128)               16512     \n",
            "                                                                 \n",
            " dropout_7 (Dropout)         (None, 128)               0         \n",
            "                                                                 \n",
            " dense_23 (Dense)            (None, 10)                1290      \n",
            "                                                                 \n",
            "=================================================================\n",
            "Total params: 118282 (462.04 KB)\n",
            "Trainable params: 118282 (462.04 KB)\n",
            "Non-trainable params: 0 (0.00 Byte)\n",
            "_________________________________________________________________\n"
          ]
        }
      ],
      "source": [
        "#Showing a summary of the model created.\n",
        "model.summary()"
      ]
    },
    {
      "cell_type": "markdown",
      "metadata": {
        "id": "YOz_cv5RUUq2"
      },
      "source": [
        "## Task 4: Compile the Model\n",
        "A few more parameters are required before the model can be used for training.\n",
        "\n",
        "These are added at the build step of the model: Choose these parameters.\n",
        "\n",
        "Loss function\n",
        "\n",
        "Optimizer\n",
        "\n",
        "Metrics"
      ]
    },
    {
      "cell_type": "code",
      "execution_count": null,
      "metadata": {
        "colab": {
          "background_save": true
        },
        "id": "cDboMV2lUUq2"
      },
      "outputs": [],
      "source": [
        "#Compiling the model by configuring the loss, optimizer, and metrics paramters.\n",
        "model.compile(loss=\"categorical_crossentropy\",\n",
        "             optimizer = \"adam\",\n",
        "             metrics=['accuracy'])\n",
        "\n",
        "#Trying Categorical Crossentropy since this is multi-class classification and the data is encoded. The loss is also on a Logarithmic scale, so the model penalizes confident but incorrect predictions more heavily.\n",
        "#adam is an extension of SGD and is designed to overcome the limitations of sgd.\n",
        "# Accuracy was used as a metric to evaluate the model's success."
      ]
    },
    {
      "cell_type": "markdown",
      "metadata": {
        "id": "mDMZzVpdUUq2"
      },
      "source": [
        "## Task 5: Train and Test the model.\n",
        "a. Feed the training data to the built model.\n",
        "\n",
        "b. Ask model to make predictions about a test set.\n",
        "\n",
        "c. Verify that the predictions match the labels from the test labels."
      ]
    },
    {
      "cell_type": "code",
      "execution_count": null,
      "metadata": {
        "colab": {
          "background_save": true
        },
        "id": "kn1JgcXwUUq2",
        "outputId": "b2298ca5-e947-4098-de23-ec97fa273343"
      },
      "outputs": [
        {
          "name": "stdout",
          "output_type": "stream",
          "text": [
            "Epoch 1/20\n",
            "118/118 [==============================] - 3s 17ms/step - loss: 0.6950 - accuracy: 0.7883 - val_loss: 0.2423 - val_accuracy: 0.9289\n",
            "Epoch 2/20\n",
            "118/118 [==============================] - 1s 10ms/step - loss: 0.2716 - accuracy: 0.9228 - val_loss: 0.1669 - val_accuracy: 0.9524\n",
            "Epoch 3/20\n",
            "118/118 [==============================] - 1s 11ms/step - loss: 0.2055 - accuracy: 0.9413 - val_loss: 0.1391 - val_accuracy: 0.9588\n",
            "Epoch 4/20\n",
            "118/118 [==============================] - 1s 11ms/step - loss: 0.1676 - accuracy: 0.9527 - val_loss: 0.1157 - val_accuracy: 0.9654\n",
            "Epoch 5/20\n",
            "118/118 [==============================] - 1s 10ms/step - loss: 0.1402 - accuracy: 0.9595 - val_loss: 0.1073 - val_accuracy: 0.9669\n",
            "Epoch 6/20\n",
            "118/118 [==============================] - 1s 9ms/step - loss: 0.1217 - accuracy: 0.9645 - val_loss: 0.0973 - val_accuracy: 0.9714\n",
            "Epoch 7/20\n",
            "118/118 [==============================] - 1s 10ms/step - loss: 0.1050 - accuracy: 0.9694 - val_loss: 0.0906 - val_accuracy: 0.9721\n",
            "Epoch 8/20\n",
            "118/118 [==============================] - 1s 10ms/step - loss: 0.0943 - accuracy: 0.9720 - val_loss: 0.0829 - val_accuracy: 0.9735\n",
            "Epoch 9/20\n",
            "118/118 [==============================] - 1s 10ms/step - loss: 0.0836 - accuracy: 0.9749 - val_loss: 0.0805 - val_accuracy: 0.9750\n",
            "Epoch 10/20\n",
            "118/118 [==============================] - 1s 12ms/step - loss: 0.0763 - accuracy: 0.9774 - val_loss: 0.0800 - val_accuracy: 0.9754\n",
            "Epoch 11/20\n",
            "118/118 [==============================] - 2s 13ms/step - loss: 0.0691 - accuracy: 0.9787 - val_loss: 0.0785 - val_accuracy: 0.9756\n",
            "Epoch 12/20\n",
            "118/118 [==============================] - 1s 9ms/step - loss: 0.0626 - accuracy: 0.9811 - val_loss: 0.0782 - val_accuracy: 0.9753\n",
            "Epoch 13/20\n",
            "118/118 [==============================] - 1s 10ms/step - loss: 0.0567 - accuracy: 0.9829 - val_loss: 0.0749 - val_accuracy: 0.9777\n",
            "Epoch 14/20\n",
            "118/118 [==============================] - 1s 10ms/step - loss: 0.0510 - accuracy: 0.9847 - val_loss: 0.0761 - val_accuracy: 0.9768\n",
            "Epoch 15/20\n",
            "118/118 [==============================] - 1s 9ms/step - loss: 0.0486 - accuracy: 0.9853 - val_loss: 0.0769 - val_accuracy: 0.9773\n",
            "Epoch 16/20\n",
            "118/118 [==============================] - 1s 10ms/step - loss: 0.0428 - accuracy: 0.9867 - val_loss: 0.0706 - val_accuracy: 0.9790\n",
            "Epoch 17/20\n",
            "118/118 [==============================] - 1s 10ms/step - loss: 0.0399 - accuracy: 0.9876 - val_loss: 0.0726 - val_accuracy: 0.9785\n",
            "Epoch 18/20\n",
            "118/118 [==============================] - 1s 10ms/step - loss: 0.0364 - accuracy: 0.9887 - val_loss: 0.0752 - val_accuracy: 0.9767\n",
            "Epoch 19/20\n",
            "118/118 [==============================] - 1s 10ms/step - loss: 0.0338 - accuracy: 0.9897 - val_loss: 0.0731 - val_accuracy: 0.9788\n",
            "Epoch 20/20\n",
            "118/118 [==============================] - 2s 15ms/step - loss: 0.0313 - accuracy: 0.9898 - val_loss: 0.0714 - val_accuracy: 0.9796\n"
          ]
        }
      ],
      "source": [
        "#Training the model with 20 epochs.\n",
        "#20 epochs will be used across all notebooks for the MNIST dataset for uniformity.\n",
        "history = model.fit(x_train, y_train, epochs=20, validation_data=(x_test, y_test), batch_size=512)\n",
        "\n",
        "#A mini batch was selected to make the training less computationally expensive. A batch size of 512 means that we are processing 512 examples from the training dataset."
      ]
    },
    {
      "cell_type": "code",
      "execution_count": null,
      "metadata": {
        "colab": {
          "background_save": true
        },
        "id": "jd28fnKtUUq2",
        "outputId": "01627991-4732-444d-8ea5-1ab68c01c7b9"
      },
      "outputs": [
        {
          "data": {
            "text/plain": [
              "[<matplotlib.lines.Line2D at 0x7b423a393550>]"
            ]
          },
          "execution_count": 63,
          "metadata": {},
          "output_type": "execute_result"
        },
        {
          "data": {
            "image/png": "[encoded data removed]",
            "text/plain": [
              "<Figure size 640x480 with 1 Axes>"
            ]
          },
          "metadata": {},
          "output_type": "display_data"
        }
      ],
      "source": [
        "#Visualising the training loss and validation loss of the model\n",
        "\n",
        "plt.plot(history.history['loss'])\n",
        "plt.plot(history.history['val_loss'])\n",
        "\n",
        "#We can see that around 5 epochs, the test and validation losses were around the same."
      ]
    },
    {
      "cell_type": "code",
      "execution_count": null,
      "metadata": {
        "colab": {
          "background_save": true
        },
        "id": "73LHWuJAUUq3",
        "outputId": "f615a9bf-435d-455c-b448-f0afdbeb9715"
      },
      "outputs": [
        {
          "name": "stdout",
          "output_type": "stream",
          "text": [
            "313/313 [==============================] - 1s 2ms/step - loss: 0.0714 - accuracy: 0.9796\n"
          ]
        },
        {
          "data": {
            "text/plain": [
              "[0.07136308401823044, 0.9796000123023987]"
            ]
          },
          "execution_count": 64,
          "metadata": {},
          "output_type": "execute_result"
        }
      ],
      "source": [
        "#Evaluating the test loss and accuracy of the model.\n",
        "model.evaluate(x_test, y_test)\n",
        "\n",
        "#The increase of neurons in the second layer seemed to slightly decreased accuracy and increased loss."
      ]
    },
    {
      "cell_type": "code",
      "execution_count": null,
      "metadata": {
        "colab": {
          "background_save": true
        },
        "id": "0_3-tbECUUq3"
      },
      "outputs": [],
      "source": []
    },
    {
      "cell_type": "markdown",
      "metadata": {
        "id": "UAOW140dU7eX"
      },
      "source": [
        "# **Test 8: Increasing Dropout to 50% and increasing neurons to 156 on both layers**"
      ]
    },
    {
      "cell_type": "markdown",
      "metadata": {
        "id": "Ab3VXXVDU7ei"
      },
      "source": [
        "## Task 3: Build a Classifier using MLP\n",
        "The layer is the most fundamental component of a neural network. Data is put into layers, and they extract representations from it. Choose the number of stacking layers so that model representations should, be useful for the given task."
      ]
    },
    {
      "cell_type": "code",
      "execution_count": null,
      "metadata": {
        "colab": {
          "background_save": true
        },
        "id": "y4WIRYQYU7ej",
        "outputId": "401e3cac-fa35-4bc1-8b0b-8e1cb8b46f88"
      },
      "outputs": [
        {
          "data": {
            "application/vnd.google.colaboratory.intrinsic+json": {
              "type": "string"
            },
            "text/plain": [
              "'\\nThe parameters above were chosen by replicating the clothes classification model.\\nThis notebook aims to create a benchmark of the MNIST model so that we can compare its results to other models made.\\n'"
            ]
          },
          "execution_count": 65,
          "metadata": {},
          "output_type": "execute_result"
        }
      ],
      "source": [
        "#Creating the neural network for the classifier model\n",
        "\n",
        "#Random seed with key 42 was established for reproducibility.\n",
        "tf.random.set_seed(42)\n",
        "\n",
        "#Creating a sequential model using Keras. Sequential model linearly stacks layers one after another.\n",
        "model = tf.keras.Sequential()\n",
        "\n",
        "#We can skip flattening the array since we did that in the preprocessing stage.\n",
        "\n",
        "#Creating 2 dense hidden layers of 128, and using the ReLu activation.\n",
        "#ReLu was used due to its non-linearity properties and efficiency.\n",
        "#input shape 784 was from multiplying 28 and 28.\n",
        "model.add(tf.keras.layers.Dense(156, activation=\"relu\", input_shape=(784,)))\n",
        "model.add(tf.keras.layers.Dense(156, activation=\"relu\"))\n",
        "\n",
        "#Creating a droupout layer to help prevent overfitting\n",
        "#Dropout 0.25 means that we are dropping out 50% of our input units randomly.\n",
        "model.add(tf.keras.layers.Dropout(0.50))\n",
        "\n",
        "#Creating the final output layer, which classifies the images from 0 to 9.\n",
        "#Softmax activation is used for multiclass classfication and as the output layer.\n",
        "model.add(tf.keras.layers.Dense(10, activation=\"softmax\"))\n",
        "\n",
        "'''\n",
        "The parameters above were chosen by replicating the clothes classification model.\n",
        "This notebook aims to create a benchmark of the MNIST model so that we can compare its results to other models made.\n",
        "'''"
      ]
    },
    {
      "cell_type": "code",
      "execution_count": null,
      "metadata": {
        "colab": {
          "background_save": true
        },
        "id": "UKuzTsq5U7ej",
        "outputId": "6e3ea9df-87cb-41da-c34d-8418b1981bb9"
      },
      "outputs": [
        {
          "name": "stdout",
          "output_type": "stream",
          "text": [
            "Model: \"sequential_8\"\n",
            "_________________________________________________________________\n",
            " Layer (type)                Output Shape              Param #   \n",
            "=================================================================\n",
            " dense_24 (Dense)            (None, 156)               122460    \n",
            "                                                                 \n",
            " dense_25 (Dense)            (None, 156)               24492     \n",
            "                                                                 \n",
            " dropout_8 (Dropout)         (None, 156)               0         \n",
            "                                                                 \n",
            " dense_26 (Dense)            (None, 10)                1570      \n",
            "                                                                 \n",
            "=================================================================\n",
            "Total params: 148522 (580.16 KB)\n",
            "Trainable params: 148522 (580.16 KB)\n",
            "Non-trainable params: 0 (0.00 Byte)\n",
            "_________________________________________________________________\n"
          ]
        }
      ],
      "source": [
        "#Showing a summary of the model created.\n",
        "model.summary()"
      ]
    },
    {
      "cell_type": "markdown",
      "metadata": {
        "id": "LuFXa76sU7ej"
      },
      "source": [
        "## Task 4: Compile the Model\n",
        "A few more parameters are required before the model can be used for training.\n",
        "\n",
        "These are added at the build step of the model: Choose these parameters.\n",
        "\n",
        "Loss function\n",
        "\n",
        "Optimizer\n",
        "\n",
        "Metrics"
      ]
    },
    {
      "cell_type": "code",
      "execution_count": null,
      "metadata": {
        "colab": {
          "background_save": true
        },
        "id": "vl-yyg4iU7ej"
      },
      "outputs": [],
      "source": [
        "#Compiling the model by configuring the loss, optimizer, and metrics paramters.\n",
        "model.compile(loss=\"categorical_crossentropy\",\n",
        "             optimizer = \"adam\",\n",
        "             metrics=['accuracy'])\n",
        "\n",
        "#Trying Categorical Crossentropy since this is multi-class classification and the data is encoded. The loss is also on a Logarithmic scale, so the model penalizes confident but incorrect predictions more heavily.\n",
        "#adam is an extension of SGD and is designed to overcome the limitations of sgd.\n",
        "# Accuracy was used as a metric to evaluate the model's success."
      ]
    },
    {
      "cell_type": "markdown",
      "metadata": {
        "id": "uHiQDN2tU7ej"
      },
      "source": [
        "## Task 5: Train and Test the model.\n",
        "a. Feed the training data to the built model.\n",
        "\n",
        "b. Ask model to make predictions about a test set.\n",
        "\n",
        "c. Verify that the predictions match the labels from the test labels."
      ]
    },
    {
      "cell_type": "code",
      "execution_count": null,
      "metadata": {
        "colab": {
          "background_save": true
        },
        "id": "oHonH44iU7ej",
        "outputId": "68b21106-2f65-4a9c-95b9-b6d1686b50a8"
      },
      "outputs": [
        {
          "name": "stdout",
          "output_type": "stream",
          "text": [
            "Epoch 1/20\n",
            "118/118 [==============================] - 2s 13ms/step - loss: 0.6241 - accuracy: 0.8116 - val_loss: 0.2213 - val_accuracy: 0.9334\n",
            "Epoch 2/20\n",
            "118/118 [==============================] - 1s 11ms/step - loss: 0.2330 - accuracy: 0.9335 - val_loss: 0.1484 - val_accuracy: 0.9557\n",
            "Epoch 3/20\n",
            "118/118 [==============================] - 2s 14ms/step - loss: 0.1709 - accuracy: 0.9505 - val_loss: 0.1234 - val_accuracy: 0.9617\n",
            "Epoch 4/20\n",
            "118/118 [==============================] - 2s 14ms/step - loss: 0.1377 - accuracy: 0.9599 - val_loss: 0.1075 - val_accuracy: 0.9671\n",
            "Epoch 5/20\n",
            "118/118 [==============================] - 1s 11ms/step - loss: 0.1139 - accuracy: 0.9673 - val_loss: 0.0947 - val_accuracy: 0.9708\n",
            "Epoch 6/20\n",
            "118/118 [==============================] - 1s 11ms/step - loss: 0.0966 - accuracy: 0.9723 - val_loss: 0.0896 - val_accuracy: 0.9729\n",
            "Epoch 7/20\n",
            "118/118 [==============================] - 1s 11ms/step - loss: 0.0839 - accuracy: 0.9754 - val_loss: 0.0810 - val_accuracy: 0.9738\n",
            "Epoch 8/20\n",
            "118/118 [==============================] - 1s 12ms/step - loss: 0.0739 - accuracy: 0.9782 - val_loss: 0.0775 - val_accuracy: 0.9754\n",
            "Epoch 9/20\n",
            "118/118 [==============================] - 1s 11ms/step - loss: 0.0651 - accuracy: 0.9798 - val_loss: 0.0764 - val_accuracy: 0.9765\n",
            "Epoch 10/20\n",
            "118/118 [==============================] - 1s 12ms/step - loss: 0.0580 - accuracy: 0.9823 - val_loss: 0.0736 - val_accuracy: 0.9781\n",
            "Epoch 11/20\n",
            "118/118 [==============================] - 1s 12ms/step - loss: 0.0511 - accuracy: 0.9851 - val_loss: 0.0716 - val_accuracy: 0.9791\n",
            "Epoch 12/20\n",
            "118/118 [==============================] - 2s 17ms/step - loss: 0.0459 - accuracy: 0.9862 - val_loss: 0.0707 - val_accuracy: 0.9790\n",
            "Epoch 13/20\n",
            "118/118 [==============================] - 1s 11ms/step - loss: 0.0397 - accuracy: 0.9878 - val_loss: 0.0734 - val_accuracy: 0.9776\n",
            "Epoch 14/20\n",
            "118/118 [==============================] - 1s 11ms/step - loss: 0.0387 - accuracy: 0.9887 - val_loss: 0.0706 - val_accuracy: 0.9783\n",
            "Epoch 15/20\n",
            "118/118 [==============================] - 1s 12ms/step - loss: 0.0345 - accuracy: 0.9892 - val_loss: 0.0689 - val_accuracy: 0.9805\n",
            "Epoch 16/20\n",
            "118/118 [==============================] - 1s 11ms/step - loss: 0.0308 - accuracy: 0.9909 - val_loss: 0.0728 - val_accuracy: 0.9785\n",
            "Epoch 17/20\n",
            "118/118 [==============================] - 1s 12ms/step - loss: 0.0275 - accuracy: 0.9913 - val_loss: 0.0699 - val_accuracy: 0.9796\n",
            "Epoch 18/20\n",
            "118/118 [==============================] - 1s 12ms/step - loss: 0.0238 - accuracy: 0.9928 - val_loss: 0.0696 - val_accuracy: 0.9802\n",
            "Epoch 19/20\n",
            "118/118 [==============================] - 1s 11ms/step - loss: 0.0220 - accuracy: 0.9934 - val_loss: 0.0673 - val_accuracy: 0.9799\n",
            "Epoch 20/20\n",
            "118/118 [==============================] - 2s 17ms/step - loss: 0.0208 - accuracy: 0.9937 - val_loss: 0.0695 - val_accuracy: 0.9806\n"
          ]
        }
      ],
      "source": [
        "#Training the model with 20 epochs.\n",
        "#20 epochs will be used across all notebooks for the MNIST dataset for uniformity.\n",
        "history = model.fit(x_train, y_train, epochs=20, validation_data=(x_test, y_test), batch_size=512)\n",
        "\n",
        "#A mini batch was selected to make the training less computationally expensive. A batch size of 512 means that we are processing 512 examples from the training dataset."
      ]
    },
    {
      "cell_type": "code",
      "execution_count": null,
      "metadata": {
        "colab": {
          "background_save": true
        },
        "id": "iM4li6t9U7ej",
        "outputId": "b9a2ab5d-62c2-4207-8fe1-5e78f0220514"
      },
      "outputs": [
        {
          "data": {
            "text/plain": [
              "[<matplotlib.lines.Line2D at 0x7b423a0ac970>]"
            ]
          },
          "execution_count": 69,
          "metadata": {},
          "output_type": "execute_result"
        },
        {
          "data": {
            "image/png": "[encoded data removed]",
            "text/plain": [
              "<Figure size 640x480 with 1 Axes>"
            ]
          },
          "metadata": {},
          "output_type": "display_data"
        }
      ],
      "source": [
        "#Visualising the training loss and validation loss of the model\n",
        "\n",
        "plt.plot(history.history['loss'])\n",
        "plt.plot(history.history['val_loss'])\n",
        "\n",
        "#We can see that around 5 epochs, the test and validation losses were around the same."
      ]
    },
    {
      "cell_type": "code",
      "execution_count": null,
      "metadata": {
        "colab": {
          "background_save": true
        },
        "id": "XlJXnUVYU7ek",
        "outputId": "a691bad2-775f-4b91-ceb9-d136841beb27"
      },
      "outputs": [
        {
          "name": "stdout",
          "output_type": "stream",
          "text": [
            "313/313 [==============================] - 1s 2ms/step - loss: 0.0695 - accuracy: 0.9806\n"
          ]
        },
        {
          "data": {
            "text/plain": [
              "[0.06948141753673553, 0.9805999994277954]"
            ]
          },
          "execution_count": 70,
          "metadata": {},
          "output_type": "execute_result"
        }
      ],
      "source": [
        "#Evaluating the test loss and accuracy of the model.\n",
        "model.evaluate(x_test, y_test)\n",
        "\n",
        "#The increase of neurons in the second layer seemed to slightly decreased accuracy and increased loss."
      ]
    },
    {
      "cell_type": "code",
      "execution_count": null,
      "metadata": {
        "colab": {
          "background_save": true
        },
        "id": "yxytPStBU7ek"
      },
      "outputs": [],
      "source": []
    },
    {
      "cell_type": "markdown",
      "metadata": {
        "id": "bMv1v5niVf4J"
      },
      "source": [
        "# **Test 9: Increasing number of layers to 3**"
      ]
    },
    {
      "cell_type": "markdown",
      "metadata": {
        "id": "cCVsYFTNVf4Q"
      },
      "source": [
        "## Task 3: Build a Classifier using MLP\n",
        "The layer is the most fundamental component of a neural network. Data is put into layers, and they extract representations from it. Choose the number of stacking layers so that model representations should, be useful for the given task."
      ]
    },
    {
      "cell_type": "code",
      "execution_count": null,
      "metadata": {
        "colab": {
          "background_save": true
        },
        "id": "P-93nAn_Vf4Q",
        "outputId": "d3324cdc-ce62-4f35-9210-e98dd6ca4d22"
      },
      "outputs": [
        {
          "data": {
            "application/vnd.google.colaboratory.intrinsic+json": {
              "type": "string"
            },
            "text/plain": [
              "'\\nThe parameters above were chosen by replicating the clothes classification model.\\nThis notebook aims to create a benchmark of the MNIST model so that we can compare its results to other models made.\\n'"
            ]
          },
          "execution_count": 71,
          "metadata": {},
          "output_type": "execute_result"
        }
      ],
      "source": [
        "#Creating the neural network for the classifier model\n",
        "\n",
        "#Random seed with key 42 was established for reproducibility.\n",
        "tf.random.set_seed(42)\n",
        "\n",
        "#Creating a sequential model using Keras. Sequential model linearly stacks layers one after another.\n",
        "model = tf.keras.Sequential()\n",
        "\n",
        "#We can skip flattening the array since we did that in the preprocessing stage.\n",
        "\n",
        "#Creating 2 dense hidden layers of 128, and using the ReLu activation.\n",
        "#ReLu was used due to its non-linearity properties and efficiency.\n",
        "#input shape 784 was from multiplying 28 and 28.\n",
        "model.add(tf.keras.layers.Dense(128, activation=\"relu\", input_shape=(784,)))\n",
        "model.add(tf.keras.layers.Dense(128, activation=\"relu\"))\n",
        "model.add(tf.keras.layers.Dense(128, activation=\"relu\"))\n",
        "\n",
        "#Creating a droupout layer to help prevent overfitting\n",
        "#Dropout 0.25 means that we are dropping out 25% of our input units randomly.\n",
        "model.add(tf.keras.layers.Dropout(0.25))\n",
        "\n",
        "#Creating the final output layer, which classifies the images from 0 to 9.\n",
        "#Softmax activation is used for multiclass classfication and as the output layer.\n",
        "model.add(tf.keras.layers.Dense(10, activation=\"softmax\"))\n",
        "\n",
        "'''\n",
        "The parameters above were chosen by replicating the clothes classification model.\n",
        "This notebook aims to create a benchmark of the MNIST model so that we can compare its results to other models made.\n",
        "'''"
      ]
    },
    {
      "cell_type": "code",
      "execution_count": null,
      "metadata": {
        "colab": {
          "background_save": true
        },
        "id": "nKETFuoUVf4R",
        "outputId": "28611edb-9a23-40bd-bb96-8ee7813b5ef1"
      },
      "outputs": [
        {
          "name": "stdout",
          "output_type": "stream",
          "text": [
            "Model: \"sequential_9\"\n",
            "_________________________________________________________________\n",
            " Layer (type)                Output Shape              Param #   \n",
            "=================================================================\n",
            " dense_27 (Dense)            (None, 128)               100480    \n",
            "                                                                 \n",
            " dense_28 (Dense)            (None, 128)               16512     \n",
            "                                                                 \n",
            " dense_29 (Dense)            (None, 128)               16512     \n",
            "                                                                 \n",
            " dropout_9 (Dropout)         (None, 128)               0         \n",
            "                                                                 \n",
            " dense_30 (Dense)            (None, 10)                1290      \n",
            "                                                                 \n",
            "=================================================================\n",
            "Total params: 134794 (526.54 KB)\n",
            "Trainable params: 134794 (526.54 KB)\n",
            "Non-trainable params: 0 (0.00 Byte)\n",
            "_________________________________________________________________\n"
          ]
        }
      ],
      "source": [
        "#Showing a summary of the model created.\n",
        "model.summary()"
      ]
    },
    {
      "cell_type": "markdown",
      "metadata": {
        "id": "6zF5wBCZVf4R"
      },
      "source": [
        "## Task 4: Compile the Model\n",
        "A few more parameters are required before the model can be used for training.\n",
        "\n",
        "These are added at the build step of the model: Choose these parameters.\n",
        "\n",
        "Loss function\n",
        "\n",
        "Optimizer\n",
        "\n",
        "Metrics"
      ]
    },
    {
      "cell_type": "code",
      "execution_count": null,
      "metadata": {
        "colab": {
          "background_save": true
        },
        "id": "rNXySsCrVf4R"
      },
      "outputs": [],
      "source": [
        "#Compiling the model by configuring the loss, optimizer, and metrics paramters.\n",
        "model.compile(loss=\"categorical_crossentropy\",\n",
        "             optimizer = \"adam\",\n",
        "             metrics=['accuracy'])\n",
        "\n",
        "#Trying Categorical Crossentropy since this is multi-class classification and the data is encoded. The loss is also on a Logarithmic scale, so the model penalizes confident but incorrect predictions more heavily.\n",
        "#adam is an extension of SGD and is designed to overcome the limitations of sgd.\n",
        "# Accuracy was used as a metric to evaluate the model's success."
      ]
    },
    {
      "cell_type": "markdown",
      "metadata": {
        "id": "W4I6S7ZZVf4R"
      },
      "source": [
        "## Task 5: Train and Test the model.\n",
        "a. Feed the training data to the built model.\n",
        "\n",
        "b. Ask model to make predictions about a test set.\n",
        "\n",
        "c. Verify that the predictions match the labels from the test labels."
      ]
    },
    {
      "cell_type": "code",
      "execution_count": null,
      "metadata": {
        "colab": {
          "background_save": true
        },
        "id": "-aPdpdTJVf4R",
        "outputId": "85486db8-762e-414d-8954-0d504b8bf434"
      },
      "outputs": [
        {
          "name": "stdout",
          "output_type": "stream",
          "text": [
            "Epoch 1/20\n",
            "118/118 [==============================] - 2s 12ms/step - loss: 0.5605 - accuracy: 0.8342 - val_loss: 0.2039 - val_accuracy: 0.9370\n",
            "Epoch 2/20\n",
            "118/118 [==============================] - 1s 11ms/step - loss: 0.1899 - accuracy: 0.9445 - val_loss: 0.1335 - val_accuracy: 0.9603\n",
            "Epoch 3/20\n",
            "118/118 [==============================] - 1s 11ms/step - loss: 0.1327 - accuracy: 0.9610 - val_loss: 0.1076 - val_accuracy: 0.9659\n",
            "Epoch 4/20\n",
            "118/118 [==============================] - 1s 11ms/step - loss: 0.1017 - accuracy: 0.9696 - val_loss: 0.0993 - val_accuracy: 0.9696\n",
            "Epoch 5/20\n",
            "118/118 [==============================] - 1s 11ms/step - loss: 0.0824 - accuracy: 0.9750 - val_loss: 0.0895 - val_accuracy: 0.9730\n",
            "Epoch 6/20\n",
            "118/118 [==============================] - 2s 15ms/step - loss: 0.0677 - accuracy: 0.9793 - val_loss: 0.0832 - val_accuracy: 0.9752\n",
            "Epoch 7/20\n",
            "118/118 [==============================] - 2s 13ms/step - loss: 0.0595 - accuracy: 0.9818 - val_loss: 0.0744 - val_accuracy: 0.9767\n",
            "Epoch 8/20\n",
            "118/118 [==============================] - 1s 11ms/step - loss: 0.0498 - accuracy: 0.9854 - val_loss: 0.0771 - val_accuracy: 0.9760\n",
            "Epoch 9/20\n",
            "118/118 [==============================] - 1s 11ms/step - loss: 0.0448 - accuracy: 0.9862 - val_loss: 0.0722 - val_accuracy: 0.9782\n",
            "Epoch 10/20\n",
            "118/118 [==============================] - 1s 11ms/step - loss: 0.0371 - accuracy: 0.9884 - val_loss: 0.0754 - val_accuracy: 0.9776\n",
            "Epoch 11/20\n",
            "118/118 [==============================] - 1s 11ms/step - loss: 0.0321 - accuracy: 0.9901 - val_loss: 0.0738 - val_accuracy: 0.9789\n",
            "Epoch 12/20\n",
            "118/118 [==============================] - 1s 11ms/step - loss: 0.0303 - accuracy: 0.9905 - val_loss: 0.0796 - val_accuracy: 0.9779\n",
            "Epoch 13/20\n",
            "118/118 [==============================] - 1s 12ms/step - loss: 0.0253 - accuracy: 0.9920 - val_loss: 0.0733 - val_accuracy: 0.9792\n",
            "Epoch 14/20\n",
            "118/118 [==============================] - 1s 12ms/step - loss: 0.0209 - accuracy: 0.9936 - val_loss: 0.0742 - val_accuracy: 0.9806\n",
            "Epoch 15/20\n",
            "118/118 [==============================] - 2s 16ms/step - loss: 0.0181 - accuracy: 0.9945 - val_loss: 0.0801 - val_accuracy: 0.9790\n",
            "Epoch 16/20\n",
            "118/118 [==============================] - 1s 11ms/step - loss: 0.0152 - accuracy: 0.9951 - val_loss: 0.0792 - val_accuracy: 0.9794\n",
            "Epoch 17/20\n",
            "118/118 [==============================] - 1s 12ms/step - loss: 0.0143 - accuracy: 0.9955 - val_loss: 0.0779 - val_accuracy: 0.9796\n",
            "Epoch 18/20\n",
            "118/118 [==============================] - 1s 11ms/step - loss: 0.0124 - accuracy: 0.9961 - val_loss: 0.0757 - val_accuracy: 0.9812\n",
            "Epoch 19/20\n",
            "118/118 [==============================] - 1s 11ms/step - loss: 0.0123 - accuracy: 0.9962 - val_loss: 0.0789 - val_accuracy: 0.9808\n",
            "Epoch 20/20\n",
            "118/118 [==============================] - 1s 10ms/step - loss: 0.0111 - accuracy: 0.9964 - val_loss: 0.0796 - val_accuracy: 0.9799\n"
          ]
        }
      ],
      "source": [
        "#Training the model with 20 epochs.\n",
        "#20 epochs will be used across all notebooks for the MNIST dataset for uniformity.\n",
        "history = model.fit(x_train, y_train, epochs=20, validation_data=(x_test, y_test), batch_size=512)\n",
        "\n",
        "#A mini batch was selected to make the training less computationally expensive. A batch size of 512 means that we are processing 512 examples from the training dataset."
      ]
    },
    {
      "cell_type": "code",
      "execution_count": null,
      "metadata": {
        "colab": {
          "background_save": true
        },
        "id": "iMgqPXXTVf4R",
        "outputId": "ea0db332-46a3-4203-90b2-cd7bc000be9b"
      },
      "outputs": [
        {
          "data": {
            "text/plain": [
              "[<matplotlib.lines.Line2D at 0x7b4239dc7dc0>]"
            ]
          },
          "execution_count": 75,
          "metadata": {},
          "output_type": "execute_result"
        },
        {
          "data": {
            "image/png": "[encoded data removed]",
            "text/plain": [
              "<Figure size 640x480 with 1 Axes>"
            ]
          },
          "metadata": {},
          "output_type": "display_data"
        }
      ],
      "source": [
        "#Visualising the training loss and validation loss of the model\n",
        "\n",
        "plt.plot(history.history['loss'])\n",
        "plt.plot(history.history['val_loss'])\n",
        "\n",
        "#We can see that around 5 epochs, the test and validation losses were around the same."
      ]
    },
    {
      "cell_type": "code",
      "execution_count": null,
      "metadata": {
        "colab": {
          "background_save": true
        },
        "id": "7kkbFhF3Vf4R",
        "outputId": "b7695a5c-473d-4aab-f580-1f032a7b1ceb"
      },
      "outputs": [
        {
          "name": "stdout",
          "output_type": "stream",
          "text": [
            "313/313 [==============================] - 1s 2ms/step - loss: 0.0796 - accuracy: 0.9799\n"
          ]
        },
        {
          "data": {
            "text/plain": [
              "[0.07955128699541092, 0.9799000024795532]"
            ]
          },
          "execution_count": 76,
          "metadata": {},
          "output_type": "execute_result"
        }
      ],
      "source": [
        "#Evaluating the test loss and accuracy of the model.\n",
        "model.evaluate(x_test, y_test)\n",
        "\n",
        "#The increase of neurons in the second layer seemed to slightly decreased accuracy and increased loss."
      ]
    },
    {
      "cell_type": "code",
      "execution_count": null,
      "metadata": {
        "colab": {
          "background_save": true
        },
        "id": "8jqoa8kDVf4S"
      },
      "outputs": [],
      "source": []
    },
    {
      "cell_type": "markdown",
      "metadata": {
        "id": "BAVXxZd0WHHX"
      },
      "source": [
        "# **Test 10: Increasing number of layers to 3 and Increasing Dropout**"
      ]
    },
    {
      "cell_type": "markdown",
      "metadata": {
        "id": "6-tECDUBWHHh"
      },
      "source": [
        "## Task 3: Build a Classifier using MLP\n",
        "The layer is the most fundamental component of a neural network. Data is put into layers, and they extract representations from it. Choose the number of stacking layers so that model representations should, be useful for the given task."
      ]
    },
    {
      "cell_type": "code",
      "execution_count": null,
      "metadata": {
        "colab": {
          "background_save": true
        },
        "id": "r_DkmHuKWHHi",
        "outputId": "1aae57dc-9d38-41a6-b8c3-afe3762761ee"
      },
      "outputs": [
        {
          "data": {
            "application/vnd.google.colaboratory.intrinsic+json": {
              "type": "string"
            },
            "text/plain": [
              "'\\nThe parameters above were chosen by replicating the clothes classification model.\\nThis notebook aims to create a benchmark of the MNIST model so that we can compare its results to other models made.\\n'"
            ]
          },
          "execution_count": 77,
          "metadata": {},
          "output_type": "execute_result"
        }
      ],
      "source": [
        "#Creating the neural network for the classifier model\n",
        "\n",
        "#Random seed with key 42 was established for reproducibility.\n",
        "tf.random.set_seed(42)\n",
        "\n",
        "#Creating a sequential model using Keras. Sequential model linearly stacks layers one after another.\n",
        "model = tf.keras.Sequential()\n",
        "\n",
        "#We can skip flattening the array since we did that in the preprocessing stage.\n",
        "\n",
        "#Creating 2 dense hidden layers of 128, and using the ReLu activation.\n",
        "#ReLu was used due to its non-linearity properties and efficiency.\n",
        "#input shape 784 was from multiplying 28 and 28.\n",
        "model.add(tf.keras.layers.Dense(128, activation=\"relu\", input_shape=(784,)))\n",
        "model.add(tf.keras.layers.Dense(128, activation=\"relu\"))\n",
        "model.add(tf.keras.layers.Dense(128, activation=\"relu\"))\n",
        "\n",
        "#Creating a droupout layer to help prevent overfitting\n",
        "#Dropout 0.25 means that we are dropping out 25% of our input units randomly.\n",
        "model.add(tf.keras.layers.Dropout(0.50))\n",
        "\n",
        "#Creating the final output layer, which classifies the images from 0 to 9.\n",
        "#Softmax activation is used for multiclass classfication and as the output layer.\n",
        "model.add(tf.keras.layers.Dense(10, activation=\"softmax\"))\n",
        "\n",
        "'''\n",
        "The parameters above were chosen by replicating the clothes classification model.\n",
        "This notebook aims to create a benchmark of the MNIST model so that we can compare its results to other models made.\n",
        "'''"
      ]
    },
    {
      "cell_type": "code",
      "execution_count": null,
      "metadata": {
        "colab": {
          "background_save": true
        },
        "id": "grvCFZu_WHHi",
        "outputId": "f4407135-db7a-4d55-f826-ef1edb849a9e"
      },
      "outputs": [
        {
          "name": "stdout",
          "output_type": "stream",
          "text": [
            "Model: \"sequential_10\"\n",
            "_________________________________________________________________\n",
            " Layer (type)                Output Shape              Param #   \n",
            "=================================================================\n",
            " dense_31 (Dense)            (None, 128)               100480    \n",
            "                                                                 \n",
            " dense_32 (Dense)            (None, 128)               16512     \n",
            "                                                                 \n",
            " dense_33 (Dense)            (None, 128)               16512     \n",
            "                                                                 \n",
            " dropout_10 (Dropout)        (None, 128)               0         \n",
            "                                                                 \n",
            " dense_34 (Dense)            (None, 10)                1290      \n",
            "                                                                 \n",
            "=================================================================\n",
            "Total params: 134794 (526.54 KB)\n",
            "Trainable params: 134794 (526.54 KB)\n",
            "Non-trainable params: 0 (0.00 Byte)\n",
            "_________________________________________________________________\n"
          ]
        }
      ],
      "source": [
        "#Showing a summary of the model created.\n",
        "model.summary()"
      ]
    },
    {
      "cell_type": "markdown",
      "metadata": {
        "id": "iV3bazNgWHHi"
      },
      "source": [
        "## Task 4: Compile the Model\n",
        "A few more parameters are required before the model can be used for training.\n",
        "\n",
        "These are added at the build step of the model: Choose these parameters.\n",
        "\n",
        "Loss function\n",
        "\n",
        "Optimizer\n",
        "\n",
        "Metrics"
      ]
    },
    {
      "cell_type": "code",
      "execution_count": null,
      "metadata": {
        "colab": {
          "background_save": true
        },
        "id": "y7TcKssEWHHi"
      },
      "outputs": [],
      "source": [
        "#Compiling the model by configuring the loss, optimizer, and metrics paramters.\n",
        "model.compile(loss=\"categorical_crossentropy\",\n",
        "             optimizer = \"adam\",\n",
        "             metrics=['accuracy'])\n",
        "\n",
        "#Trying Categorical Crossentropy since this is multi-class classification and the data is encoded. The loss is also on a Logarithmic scale, so the model penalizes confident but incorrect predictions more heavily.\n",
        "#adam is an extension of SGD and is designed to overcome the limitations of sgd.\n",
        "# Accuracy was used as a metric to evaluate the model's success."
      ]
    },
    {
      "cell_type": "markdown",
      "metadata": {
        "id": "5XPBhhV5WHHi"
      },
      "source": [
        "## Task 5: Train and Test the model.\n",
        "a. Feed the training data to the built model.\n",
        "\n",
        "b. Ask model to make predictions about a test set.\n",
        "\n",
        "c. Verify that the predictions match the labels from the test labels."
      ]
    },
    {
      "cell_type": "code",
      "execution_count": null,
      "metadata": {
        "colab": {
          "background_save": true
        },
        "id": "MJ8fl-3fWHHj",
        "outputId": "eb61a827-cc03-44e4-9f21-b507acb9802c"
      },
      "outputs": [
        {
          "name": "stdout",
          "output_type": "stream",
          "text": [
            "Epoch 1/20\n",
            "118/118 [==============================] - 2s 12ms/step - loss: 0.6722 - accuracy: 0.7926 - val_loss: 0.2124 - val_accuracy: 0.9362\n",
            "Epoch 2/20\n",
            "118/118 [==============================] - 1s 10ms/step - loss: 0.2282 - accuracy: 0.9366 - val_loss: 0.1451 - val_accuracy: 0.9559\n",
            "Epoch 3/20\n",
            "118/118 [==============================] - 1s 10ms/step - loss: 0.1631 - accuracy: 0.9536 - val_loss: 0.1135 - val_accuracy: 0.9638\n",
            "Epoch 4/20\n",
            "118/118 [==============================] - 1s 10ms/step - loss: 0.1264 - accuracy: 0.9645 - val_loss: 0.1017 - val_accuracy: 0.9679\n",
            "Epoch 5/20\n",
            "118/118 [==============================] - 1s 11ms/step - loss: 0.1024 - accuracy: 0.9701 - val_loss: 0.1003 - val_accuracy: 0.9678\n",
            "Epoch 6/20\n",
            "118/118 [==============================] - 1s 10ms/step - loss: 0.0857 - accuracy: 0.9754 - val_loss: 0.0855 - val_accuracy: 0.9739\n",
            "Epoch 7/20\n",
            "118/118 [==============================] - 1s 11ms/step - loss: 0.0716 - accuracy: 0.9788 - val_loss: 0.0800 - val_accuracy: 0.9748\n",
            "Epoch 8/20\n",
            "118/118 [==============================] - 2s 13ms/step - loss: 0.0602 - accuracy: 0.9820 - val_loss: 0.0782 - val_accuracy: 0.9775\n",
            "Epoch 9/20\n",
            "118/118 [==============================] - 2s 14ms/step - loss: 0.0532 - accuracy: 0.9845 - val_loss: 0.0789 - val_accuracy: 0.9777\n",
            "Epoch 10/20\n",
            "118/118 [==============================] - 1s 10ms/step - loss: 0.0449 - accuracy: 0.9867 - val_loss: 0.0779 - val_accuracy: 0.9780\n",
            "Epoch 11/20\n",
            "118/118 [==============================] - 1s 10ms/step - loss: 0.0421 - accuracy: 0.9870 - val_loss: 0.0769 - val_accuracy: 0.9782\n",
            "Epoch 12/20\n",
            "118/118 [==============================] - 1s 10ms/step - loss: 0.0352 - accuracy: 0.9895 - val_loss: 0.0761 - val_accuracy: 0.9774\n",
            "Epoch 13/20\n",
            "118/118 [==============================] - 1s 10ms/step - loss: 0.0307 - accuracy: 0.9904 - val_loss: 0.0759 - val_accuracy: 0.9795\n",
            "Epoch 14/20\n",
            "118/118 [==============================] - 1s 10ms/step - loss: 0.0289 - accuracy: 0.9914 - val_loss: 0.0759 - val_accuracy: 0.9788\n",
            "Epoch 15/20\n",
            "118/118 [==============================] - 1s 10ms/step - loss: 0.0290 - accuracy: 0.9911 - val_loss: 0.0784 - val_accuracy: 0.9776\n",
            "Epoch 16/20\n",
            "118/118 [==============================] - 1s 11ms/step - loss: 0.0214 - accuracy: 0.9934 - val_loss: 0.0801 - val_accuracy: 0.9799\n",
            "Epoch 17/20\n",
            "118/118 [==============================] - 2s 13ms/step - loss: 0.0184 - accuracy: 0.9946 - val_loss: 0.0841 - val_accuracy: 0.9786\n",
            "Epoch 18/20\n",
            "118/118 [==============================] - 2s 14ms/step - loss: 0.0179 - accuracy: 0.9946 - val_loss: 0.0820 - val_accuracy: 0.9798\n",
            "Epoch 19/20\n",
            "118/118 [==============================] - 1s 10ms/step - loss: 0.0162 - accuracy: 0.9949 - val_loss: 0.0904 - val_accuracy: 0.9802\n",
            "Epoch 20/20\n",
            "118/118 [==============================] - 1s 10ms/step - loss: 0.0160 - accuracy: 0.9952 - val_loss: 0.0905 - val_accuracy: 0.9776\n"
          ]
        }
      ],
      "source": [
        "#Training the model with 20 epochs.\n",
        "#20 epochs will be used across all notebooks for the MNIST dataset for uniformity.\n",
        "history = model.fit(x_train, y_train, epochs=20, validation_data=(x_test, y_test), batch_size=512)\n",
        "\n",
        "#A mini batch was selected to make the training less computationally expensive. A batch size of 512 means that we are processing 512 examples from the training dataset."
      ]
    },
    {
      "cell_type": "code",
      "execution_count": null,
      "metadata": {
        "colab": {
          "background_save": true
        },
        "id": "0tiAnjn8WHHj",
        "outputId": "51d3a3e0-e85d-4a24-885f-a7275dafd380"
      },
      "outputs": [
        {
          "data": {
            "text/plain": [
              "[<matplotlib.lines.Line2D at 0x7b42399e8d90>]"
            ]
          },
          "execution_count": 81,
          "metadata": {},
          "output_type": "execute_result"
        },
        {
          "data": {
            "image/png": "[encoded data removed]",
            "text/plain": [
              "<Figure size 640x480 with 1 Axes>"
            ]
          },
          "metadata": {},
          "output_type": "display_data"
        }
      ],
      "source": [
        "#Visualising the training loss and validation loss of the model\n",
        "\n",
        "plt.plot(history.history['loss'])\n",
        "plt.plot(history.history['val_loss'])\n",
        "\n",
        "#We can see that around 5 epochs, the test and validation losses were around the same."
      ]
    },
    {
      "cell_type": "code",
      "execution_count": null,
      "metadata": {
        "colab": {
          "background_save": true
        },
        "id": "h9xtbHx9WHHj",
        "outputId": "5d13d936-d34e-4064-975d-23cb5102d692"
      },
      "outputs": [
        {
          "name": "stdout",
          "output_type": "stream",
          "text": [
            "313/313 [==============================] - 1s 2ms/step - loss: 0.0905 - accuracy: 0.9776\n"
          ]
        },
        {
          "data": {
            "text/plain": [
              "[0.09052859246730804, 0.9775999784469604]"
            ]
          },
          "execution_count": 82,
          "metadata": {},
          "output_type": "execute_result"
        }
      ],
      "source": [
        "#Evaluating the test loss and accuracy of the model.\n",
        "model.evaluate(x_test, y_test)\n",
        "\n",
        "#The increase of neurons in the second layer seemed to slightly decreased accuracy and increased loss."
      ]
    },
    {
      "cell_type": "code",
      "execution_count": null,
      "metadata": {
        "colab": {
          "background_save": true
        },
        "id": "tbOBQ1S2WHHj"
      },
      "outputs": [],
      "source": []
    }
  ],
  "metadata": {
    "colab": {
      "collapsed_sections": [
        "HTOWf9rux3Bk",
        "RA5DkcZ0yY8Q"
      ],
      "provenance": []
    },
    "kernelspec": {
      "display_name": "Python 3",
      "name": "python3"
    },
    "language_info": {
      "name": "python"
    }
  },
  "nbformat": 4,
  "nbformat_minor": 0
}