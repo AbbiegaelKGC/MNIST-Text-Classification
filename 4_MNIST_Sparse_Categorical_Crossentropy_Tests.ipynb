{
  "nbformat": 4,
  "nbformat_minor": 0,
  "metadata": {
    "colab": {
      "provenance": [],
      "collapsed_sections": [
        "HTOWf9rux3Bk",
        "RA5DkcZ0yY8Q"
      ]
    },
    "kernelspec": {
      "name": "python3",
      "display_name": "Python 3"
    },
    "language_info": {
      "name": "python"
    }
  },
  "cells": [
    {
      "cell_type": "markdown",
      "source": [
        "## Task 1\n",
        "Import libraries"
      ],
      "metadata": {
        "id": "HTOWf9rux3Bk"
      }
    },
    {
      "cell_type": "code",
      "execution_count": null,
      "metadata": {
        "id": "fw32qBUtgEnc"
      },
      "outputs": [],
      "source": [
        "#import relevant libraries\n",
        "\n",
        "import tensorflow as tf\n",
        "import matplotlib.pyplot as plt\n",
        "import pandas as pd\n",
        "import numpy as np\n",
        "from keras.utils import to_categorical"
      ]
    },
    {
      "cell_type": "markdown",
      "source": [
        "## Task 2\n",
        "Load dataset using keras API\n",
        "\n",
        "Dataset must be pre-processed before training the network, if you check image in the training, you will see pixel value range from 0 to 255, scale these values range from 0 to 1. [note it is important that both training and testing dataset pre-processed same way]."
      ],
      "metadata": {
        "id": "RA5DkcZ0yY8Q"
      }
    },
    {
      "cell_type": "code",
      "source": [
        "#loading the mnist dataset using keras API\n",
        "\n",
        "mnist = tf.keras.datasets.mnist.load_data(path=\"mnist.npz\")"
      ],
      "metadata": {
        "id": "mTdld1QLx8fO"
      },
      "execution_count": null,
      "outputs": []
    },
    {
      "cell_type": "code",
      "source": [
        "# Checking the structure of mnist dataset.\n",
        "print(mnist)"
      ],
      "metadata": {
        "colab": {
          "base_uri": "https://localhost:8080/"
        },
        "id": "EA4iDBRnya48",
        "outputId": "d8e0968e-021c-4c1d-db5f-5e81de8b8f61"
      },
      "execution_count": null,
      "outputs": [
        {
          "output_type": "stream",
          "name": "stdout",
          "text": [
            "((array([[[0, 0, 0, ..., 0, 0, 0],\n",
            "        [0, 0, 0, ..., 0, 0, 0],\n",
            "        [0, 0, 0, ..., 0, 0, 0],\n",
            "        ...,\n",
            "        [0, 0, 0, ..., 0, 0, 0],\n",
            "        [0, 0, 0, ..., 0, 0, 0],\n",
            "        [0, 0, 0, ..., 0, 0, 0]],\n",
            "\n",
            "       [[0, 0, 0, ..., 0, 0, 0],\n",
            "        [0, 0, 0, ..., 0, 0, 0],\n",
            "        [0, 0, 0, ..., 0, 0, 0],\n",
            "        ...,\n",
            "        [0, 0, 0, ..., 0, 0, 0],\n",
            "        [0, 0, 0, ..., 0, 0, 0],\n",
            "        [0, 0, 0, ..., 0, 0, 0]],\n",
            "\n",
            "       [[0, 0, 0, ..., 0, 0, 0],\n",
            "        [0, 0, 0, ..., 0, 0, 0],\n",
            "        [0, 0, 0, ..., 0, 0, 0],\n",
            "        ...,\n",
            "        [0, 0, 0, ..., 0, 0, 0],\n",
            "        [0, 0, 0, ..., 0, 0, 0],\n",
            "        [0, 0, 0, ..., 0, 0, 0]],\n",
            "\n",
            "       ...,\n",
            "\n",
            "       [[0, 0, 0, ..., 0, 0, 0],\n",
            "        [0, 0, 0, ..., 0, 0, 0],\n",
            "        [0, 0, 0, ..., 0, 0, 0],\n",
            "        ...,\n",
            "        [0, 0, 0, ..., 0, 0, 0],\n",
            "        [0, 0, 0, ..., 0, 0, 0],\n",
            "        [0, 0, 0, ..., 0, 0, 0]],\n",
            "\n",
            "       [[0, 0, 0, ..., 0, 0, 0],\n",
            "        [0, 0, 0, ..., 0, 0, 0],\n",
            "        [0, 0, 0, ..., 0, 0, 0],\n",
            "        ...,\n",
            "        [0, 0, 0, ..., 0, 0, 0],\n",
            "        [0, 0, 0, ..., 0, 0, 0],\n",
            "        [0, 0, 0, ..., 0, 0, 0]],\n",
            "\n",
            "       [[0, 0, 0, ..., 0, 0, 0],\n",
            "        [0, 0, 0, ..., 0, 0, 0],\n",
            "        [0, 0, 0, ..., 0, 0, 0],\n",
            "        ...,\n",
            "        [0, 0, 0, ..., 0, 0, 0],\n",
            "        [0, 0, 0, ..., 0, 0, 0],\n",
            "        [0, 0, 0, ..., 0, 0, 0]]], dtype=uint8), array([5, 0, 4, ..., 5, 6, 8], dtype=uint8)), (array([[[0, 0, 0, ..., 0, 0, 0],\n",
            "        [0, 0, 0, ..., 0, 0, 0],\n",
            "        [0, 0, 0, ..., 0, 0, 0],\n",
            "        ...,\n",
            "        [0, 0, 0, ..., 0, 0, 0],\n",
            "        [0, 0, 0, ..., 0, 0, 0],\n",
            "        [0, 0, 0, ..., 0, 0, 0]],\n",
            "\n",
            "       [[0, 0, 0, ..., 0, 0, 0],\n",
            "        [0, 0, 0, ..., 0, 0, 0],\n",
            "        [0, 0, 0, ..., 0, 0, 0],\n",
            "        ...,\n",
            "        [0, 0, 0, ..., 0, 0, 0],\n",
            "        [0, 0, 0, ..., 0, 0, 0],\n",
            "        [0, 0, 0, ..., 0, 0, 0]],\n",
            "\n",
            "       [[0, 0, 0, ..., 0, 0, 0],\n",
            "        [0, 0, 0, ..., 0, 0, 0],\n",
            "        [0, 0, 0, ..., 0, 0, 0],\n",
            "        ...,\n",
            "        [0, 0, 0, ..., 0, 0, 0],\n",
            "        [0, 0, 0, ..., 0, 0, 0],\n",
            "        [0, 0, 0, ..., 0, 0, 0]],\n",
            "\n",
            "       ...,\n",
            "\n",
            "       [[0, 0, 0, ..., 0, 0, 0],\n",
            "        [0, 0, 0, ..., 0, 0, 0],\n",
            "        [0, 0, 0, ..., 0, 0, 0],\n",
            "        ...,\n",
            "        [0, 0, 0, ..., 0, 0, 0],\n",
            "        [0, 0, 0, ..., 0, 0, 0],\n",
            "        [0, 0, 0, ..., 0, 0, 0]],\n",
            "\n",
            "       [[0, 0, 0, ..., 0, 0, 0],\n",
            "        [0, 0, 0, ..., 0, 0, 0],\n",
            "        [0, 0, 0, ..., 0, 0, 0],\n",
            "        ...,\n",
            "        [0, 0, 0, ..., 0, 0, 0],\n",
            "        [0, 0, 0, ..., 0, 0, 0],\n",
            "        [0, 0, 0, ..., 0, 0, 0]],\n",
            "\n",
            "       [[0, 0, 0, ..., 0, 0, 0],\n",
            "        [0, 0, 0, ..., 0, 0, 0],\n",
            "        [0, 0, 0, ..., 0, 0, 0],\n",
            "        ...,\n",
            "        [0, 0, 0, ..., 0, 0, 0],\n",
            "        [0, 0, 0, ..., 0, 0, 0],\n",
            "        [0, 0, 0, ..., 0, 0, 0]]], dtype=uint8), array([7, 2, 1, ..., 4, 5, 6], dtype=uint8)))\n"
          ]
        }
      ]
    },
    {
      "cell_type": "code",
      "source": [
        "#Assigning images to test and train\n",
        "(X_train, y_train), (X_test, y_test) = mnist"
      ],
      "metadata": {
        "id": "uuSnFT1xyb7J"
      },
      "execution_count": null,
      "outputs": []
    },
    {
      "cell_type": "code",
      "source": [
        "#Checking the shape of X_train (training dataset of pictures)\n",
        "\n",
        "X_train.shape"
      ],
      "metadata": {
        "colab": {
          "base_uri": "https://localhost:8080/"
        },
        "id": "QXMYK0s2ylyH",
        "outputId": "0a62582d-0c18-40d0-f172-86f9afd92335"
      },
      "execution_count": null,
      "outputs": [
        {
          "output_type": "execute_result",
          "data": {
            "text/plain": [
              "(60000, 28, 28)"
            ]
          },
          "metadata": {},
          "execution_count": 32
        }
      ]
    },
    {
      "cell_type": "code",
      "source": [
        "#Checking the shape of y_train (class numbers of training dataset)\n",
        "\n",
        "y_train.shape"
      ],
      "metadata": {
        "colab": {
          "base_uri": "https://localhost:8080/"
        },
        "id": "yslLXRjiynJv",
        "outputId": "f113a2d0-8130-4e6b-8ddf-63da91336f56"
      },
      "execution_count": null,
      "outputs": [
        {
          "output_type": "execute_result",
          "data": {
            "text/plain": [
              "(60000,)"
            ]
          },
          "metadata": {},
          "execution_count": 33
        }
      ]
    },
    {
      "cell_type": "code",
      "source": [
        "#Checking the shape of X_test (testing dataset of pictures)\n",
        "\n",
        "X_test.shape"
      ],
      "metadata": {
        "colab": {
          "base_uri": "https://localhost:8080/"
        },
        "id": "9zgh_lFUyyPk",
        "outputId": "def70b8c-7c1c-49a5-a0cd-cb8374b1f2c7"
      },
      "execution_count": null,
      "outputs": [
        {
          "output_type": "execute_result",
          "data": {
            "text/plain": [
              "(10000, 28, 28)"
            ]
          },
          "metadata": {},
          "execution_count": 34
        }
      ]
    },
    {
      "cell_type": "code",
      "source": [
        "#Checking the shape of y_test(class numbers of testing dataset)\n",
        "\n",
        "y_test.shape"
      ],
      "metadata": {
        "colab": {
          "base_uri": "https://localhost:8080/"
        },
        "id": "KfmYA7w0yzlb",
        "outputId": "e9bba262-6015-4a68-91d2-66f90ec03d4a"
      },
      "execution_count": null,
      "outputs": [
        {
          "output_type": "execute_result",
          "data": {
            "text/plain": [
              "(10000,)"
            ]
          },
          "metadata": {},
          "execution_count": 35
        }
      ]
    },
    {
      "cell_type": "code",
      "source": [
        "#Summary, showing image\n",
        "\n",
        "#Tells us which number the first array is\n",
        "print(\"class number example :\", y_train[0])\n",
        "\n",
        "#Shows us the first array\n",
        "print(X_train[0])\n",
        "\n",
        "#Plots what the array looks like\n",
        "plt.imshow(X_train[0])"
      ],
      "metadata": {
        "colab": {
          "base_uri": "https://localhost:8080/",
          "height": 1000
        },
        "id": "KyBgG_Oty7e5",
        "outputId": "7d6829db-0653-41dd-f176-5a15a8b75dc8"
      },
      "execution_count": null,
      "outputs": [
        {
          "output_type": "stream",
          "name": "stdout",
          "text": [
            "class number example : 5\n",
            "[[  0   0   0   0   0   0   0   0   0   0   0   0   0   0   0   0   0   0\n",
            "    0   0   0   0   0   0   0   0   0   0]\n",
            " [  0   0   0   0   0   0   0   0   0   0   0   0   0   0   0   0   0   0\n",
            "    0   0   0   0   0   0   0   0   0   0]\n",
            " [  0   0   0   0   0   0   0   0   0   0   0   0   0   0   0   0   0   0\n",
            "    0   0   0   0   0   0   0   0   0   0]\n",
            " [  0   0   0   0   0   0   0   0   0   0   0   0   0   0   0   0   0   0\n",
            "    0   0   0   0   0   0   0   0   0   0]\n",
            " [  0   0   0   0   0   0   0   0   0   0   0   0   0   0   0   0   0   0\n",
            "    0   0   0   0   0   0   0   0   0   0]\n",
            " [  0   0   0   0   0   0   0   0   0   0   0   0   3  18  18  18 126 136\n",
            "  175  26 166 255 247 127   0   0   0   0]\n",
            " [  0   0   0   0   0   0   0   0  30  36  94 154 170 253 253 253 253 253\n",
            "  225 172 253 242 195  64   0   0   0   0]\n",
            " [  0   0   0   0   0   0   0  49 238 253 253 253 253 253 253 253 253 251\n",
            "   93  82  82  56  39   0   0   0   0   0]\n",
            " [  0   0   0   0   0   0   0  18 219 253 253 253 253 253 198 182 247 241\n",
            "    0   0   0   0   0   0   0   0   0   0]\n",
            " [  0   0   0   0   0   0   0   0  80 156 107 253 253 205  11   0  43 154\n",
            "    0   0   0   0   0   0   0   0   0   0]\n",
            " [  0   0   0   0   0   0   0   0   0  14   1 154 253  90   0   0   0   0\n",
            "    0   0   0   0   0   0   0   0   0   0]\n",
            " [  0   0   0   0   0   0   0   0   0   0   0 139 253 190   2   0   0   0\n",
            "    0   0   0   0   0   0   0   0   0   0]\n",
            " [  0   0   0   0   0   0   0   0   0   0   0  11 190 253  70   0   0   0\n",
            "    0   0   0   0   0   0   0   0   0   0]\n",
            " [  0   0   0   0   0   0   0   0   0   0   0   0  35 241 225 160 108   1\n",
            "    0   0   0   0   0   0   0   0   0   0]\n",
            " [  0   0   0   0   0   0   0   0   0   0   0   0   0  81 240 253 253 119\n",
            "   25   0   0   0   0   0   0   0   0   0]\n",
            " [  0   0   0   0   0   0   0   0   0   0   0   0   0   0  45 186 253 253\n",
            "  150  27   0   0   0   0   0   0   0   0]\n",
            " [  0   0   0   0   0   0   0   0   0   0   0   0   0   0   0  16  93 252\n",
            "  253 187   0   0   0   0   0   0   0   0]\n",
            " [  0   0   0   0   0   0   0   0   0   0   0   0   0   0   0   0   0 249\n",
            "  253 249  64   0   0   0   0   0   0   0]\n",
            " [  0   0   0   0   0   0   0   0   0   0   0   0   0   0  46 130 183 253\n",
            "  253 207   2   0   0   0   0   0   0   0]\n",
            " [  0   0   0   0   0   0   0   0   0   0   0   0  39 148 229 253 253 253\n",
            "  250 182   0   0   0   0   0   0   0   0]\n",
            " [  0   0   0   0   0   0   0   0   0   0  24 114 221 253 253 253 253 201\n",
            "   78   0   0   0   0   0   0   0   0   0]\n",
            " [  0   0   0   0   0   0   0   0  23  66 213 253 253 253 253 198  81   2\n",
            "    0   0   0   0   0   0   0   0   0   0]\n",
            " [  0   0   0   0   0   0  18 171 219 253 253 253 253 195  80   9   0   0\n",
            "    0   0   0   0   0   0   0   0   0   0]\n",
            " [  0   0   0   0  55 172 226 253 253 253 253 244 133  11   0   0   0   0\n",
            "    0   0   0   0   0   0   0   0   0   0]\n",
            " [  0   0   0   0 136 253 253 253 212 135 132  16   0   0   0   0   0   0\n",
            "    0   0   0   0   0   0   0   0   0   0]\n",
            " [  0   0   0   0   0   0   0   0   0   0   0   0   0   0   0   0   0   0\n",
            "    0   0   0   0   0   0   0   0   0   0]\n",
            " [  0   0   0   0   0   0   0   0   0   0   0   0   0   0   0   0   0   0\n",
            "    0   0   0   0   0   0   0   0   0   0]\n",
            " [  0   0   0   0   0   0   0   0   0   0   0   0   0   0   0   0   0   0\n",
            "    0   0   0   0   0   0   0   0   0   0]]\n"
          ]
        },
        {
          "output_type": "execute_result",
          "data": {
            "text/plain": [
              "<matplotlib.image.AxesImage at 0x7d09e84791b0>"
            ]
          },
          "metadata": {},
          "execution_count": 36
        },
        {
          "output_type": "display_data",
          "data": {
            "text/plain": [
              "<Figure size 640x480 with 1 Axes>"
            ],
            "image/png": "[encoded data removed]"
          },
          "metadata": {}
        }
      ]
    },
    {
      "cell_type": "code",
      "source": [
        "#Normalizing the data by dividing with 255.0\n",
        "x_train = X_train/ 255.0\n",
        "x_test = X_test / 255.0\n",
        "\n",
        "print(X_train[0].shape[0] * X_train[0].shape[1])\n",
        "\n",
        "'''\n",
        "Grey scale images have pixel values from 0 to 255, which represents the intensities of the pixels.\n",
        "Dividing the values by 255 can help us make the pixels into the same magnitude.\n",
        "Normalization was applied here, rather than standardization, since normalization is the usual choice for image dataset.\n",
        "'''"
      ],
      "metadata": {
        "colab": {
          "base_uri": "https://localhost:8080/",
          "height": 105
        },
        "id": "E7oUE4tuy8Tx",
        "outputId": "b696f2b1-5770-424c-fb60-53aa45ddc33a"
      },
      "execution_count": null,
      "outputs": [
        {
          "output_type": "stream",
          "name": "stdout",
          "text": [
            "784\n"
          ]
        },
        {
          "output_type": "execute_result",
          "data": {
            "text/plain": [
              "'\\nGrey scale images have pixel values from 0 to 255, which represents the intensities of the pixels.\\nDividing the values by 255 can help us make the pixels into the same magnitude.\\nNormalization was applied here, rather than standardization, since normalization is the usual choice for image dataset.\\n'"
            ],
            "application/vnd.google.colaboratory.intrinsic+json": {
              "type": "string"
            }
          },
          "metadata": {},
          "execution_count": 37
        }
      ]
    },
    {
      "cell_type": "code",
      "source": [
        "#Checking what x_train looks like after normalization\n",
        "print(x_train[0])"
      ],
      "metadata": {
        "colab": {
          "base_uri": "https://localhost:8080/"
        },
        "id": "jMVShYMhWs17",
        "outputId": "68a20545-34c5-47c0-8b39-7eadce757e94"
      },
      "execution_count": null,
      "outputs": [
        {
          "output_type": "stream",
          "name": "stdout",
          "text": [
            "[[0.         0.         0.         0.         0.         0.\n",
            "  0.         0.         0.         0.         0.         0.\n",
            "  0.         0.         0.         0.         0.         0.\n",
            "  0.         0.         0.         0.         0.         0.\n",
            "  0.         0.         0.         0.        ]\n",
            " [0.         0.         0.         0.         0.         0.\n",
            "  0.         0.         0.         0.         0.         0.\n",
            "  0.         0.         0.         0.         0.         0.\n",
            "  0.         0.         0.         0.         0.         0.\n",
            "  0.         0.         0.         0.        ]\n",
            " [0.         0.         0.         0.         0.         0.\n",
            "  0.         0.         0.         0.         0.         0.\n",
            "  0.         0.         0.         0.         0.         0.\n",
            "  0.         0.         0.         0.         0.         0.\n",
            "  0.         0.         0.         0.        ]\n",
            " [0.         0.         0.         0.         0.         0.\n",
            "  0.         0.         0.         0.         0.         0.\n",
            "  0.         0.         0.         0.         0.         0.\n",
            "  0.         0.         0.         0.         0.         0.\n",
            "  0.         0.         0.         0.        ]\n",
            " [0.         0.         0.         0.         0.         0.\n",
            "  0.         0.         0.         0.         0.         0.\n",
            "  0.         0.         0.         0.         0.         0.\n",
            "  0.         0.         0.         0.         0.         0.\n",
            "  0.         0.         0.         0.        ]\n",
            " [0.         0.         0.         0.         0.         0.\n",
            "  0.         0.         0.         0.         0.         0.\n",
            "  0.01176471 0.07058824 0.07058824 0.07058824 0.49411765 0.53333333\n",
            "  0.68627451 0.10196078 0.65098039 1.         0.96862745 0.49803922\n",
            "  0.         0.         0.         0.        ]\n",
            " [0.         0.         0.         0.         0.         0.\n",
            "  0.         0.         0.11764706 0.14117647 0.36862745 0.60392157\n",
            "  0.66666667 0.99215686 0.99215686 0.99215686 0.99215686 0.99215686\n",
            "  0.88235294 0.6745098  0.99215686 0.94901961 0.76470588 0.25098039\n",
            "  0.         0.         0.         0.        ]\n",
            " [0.         0.         0.         0.         0.         0.\n",
            "  0.         0.19215686 0.93333333 0.99215686 0.99215686 0.99215686\n",
            "  0.99215686 0.99215686 0.99215686 0.99215686 0.99215686 0.98431373\n",
            "  0.36470588 0.32156863 0.32156863 0.21960784 0.15294118 0.\n",
            "  0.         0.         0.         0.        ]\n",
            " [0.         0.         0.         0.         0.         0.\n",
            "  0.         0.07058824 0.85882353 0.99215686 0.99215686 0.99215686\n",
            "  0.99215686 0.99215686 0.77647059 0.71372549 0.96862745 0.94509804\n",
            "  0.         0.         0.         0.         0.         0.\n",
            "  0.         0.         0.         0.        ]\n",
            " [0.         0.         0.         0.         0.         0.\n",
            "  0.         0.         0.31372549 0.61176471 0.41960784 0.99215686\n",
            "  0.99215686 0.80392157 0.04313725 0.         0.16862745 0.60392157\n",
            "  0.         0.         0.         0.         0.         0.\n",
            "  0.         0.         0.         0.        ]\n",
            " [0.         0.         0.         0.         0.         0.\n",
            "  0.         0.         0.         0.05490196 0.00392157 0.60392157\n",
            "  0.99215686 0.35294118 0.         0.         0.         0.\n",
            "  0.         0.         0.         0.         0.         0.\n",
            "  0.         0.         0.         0.        ]\n",
            " [0.         0.         0.         0.         0.         0.\n",
            "  0.         0.         0.         0.         0.         0.54509804\n",
            "  0.99215686 0.74509804 0.00784314 0.         0.         0.\n",
            "  0.         0.         0.         0.         0.         0.\n",
            "  0.         0.         0.         0.        ]\n",
            " [0.         0.         0.         0.         0.         0.\n",
            "  0.         0.         0.         0.         0.         0.04313725\n",
            "  0.74509804 0.99215686 0.2745098  0.         0.         0.\n",
            "  0.         0.         0.         0.         0.         0.\n",
            "  0.         0.         0.         0.        ]\n",
            " [0.         0.         0.         0.         0.         0.\n",
            "  0.         0.         0.         0.         0.         0.\n",
            "  0.1372549  0.94509804 0.88235294 0.62745098 0.42352941 0.00392157\n",
            "  0.         0.         0.         0.         0.         0.\n",
            "  0.         0.         0.         0.        ]\n",
            " [0.         0.         0.         0.         0.         0.\n",
            "  0.         0.         0.         0.         0.         0.\n",
            "  0.         0.31764706 0.94117647 0.99215686 0.99215686 0.46666667\n",
            "  0.09803922 0.         0.         0.         0.         0.\n",
            "  0.         0.         0.         0.        ]\n",
            " [0.         0.         0.         0.         0.         0.\n",
            "  0.         0.         0.         0.         0.         0.\n",
            "  0.         0.         0.17647059 0.72941176 0.99215686 0.99215686\n",
            "  0.58823529 0.10588235 0.         0.         0.         0.\n",
            "  0.         0.         0.         0.        ]\n",
            " [0.         0.         0.         0.         0.         0.\n",
            "  0.         0.         0.         0.         0.         0.\n",
            "  0.         0.         0.         0.0627451  0.36470588 0.98823529\n",
            "  0.99215686 0.73333333 0.         0.         0.         0.\n",
            "  0.         0.         0.         0.        ]\n",
            " [0.         0.         0.         0.         0.         0.\n",
            "  0.         0.         0.         0.         0.         0.\n",
            "  0.         0.         0.         0.         0.         0.97647059\n",
            "  0.99215686 0.97647059 0.25098039 0.         0.         0.\n",
            "  0.         0.         0.         0.        ]\n",
            " [0.         0.         0.         0.         0.         0.\n",
            "  0.         0.         0.         0.         0.         0.\n",
            "  0.         0.         0.18039216 0.50980392 0.71764706 0.99215686\n",
            "  0.99215686 0.81176471 0.00784314 0.         0.         0.\n",
            "  0.         0.         0.         0.        ]\n",
            " [0.         0.         0.         0.         0.         0.\n",
            "  0.         0.         0.         0.         0.         0.\n",
            "  0.15294118 0.58039216 0.89803922 0.99215686 0.99215686 0.99215686\n",
            "  0.98039216 0.71372549 0.         0.         0.         0.\n",
            "  0.         0.         0.         0.        ]\n",
            " [0.         0.         0.         0.         0.         0.\n",
            "  0.         0.         0.         0.         0.09411765 0.44705882\n",
            "  0.86666667 0.99215686 0.99215686 0.99215686 0.99215686 0.78823529\n",
            "  0.30588235 0.         0.         0.         0.         0.\n",
            "  0.         0.         0.         0.        ]\n",
            " [0.         0.         0.         0.         0.         0.\n",
            "  0.         0.         0.09019608 0.25882353 0.83529412 0.99215686\n",
            "  0.99215686 0.99215686 0.99215686 0.77647059 0.31764706 0.00784314\n",
            "  0.         0.         0.         0.         0.         0.\n",
            "  0.         0.         0.         0.        ]\n",
            " [0.         0.         0.         0.         0.         0.\n",
            "  0.07058824 0.67058824 0.85882353 0.99215686 0.99215686 0.99215686\n",
            "  0.99215686 0.76470588 0.31372549 0.03529412 0.         0.\n",
            "  0.         0.         0.         0.         0.         0.\n",
            "  0.         0.         0.         0.        ]\n",
            " [0.         0.         0.         0.         0.21568627 0.6745098\n",
            "  0.88627451 0.99215686 0.99215686 0.99215686 0.99215686 0.95686275\n",
            "  0.52156863 0.04313725 0.         0.         0.         0.\n",
            "  0.         0.         0.         0.         0.         0.\n",
            "  0.         0.         0.         0.        ]\n",
            " [0.         0.         0.         0.         0.53333333 0.99215686\n",
            "  0.99215686 0.99215686 0.83137255 0.52941176 0.51764706 0.0627451\n",
            "  0.         0.         0.         0.         0.         0.\n",
            "  0.         0.         0.         0.         0.         0.\n",
            "  0.         0.         0.         0.        ]\n",
            " [0.         0.         0.         0.         0.         0.\n",
            "  0.         0.         0.         0.         0.         0.\n",
            "  0.         0.         0.         0.         0.         0.\n",
            "  0.         0.         0.         0.         0.         0.\n",
            "  0.         0.         0.         0.        ]\n",
            " [0.         0.         0.         0.         0.         0.\n",
            "  0.         0.         0.         0.         0.         0.\n",
            "  0.         0.         0.         0.         0.         0.\n",
            "  0.         0.         0.         0.         0.         0.\n",
            "  0.         0.         0.         0.        ]\n",
            " [0.         0.         0.         0.         0.         0.\n",
            "  0.         0.         0.         0.         0.         0.\n",
            "  0.         0.         0.         0.         0.         0.\n",
            "  0.         0.         0.         0.         0.         0.\n",
            "  0.         0.         0.         0.        ]]\n"
          ]
        }
      ]
    },
    {
      "cell_type": "markdown",
      "source": [
        "# **Benchmark**"
      ],
      "metadata": {
        "id": "nuFKh-lehGbN"
      }
    },
    {
      "cell_type": "markdown",
      "source": [
        "## Task 3: Build a Classifier using MLP\n",
        "The layer is the most fundamental component of a neural network. Data is put into layers, and they extract representations from it. Choose the number of stacking layers so that model representations should, be useful for the given task."
      ],
      "metadata": {
        "id": "mcJQQDyPhGbV"
      }
    },
    {
      "cell_type": "code",
      "source": [
        "#Creating the neural network for the classifier model\n",
        "\n",
        "#Random seed with key 42 was established for reproducibility.\n",
        "tf.random.set_seed(42)\n",
        "\n",
        "#Creating a sequential model using Keras. Sequential model linearly stacks layers one after another.\n",
        "model = tf.keras.Sequential()\n",
        "\n",
        "#Adding the input later of the network and indicating that the shape of the data is 28,28/\n",
        "model.add(tf.keras.layers.Input(shape=[28,28]))\n",
        "\n",
        "#Flattening the 28,28 2D input into a 1D array of 784.\n",
        "#The next layer is expecting to receive a 1D array, which is why we need to do this step.\n",
        "model.add(tf.keras.layers.Flatten())\n",
        "\n",
        "#Creating 2 dense hidden layers of 128, and using the ReLu activation.\n",
        "#ReLu was used due to its non-linearity properties and efficiency.\n",
        "#input shape 784 was from multiplying 28 and 28.\n",
        "model.add(tf.keras.layers.Dense(128, activation=\"relu\", input_shape=(784,)))\n",
        "model.add(tf.keras.layers.Dense(128, activation=\"relu\"))\n",
        "\n",
        "#Creating a droupout layer to help prevent overfitting\n",
        "#Dropout 0.25 means that we are dropping out 25% of our input units randomly.\n",
        "model.add(tf.keras.layers.Dropout(0.25))\n",
        "\n",
        "#Creating the final output layer, which classifies the images from 0 to 9.\n",
        "#Softmax activation is used for multiclass classfication and as the output layer.\n",
        "model.add(tf.keras.layers.Dense(10, activation=\"softmax\"))\n",
        "\n",
        "'''\n",
        "The parameters above were chosen by replicating the clothes classification model.\n",
        "This notebook aims to create a benchmark of the MNIST model so that we can compare its results to other models made.\n",
        "'''"
      ],
      "metadata": {
        "colab": {
          "base_uri": "https://localhost:8080/",
          "height": 70
        },
        "outputId": "6fc486dc-6857-4ae7-c4cd-e78929f7eee8",
        "id": "iC2lmQzxhGbV"
      },
      "execution_count": null,
      "outputs": [
        {
          "output_type": "execute_result",
          "data": {
            "text/plain": [
              "'\\nThe parameters above were chosen by replicating the clothes classification model.\\nThis notebook aims to create a benchmark of the MNIST model so that we can compare its results to other models made.\\n'"
            ],
            "application/vnd.google.colaboratory.intrinsic+json": {
              "type": "string"
            }
          },
          "metadata": {},
          "execution_count": 107
        }
      ]
    },
    {
      "cell_type": "code",
      "source": [
        "#Showing a summary of the model created.\n",
        "model.summary()"
      ],
      "metadata": {
        "colab": {
          "base_uri": "https://localhost:8080/"
        },
        "outputId": "da21cafb-9e5b-4900-a58c-351dc60c388c",
        "id": "x3OV_gOchGbW"
      },
      "execution_count": null,
      "outputs": [
        {
          "output_type": "stream",
          "name": "stdout",
          "text": [
            "Model: \"sequential_15\"\n",
            "_________________________________________________________________\n",
            " Layer (type)                Output Shape              Param #   \n",
            "=================================================================\n",
            " flatten_10 (Flatten)        (None, 784)               0         \n",
            "                                                                 \n",
            " dense_47 (Dense)            (None, 128)               100480    \n",
            "                                                                 \n",
            " dense_48 (Dense)            (None, 128)               16512     \n",
            "                                                                 \n",
            " dropout_15 (Dropout)        (None, 128)               0         \n",
            "                                                                 \n",
            " dense_49 (Dense)            (None, 10)                1290      \n",
            "                                                                 \n",
            "=================================================================\n",
            "Total params: 118282 (462.04 KB)\n",
            "Trainable params: 118282 (462.04 KB)\n",
            "Non-trainable params: 0 (0.00 Byte)\n",
            "_________________________________________________________________\n"
          ]
        }
      ]
    },
    {
      "cell_type": "markdown",
      "source": [
        "## Task 4: Compile the Model\n",
        "A few more parameters are required before the model can be used for training.\n",
        "\n",
        "These are added at the build step of the model: Choose these parameters.\n",
        "\n",
        "Loss function\n",
        "\n",
        "Optimizer\n",
        "\n",
        "Metrics"
      ],
      "metadata": {
        "id": "ORWMRnZMhGbW"
      }
    },
    {
      "cell_type": "code",
      "source": [
        "#Compiling the model by configuring the loss, optimizer, and metrics paramters.\n",
        "model.compile(loss=\"sparse_categorical_crossentropy\",\n",
        "             optimizer = \"adam\",\n",
        "             metrics=['accuracy'])\n",
        "\n",
        "#Trying Categorical Crossentropy since this is multi-class classification and the data is encoded. The loss is also on a Logarithmic scale, so the model penalizes confident but incorrect predictions more heavily.\n",
        "#adam is an extension of SGD and is designed to overcome the limitations of sgd.\n",
        "# Accuracy was used as a metric to evaluate the model's success."
      ],
      "metadata": {
        "id": "6vID4Fq_hGbW"
      },
      "execution_count": null,
      "outputs": []
    },
    {
      "cell_type": "markdown",
      "source": [
        "## Task 5: Train and Test the model.\n",
        "a. Feed the training data to the built model.\n",
        "\n",
        "b. Ask model to make predictions about a test set.\n",
        "\n",
        "c. Verify that the predictions match the labels from the test labels."
      ],
      "metadata": {
        "id": "xpi6Do73hGbW"
      }
    },
    {
      "cell_type": "code",
      "source": [
        "#Training the model with 20 epochs.\n",
        "#20 epochs will be used across all notebooks for the MNIST dataset for uniformity.\n",
        "history = model.fit(x_train, y_train, epochs=20, validation_data=(x_test, y_test), batch_size=512)\n",
        "\n",
        "#A mini batch was selected to make the training less computationally expensive. A batch size of 512 means that we are processing 512 examples from the training dataset."
      ],
      "metadata": {
        "colab": {
          "base_uri": "https://localhost:8080/"
        },
        "outputId": "275eba37-ba26-4f90-b888-cf1f1386f997",
        "id": "tLQGGoSVhGbW"
      },
      "execution_count": null,
      "outputs": [
        {
          "output_type": "stream",
          "name": "stdout",
          "text": [
            "Epoch 1/20\n",
            "118/118 [==============================] - 2s 15ms/step - loss: 0.6205 - accuracy: 0.8162 - val_loss: 0.2292 - val_accuracy: 0.9336\n",
            "Epoch 2/20\n",
            "118/118 [==============================] - 1s 12ms/step - loss: 0.2232 - accuracy: 0.9349 - val_loss: 0.1558 - val_accuracy: 0.9532\n",
            "Epoch 3/20\n",
            "118/118 [==============================] - 2s 13ms/step - loss: 0.1635 - accuracy: 0.9528 - val_loss: 0.1285 - val_accuracy: 0.9600\n",
            "Epoch 4/20\n",
            "118/118 [==============================] - 2s 20ms/step - loss: 0.1293 - accuracy: 0.9621 - val_loss: 0.1088 - val_accuracy: 0.9669\n",
            "Epoch 5/20\n",
            "118/118 [==============================] - 2s 15ms/step - loss: 0.1053 - accuracy: 0.9682 - val_loss: 0.1005 - val_accuracy: 0.9689\n",
            "Epoch 6/20\n",
            "118/118 [==============================] - 2s 13ms/step - loss: 0.0893 - accuracy: 0.9736 - val_loss: 0.0904 - val_accuracy: 0.9721\n",
            "Epoch 7/20\n",
            "118/118 [==============================] - 2s 13ms/step - loss: 0.0764 - accuracy: 0.9772 - val_loss: 0.0833 - val_accuracy: 0.9737\n",
            "Epoch 8/20\n",
            "118/118 [==============================] - 2s 13ms/step - loss: 0.0676 - accuracy: 0.9796 - val_loss: 0.0811 - val_accuracy: 0.9743\n",
            "Epoch 9/20\n",
            "118/118 [==============================] - 1s 13ms/step - loss: 0.0591 - accuracy: 0.9823 - val_loss: 0.0775 - val_accuracy: 0.9763\n",
            "Epoch 10/20\n",
            "118/118 [==============================] - 2s 13ms/step - loss: 0.0505 - accuracy: 0.9850 - val_loss: 0.0787 - val_accuracy: 0.9758\n",
            "Epoch 11/20\n",
            "118/118 [==============================] - 2s 13ms/step - loss: 0.0462 - accuracy: 0.9862 - val_loss: 0.0745 - val_accuracy: 0.9784\n",
            "Epoch 12/20\n",
            "118/118 [==============================] - 2s 20ms/step - loss: 0.0421 - accuracy: 0.9875 - val_loss: 0.0749 - val_accuracy: 0.9764\n",
            "Epoch 13/20\n",
            "118/118 [==============================] - 2s 15ms/step - loss: 0.0381 - accuracy: 0.9883 - val_loss: 0.0717 - val_accuracy: 0.9775\n",
            "Epoch 14/20\n",
            "118/118 [==============================] - 1s 12ms/step - loss: 0.0327 - accuracy: 0.9900 - val_loss: 0.0725 - val_accuracy: 0.9771\n",
            "Epoch 15/20\n",
            "118/118 [==============================] - 2s 13ms/step - loss: 0.0310 - accuracy: 0.9900 - val_loss: 0.0771 - val_accuracy: 0.9764\n",
            "Epoch 16/20\n",
            "118/118 [==============================] - 2s 13ms/step - loss: 0.0261 - accuracy: 0.9923 - val_loss: 0.0730 - val_accuracy: 0.9783\n",
            "Epoch 17/20\n",
            "118/118 [==============================] - 2s 13ms/step - loss: 0.0238 - accuracy: 0.9927 - val_loss: 0.0723 - val_accuracy: 0.9778\n",
            "Epoch 18/20\n",
            "118/118 [==============================] - 2s 13ms/step - loss: 0.0213 - accuracy: 0.9934 - val_loss: 0.0782 - val_accuracy: 0.9768\n",
            "Epoch 19/20\n",
            "118/118 [==============================] - 2s 13ms/step - loss: 0.0192 - accuracy: 0.9940 - val_loss: 0.0750 - val_accuracy: 0.9795\n",
            "Epoch 20/20\n",
            "118/118 [==============================] - 2s 21ms/step - loss: 0.0188 - accuracy: 0.9942 - val_loss: 0.0785 - val_accuracy: 0.9769\n"
          ]
        }
      ]
    },
    {
      "cell_type": "code",
      "source": [
        "#Visualising the training loss and validation loss of the model\n",
        "\n",
        "plt.plot(history.history['loss'])\n",
        "plt.plot(history.history['val_loss'])\n",
        "\n",
        "#We can see that around 5 epochs, the test and validation losses were around the same."
      ],
      "metadata": {
        "colab": {
          "base_uri": "https://localhost:8080/",
          "height": 447
        },
        "outputId": "18c206f5-5a65-4002-83cf-5503ad57744a",
        "id": "xp3giBi5hGbW"
      },
      "execution_count": null,
      "outputs": [
        {
          "output_type": "execute_result",
          "data": {
            "text/plain": [
              "[<matplotlib.lines.Line2D at 0x7d0a1beef370>]"
            ]
          },
          "metadata": {},
          "execution_count": 111
        },
        {
          "output_type": "display_data",
          "data": {
            "text/plain": [
              "<Figure size 640x480 with 1 Axes>"
            ],
            "image/png": "[encoded data removed]"
          },
          "metadata": {}
        }
      ]
    },
    {
      "cell_type": "code",
      "source": [
        "#Evaluating the test loss and accuracy of the model.\n",
        "model.evaluate(x_test, y_test)\n",
        "\n",
        "#The decrease of neurons in the second layer seemed to slightly improve loss and slightly decrease accuracy."
      ],
      "metadata": {
        "colab": {
          "base_uri": "https://localhost:8080/"
        },
        "outputId": "5c54a4f6-c68f-4184-f2bb-0f9224ad0014",
        "id": "cUSb_SlchGbW"
      },
      "execution_count": null,
      "outputs": [
        {
          "output_type": "stream",
          "name": "stdout",
          "text": [
            "313/313 [==============================] - 1s 2ms/step - loss: 0.0785 - accuracy: 0.9769\n"
          ]
        },
        {
          "output_type": "execute_result",
          "data": {
            "text/plain": [
              "[0.0785432830452919, 0.9768999814987183]"
            ]
          },
          "metadata": {},
          "execution_count": 112
        }
      ]
    },
    {
      "cell_type": "markdown",
      "source": [
        "# **Test 1: Decrease Neurons in Second Layer**\n",
        "\n",
        "Second layer neurons from 128 to 100"
      ],
      "metadata": {
        "id": "aQID-Tj8N7hj"
      }
    },
    {
      "cell_type": "markdown",
      "source": [
        "## Task 3: Build a Classifier using MLP\n",
        "The layer is the most fundamental component of a neural network. Data is put into layers, and they extract representations from it. Choose the number of stacking layers so that model representations should, be useful for the given task."
      ],
      "metadata": {
        "id": "YiIz4NUG1wmY"
      }
    },
    {
      "cell_type": "code",
      "source": [
        "#Creating the neural network for the classifier model\n",
        "\n",
        "#Random seed with key 42 was established for reproducibility.\n",
        "tf.random.set_seed(42)\n",
        "\n",
        "#Creating a sequential model using Keras. Sequential model linearly stacks layers one after another.\n",
        "model = tf.keras.Sequential()\n",
        "\n",
        "#Adding the input later of the network and indicating that the shape of the data is 28,28/\n",
        "model.add(tf.keras.layers.Input(shape=[28,28]))\n",
        "\n",
        "#Flattening the 28,28 2D input into a 1D array of 784.\n",
        "#The next layer is expecting to receive a 1D array, which is why we need to do this step.\n",
        "model.add(tf.keras.layers.Flatten())\n",
        "\n",
        "#Creating 2 dense hidden layers of 128, and using the ReLu activation.\n",
        "#ReLu was used due to its non-linearity properties and efficiency.\n",
        "#input shape 784 was from multiplying 28 and 28.\n",
        "model.add(tf.keras.layers.Dense(128, activation=\"relu\", input_shape=(784,)))\n",
        "model.add(tf.keras.layers.Dense(100, activation=\"relu\"))\n",
        "\n",
        "#Creating a droupout layer to help prevent overfitting\n",
        "#Dropout 0.25 means that we are dropping out 25% of our input units randomly.\n",
        "model.add(tf.keras.layers.Dropout(0.25))\n",
        "\n",
        "#Creating the final output layer, which classifies the images from 0 to 9.\n",
        "#Softmax activation is used for multiclass classfication and as the output layer.\n",
        "model.add(tf.keras.layers.Dense(10, activation=\"softmax\"))\n",
        "\n",
        "'''\n",
        "The parameters above were chosen by replicating the clothes classification model.\n",
        "This notebook aims to create a benchmark of the MNIST model so that we can compare its results to other models made.\n",
        "'''"
      ],
      "metadata": {
        "id": "qZ7pDuJrzASU",
        "colab": {
          "base_uri": "https://localhost:8080/",
          "height": 70
        },
        "outputId": "d61fe293-beaa-4b63-a03f-b4ebddddb8d2"
      },
      "execution_count": null,
      "outputs": [
        {
          "output_type": "execute_result",
          "data": {
            "text/plain": [
              "'\\nThe parameters above were chosen by replicating the clothes classification model.\\nThis notebook aims to create a benchmark of the MNIST model so that we can compare its results to other models made.\\n'"
            ],
            "application/vnd.google.colaboratory.intrinsic+json": {
              "type": "string"
            }
          },
          "metadata": {},
          "execution_count": 43
        }
      ]
    },
    {
      "cell_type": "code",
      "source": [
        "#Showing a summary of the model created.\n",
        "model.summary()"
      ],
      "metadata": {
        "colab": {
          "base_uri": "https://localhost:8080/"
        },
        "id": "RSHiywcJ1ze-",
        "outputId": "1a670237-3e2e-4b8c-aeb2-9ca17bb60ff4"
      },
      "execution_count": null,
      "outputs": [
        {
          "output_type": "stream",
          "name": "stdout",
          "text": [
            "Model: \"sequential_4\"\n",
            "_________________________________________________________________\n",
            " Layer (type)                Output Shape              Param #   \n",
            "=================================================================\n",
            " flatten (Flatten)           (None, 784)               0         \n",
            "                                                                 \n",
            " dense_12 (Dense)            (None, 128)               100480    \n",
            "                                                                 \n",
            " dense_13 (Dense)            (None, 100)               12900     \n",
            "                                                                 \n",
            " dropout_4 (Dropout)         (None, 100)               0         \n",
            "                                                                 \n",
            " dense_14 (Dense)            (None, 10)                1010      \n",
            "                                                                 \n",
            "=================================================================\n",
            "Total params: 114390 (446.84 KB)\n",
            "Trainable params: 114390 (446.84 KB)\n",
            "Non-trainable params: 0 (0.00 Byte)\n",
            "_________________________________________________________________\n"
          ]
        }
      ]
    },
    {
      "cell_type": "markdown",
      "source": [
        "## Task 4: Compile the Model\n",
        "A few more parameters are required before the model can be used for training.\n",
        "\n",
        "These are added at the build step of the model: Choose these parameters.\n",
        "\n",
        "Loss function\n",
        "\n",
        "Optimizer\n",
        "\n",
        "Metrics"
      ],
      "metadata": {
        "id": "Egh5XHmL1_mw"
      }
    },
    {
      "cell_type": "code",
      "source": [
        "#Compiling the model by configuring the loss, optimizer, and metrics paramters.\n",
        "model.compile(loss=\"sparse_categorical_crossentropy\",\n",
        "             optimizer = \"adam\",\n",
        "             metrics=['accuracy'])\n",
        "\n",
        "#Trying Categorical Crossentropy since this is multi-class classification and the data is encoded. The loss is also on a Logarithmic scale, so the model penalizes confident but incorrect predictions more heavily.\n",
        "#adam is an extension of SGD and is designed to overcome the limitations of sgd.\n",
        "# Accuracy was used as a metric to evaluate the model's success."
      ],
      "metadata": {
        "id": "4-z0nfb010sQ"
      },
      "execution_count": null,
      "outputs": []
    },
    {
      "cell_type": "markdown",
      "source": [
        "## Task 5: Train and Test the model.\n",
        "a. Feed the training data to the built model.\n",
        "\n",
        "b. Ask model to make predictions about a test set.\n",
        "\n",
        "c. Verify that the predictions match the labels from the test labels."
      ],
      "metadata": {
        "id": "KItBLs0M2DKH"
      }
    },
    {
      "cell_type": "code",
      "source": [
        "#Training the model with 20 epochs.\n",
        "#20 epochs will be used across all notebooks for the MNIST dataset for uniformity.\n",
        "history = model.fit(x_train, y_train, epochs=20, validation_data=(x_test, y_test), batch_size=512)\n",
        "\n",
        "#A mini batch was selected to make the training less computationally expensive. A batch size of 512 means that we are processing 512 examples from the training dataset."
      ],
      "metadata": {
        "colab": {
          "base_uri": "https://localhost:8080/"
        },
        "id": "JrxLHr041-Ap",
        "outputId": "7f195008-625b-4235-e299-934d758c7b1d"
      },
      "execution_count": null,
      "outputs": [
        {
          "output_type": "stream",
          "name": "stdout",
          "text": [
            "Epoch 1/20\n",
            "118/118 [==============================] - 2s 14ms/step - loss: 0.6389 - accuracy: 0.8126 - val_loss: 0.2315 - val_accuracy: 0.9335\n",
            "Epoch 2/20\n",
            "118/118 [==============================] - 1s 12ms/step - loss: 0.2329 - accuracy: 0.9320 - val_loss: 0.1595 - val_accuracy: 0.9541\n",
            "Epoch 3/20\n",
            "118/118 [==============================] - 1s 12ms/step - loss: 0.1727 - accuracy: 0.9503 - val_loss: 0.1341 - val_accuracy: 0.9594\n",
            "Epoch 4/20\n",
            "118/118 [==============================] - 1s 12ms/step - loss: 0.1397 - accuracy: 0.9586 - val_loss: 0.1140 - val_accuracy: 0.9650\n",
            "Epoch 5/20\n",
            "118/118 [==============================] - 1s 12ms/step - loss: 0.1172 - accuracy: 0.9649 - val_loss: 0.0989 - val_accuracy: 0.9688\n",
            "Epoch 6/20\n",
            "118/118 [==============================] - 1s 12ms/step - loss: 0.0975 - accuracy: 0.9715 - val_loss: 0.0913 - val_accuracy: 0.9708\n",
            "Epoch 7/20\n",
            "118/118 [==============================] - 2s 19ms/step - loss: 0.0841 - accuracy: 0.9755 - val_loss: 0.0822 - val_accuracy: 0.9735\n",
            "Epoch 8/20\n",
            "118/118 [==============================] - 2s 17ms/step - loss: 0.0740 - accuracy: 0.9777 - val_loss: 0.0783 - val_accuracy: 0.9749\n",
            "Epoch 9/20\n",
            "118/118 [==============================] - 2s 16ms/step - loss: 0.0635 - accuracy: 0.9809 - val_loss: 0.0773 - val_accuracy: 0.9756\n",
            "Epoch 10/20\n",
            "118/118 [==============================] - 2s 21ms/step - loss: 0.0571 - accuracy: 0.9824 - val_loss: 0.0750 - val_accuracy: 0.9748\n",
            "Epoch 11/20\n",
            "118/118 [==============================] - 1s 12ms/step - loss: 0.0505 - accuracy: 0.9848 - val_loss: 0.0734 - val_accuracy: 0.9763\n",
            "Epoch 12/20\n",
            "118/118 [==============================] - 1s 12ms/step - loss: 0.0455 - accuracy: 0.9861 - val_loss: 0.0769 - val_accuracy: 0.9758\n",
            "Epoch 13/20\n",
            "118/118 [==============================] - 2s 14ms/step - loss: 0.0420 - accuracy: 0.9875 - val_loss: 0.0701 - val_accuracy: 0.9786\n",
            "Epoch 14/20\n",
            "118/118 [==============================] - 2s 20ms/step - loss: 0.0361 - accuracy: 0.9890 - val_loss: 0.0670 - val_accuracy: 0.9799\n",
            "Epoch 15/20\n",
            "118/118 [==============================] - 2s 16ms/step - loss: 0.0331 - accuracy: 0.9900 - val_loss: 0.0733 - val_accuracy: 0.9782\n",
            "Epoch 16/20\n",
            "118/118 [==============================] - 1s 12ms/step - loss: 0.0288 - accuracy: 0.9915 - val_loss: 0.0703 - val_accuracy: 0.9784\n",
            "Epoch 17/20\n",
            "118/118 [==============================] - 1s 12ms/step - loss: 0.0272 - accuracy: 0.9920 - val_loss: 0.0721 - val_accuracy: 0.9784\n",
            "Epoch 18/20\n",
            "118/118 [==============================] - 1s 12ms/step - loss: 0.0254 - accuracy: 0.9921 - val_loss: 0.0727 - val_accuracy: 0.9793\n",
            "Epoch 19/20\n",
            "118/118 [==============================] - 1s 12ms/step - loss: 0.0220 - accuracy: 0.9937 - val_loss: 0.0737 - val_accuracy: 0.9799\n",
            "Epoch 20/20\n",
            "118/118 [==============================] - 1s 12ms/step - loss: 0.0210 - accuracy: 0.9933 - val_loss: 0.0761 - val_accuracy: 0.9781\n"
          ]
        }
      ]
    },
    {
      "cell_type": "code",
      "source": [
        "#Visualising the training loss and validation loss of the model\n",
        "\n",
        "plt.plot(history.history['loss'])\n",
        "plt.plot(history.history['val_loss'])\n",
        "\n",
        "#We can see that around 5 epochs, the test and validation losses were around the same."
      ],
      "metadata": {
        "colab": {
          "base_uri": "https://localhost:8080/",
          "height": 447
        },
        "id": "nFrBsY-c2PZD",
        "outputId": "f7ecfcb4-9246-49ae-e3f6-18e4dc6916a5"
      },
      "execution_count": null,
      "outputs": [
        {
          "output_type": "execute_result",
          "data": {
            "text/plain": [
              "[<matplotlib.lines.Line2D at 0x7d0a1e05a860>]"
            ]
          },
          "metadata": {},
          "execution_count": 47
        },
        {
          "output_type": "display_data",
          "data": {
            "text/plain": [
              "<Figure size 640x480 with 1 Axes>"
            ],
            "image/png": "[encoded data removed]"
          },
          "metadata": {}
        }
      ]
    },
    {
      "cell_type": "code",
      "source": [
        "#Evaluating the test loss and accuracy of the model.\n",
        "model.evaluate(x_test, y_test)\n",
        "\n",
        "#The decrease of neurons in the second layer seemed to slightly improve loss and slightly decrease accuracy."
      ],
      "metadata": {
        "colab": {
          "base_uri": "https://localhost:8080/"
        },
        "id": "eSxsSoHz2RuY",
        "outputId": "4a2fc2ec-704e-4562-ca49-802b66cc7808"
      },
      "execution_count": null,
      "outputs": [
        {
          "output_type": "stream",
          "name": "stdout",
          "text": [
            "313/313 [==============================] - 1s 2ms/step - loss: 0.0761 - accuracy: 0.9781\n"
          ]
        },
        {
          "output_type": "execute_result",
          "data": {
            "text/plain": [
              "[0.07605244964361191, 0.9781000018119812]"
            ]
          },
          "metadata": {},
          "execution_count": 48
        }
      ]
    },
    {
      "cell_type": "markdown",
      "source": [
        "# **Test 2: Increase Neurons in Second Layer**\n",
        "\n",
        "Second layer neurons from 128 to 156"
      ],
      "metadata": {
        "id": "vCJVPZYhOX9Y"
      }
    },
    {
      "cell_type": "markdown",
      "source": [
        "## Task 3: Build a Classifier using MLP\n",
        "The layer is the most fundamental component of a neural network. Data is put into layers, and they extract representations from it. Choose the number of stacking layers so that model representations should, be useful for the given task."
      ],
      "metadata": {
        "id": "yCPg8MHyOX9Y"
      }
    },
    {
      "cell_type": "code",
      "source": [
        "#Creating the neural network for the classifier model\n",
        "\n",
        "#Random seed with key 42 was established for reproducibility.\n",
        "tf.random.set_seed(42)\n",
        "\n",
        "#Creating a sequential model using Keras. Sequential model linearly stacks layers one after another.\n",
        "model = tf.keras.Sequential()\n",
        "\n",
        "#Adding the input later of the network and indicating that the shape of the data is 28,28/\n",
        "model.add(tf.keras.layers.Input(shape=[28,28]))\n",
        "\n",
        "#Flattening the 28,28 2D input into a 1D array of 784.\n",
        "#The next layer is expecting to receive a 1D array, which is why we need to do this step.\n",
        "model.add(tf.keras.layers.Flatten())\n",
        "\n",
        "#Creating 2 dense hidden layers of 128, and using the ReLu activation.\n",
        "#ReLu was used due to its non-linearity properties and efficiency.\n",
        "#input shape 784 was from multiplying 28 and 28.\n",
        "model.add(tf.keras.layers.Dense(128, activation=\"relu\", input_shape=(784,)))\n",
        "model.add(tf.keras.layers.Dense(156, activation=\"relu\"))\n",
        "\n",
        "#Creating a droupout layer to help prevent overfitting\n",
        "#Dropout 0.25 means that we are dropping out 25% of our input units randomly.\n",
        "model.add(tf.keras.layers.Dropout(0.25))\n",
        "\n",
        "#Creating the final output layer, which classifies the images from 0 to 9.\n",
        "#Softmax activation is used for multiclass classfication and as the output layer.\n",
        "model.add(tf.keras.layers.Dense(10, activation=\"softmax\"))\n",
        "\n",
        "'''\n",
        "The parameters above were chosen by replicating the clothes classification model.\n",
        "This notebook aims to create a benchmark of the MNIST model so that we can compare its results to other models made.\n",
        "'''"
      ],
      "metadata": {
        "colab": {
          "base_uri": "https://localhost:8080/",
          "height": 70
        },
        "outputId": "b0c33e41-494e-4e1e-8056-f4d234590c91",
        "id": "NFQsOgPJOX9Z"
      },
      "execution_count": null,
      "outputs": [
        {
          "output_type": "execute_result",
          "data": {
            "text/plain": [
              "'\\nThe parameters above were chosen by replicating the clothes classification model.\\nThis notebook aims to create a benchmark of the MNIST model so that we can compare its results to other models made.\\n'"
            ],
            "application/vnd.google.colaboratory.intrinsic+json": {
              "type": "string"
            }
          },
          "metadata": {},
          "execution_count": 50
        }
      ]
    },
    {
      "cell_type": "code",
      "source": [
        "#Showing a summary of the model created.\n",
        "model.summary()"
      ],
      "metadata": {
        "colab": {
          "base_uri": "https://localhost:8080/"
        },
        "outputId": "25aba568-b8b4-41bf-c15a-122f9ff8369f",
        "id": "po8AKAI7OX9Z"
      },
      "execution_count": null,
      "outputs": [
        {
          "output_type": "stream",
          "name": "stdout",
          "text": [
            "Model: \"sequential_6\"\n",
            "_________________________________________________________________\n",
            " Layer (type)                Output Shape              Param #   \n",
            "=================================================================\n",
            " flatten_1 (Flatten)         (None, 784)               0         \n",
            "                                                                 \n",
            " dense_18 (Dense)            (None, 128)               100480    \n",
            "                                                                 \n",
            " dense_19 (Dense)            (None, 156)               20124     \n",
            "                                                                 \n",
            " dropout_6 (Dropout)         (None, 156)               0         \n",
            "                                                                 \n",
            " dense_20 (Dense)            (None, 10)                1570      \n",
            "                                                                 \n",
            "=================================================================\n",
            "Total params: 122174 (477.24 KB)\n",
            "Trainable params: 122174 (477.24 KB)\n",
            "Non-trainable params: 0 (0.00 Byte)\n",
            "_________________________________________________________________\n"
          ]
        }
      ]
    },
    {
      "cell_type": "markdown",
      "source": [
        "## Task 4: Compile the Model\n",
        "A few more parameters are required before the model can be used for training.\n",
        "\n",
        "These are added at the build step of the model: Choose these parameters.\n",
        "\n",
        "Loss function\n",
        "\n",
        "Optimizer\n",
        "\n",
        "Metrics"
      ],
      "metadata": {
        "id": "vA9XG6FJOX9a"
      }
    },
    {
      "cell_type": "code",
      "source": [
        "#Compiling the model by configuring the loss, optimizer, and metrics paramters.\n",
        "model.compile(loss=\"sparse_categorical_crossentropy\",\n",
        "             optimizer = \"adam\",\n",
        "             metrics=['accuracy'])\n",
        "\n",
        "#Trying Categorical Crossentropy since this is multi-class classification and the data is encoded. The loss is also on a Logarithmic scale, so the model penalizes confident but incorrect predictions more heavily.\n",
        "#adam is an extension of SGD and is designed to overcome the limitations of sgd.\n",
        "# Accuracy was used as a metric to evaluate the model's success."
      ],
      "metadata": {
        "id": "jIxSsu1JOX9a"
      },
      "execution_count": null,
      "outputs": []
    },
    {
      "cell_type": "markdown",
      "source": [
        "## Task 5: Train and Test the model.\n",
        "a. Feed the training data to the built model.\n",
        "\n",
        "b. Ask model to make predictions about a test set.\n",
        "\n",
        "c. Verify that the predictions match the labels from the test labels."
      ],
      "metadata": {
        "id": "U9ONnsnsOX9a"
      }
    },
    {
      "cell_type": "code",
      "source": [
        "#Training the model with 20 epochs.\n",
        "#20 epochs will be used across all notebooks for the MNIST dataset for uniformity.\n",
        "history = model.fit(x_train, y_train, epochs=20, validation_data=(x_test, y_test), batch_size=512)\n",
        "\n",
        "#A mini batch was selected to make the training less computationally expensive. A batch size of 512 means that we are processing 512 examples from the training dataset."
      ],
      "metadata": {
        "colab": {
          "base_uri": "https://localhost:8080/"
        },
        "outputId": "4c0aee33-129e-47f7-cee3-c7aaa18c6078",
        "id": "Tbco5a5eOX9a"
      },
      "execution_count": null,
      "outputs": [
        {
          "output_type": "stream",
          "name": "stdout",
          "text": [
            "Epoch 1/20\n",
            "118/118 [==============================] - 3s 22ms/step - loss: 0.5966 - accuracy: 0.8269 - val_loss: 0.2288 - val_accuracy: 0.9345\n",
            "Epoch 2/20\n",
            "118/118 [==============================] - 2s 14ms/step - loss: 0.2170 - accuracy: 0.9366 - val_loss: 0.1532 - val_accuracy: 0.9544\n",
            "Epoch 3/20\n",
            "118/118 [==============================] - 2s 13ms/step - loss: 0.1553 - accuracy: 0.9544 - val_loss: 0.1225 - val_accuracy: 0.9630\n",
            "Epoch 4/20\n",
            "118/118 [==============================] - 2s 13ms/step - loss: 0.1204 - accuracy: 0.9646 - val_loss: 0.1027 - val_accuracy: 0.9693\n",
            "Epoch 5/20\n",
            "118/118 [==============================] - 2s 13ms/step - loss: 0.0981 - accuracy: 0.9708 - val_loss: 0.0917 - val_accuracy: 0.9716\n",
            "Epoch 6/20\n",
            "118/118 [==============================] - 2s 13ms/step - loss: 0.0809 - accuracy: 0.9760 - val_loss: 0.0812 - val_accuracy: 0.9755\n",
            "Epoch 7/20\n",
            "118/118 [==============================] - 3s 24ms/step - loss: 0.0697 - accuracy: 0.9794 - val_loss: 0.0794 - val_accuracy: 0.9757\n",
            "Epoch 8/20\n",
            "118/118 [==============================] - 4s 30ms/step - loss: 0.0619 - accuracy: 0.9815 - val_loss: 0.0740 - val_accuracy: 0.9759\n",
            "Epoch 9/20\n",
            "118/118 [==============================] - 3s 24ms/step - loss: 0.0517 - accuracy: 0.9850 - val_loss: 0.0741 - val_accuracy: 0.9782\n",
            "Epoch 10/20\n",
            "118/118 [==============================] - 3s 23ms/step - loss: 0.0467 - accuracy: 0.9855 - val_loss: 0.0710 - val_accuracy: 0.9781\n",
            "Epoch 11/20\n",
            "118/118 [==============================] - 2s 13ms/step - loss: 0.0414 - accuracy: 0.9875 - val_loss: 0.0710 - val_accuracy: 0.9786\n",
            "Epoch 12/20\n",
            "118/118 [==============================] - 2s 13ms/step - loss: 0.0356 - accuracy: 0.9894 - val_loss: 0.0730 - val_accuracy: 0.9782\n",
            "Epoch 13/20\n",
            "118/118 [==============================] - 2s 18ms/step - loss: 0.0319 - accuracy: 0.9907 - val_loss: 0.0669 - val_accuracy: 0.9795\n",
            "Epoch 14/20\n",
            "118/118 [==============================] - 3s 25ms/step - loss: 0.0280 - accuracy: 0.9912 - val_loss: 0.0663 - val_accuracy: 0.9806\n",
            "Epoch 15/20\n",
            "118/118 [==============================] - 2s 17ms/step - loss: 0.0245 - accuracy: 0.9926 - val_loss: 0.0737 - val_accuracy: 0.9784\n",
            "Epoch 16/20\n",
            "118/118 [==============================] - 2s 13ms/step - loss: 0.0233 - accuracy: 0.9931 - val_loss: 0.0708 - val_accuracy: 0.9793\n",
            "Epoch 17/20\n",
            "118/118 [==============================] - 2s 13ms/step - loss: 0.0196 - accuracy: 0.9940 - val_loss: 0.0734 - val_accuracy: 0.9796\n",
            "Epoch 18/20\n",
            "118/118 [==============================] - 2s 14ms/step - loss: 0.0194 - accuracy: 0.9941 - val_loss: 0.0791 - val_accuracy: 0.9777\n",
            "Epoch 19/20\n",
            "118/118 [==============================] - 2s 13ms/step - loss: 0.0157 - accuracy: 0.9954 - val_loss: 0.0759 - val_accuracy: 0.9790\n",
            "Epoch 20/20\n",
            "118/118 [==============================] - 2s 19ms/step - loss: 0.0157 - accuracy: 0.9955 - val_loss: 0.0769 - val_accuracy: 0.9787\n"
          ]
        }
      ]
    },
    {
      "cell_type": "code",
      "source": [
        "#Visualising the training loss and validation loss of the model\n",
        "\n",
        "plt.plot(history.history['loss'])\n",
        "plt.plot(history.history['val_loss'])\n",
        "\n",
        "#We can see that around 5 epochs, the test and validation losses were around the same."
      ],
      "metadata": {
        "colab": {
          "base_uri": "https://localhost:8080/",
          "height": 447
        },
        "outputId": "4adc4250-3a06-43af-eb39-0584dc5901b0",
        "id": "OMZCAzxNOX9a"
      },
      "execution_count": null,
      "outputs": [
        {
          "output_type": "execute_result",
          "data": {
            "text/plain": [
              "[<matplotlib.lines.Line2D at 0x7d0a2005d8a0>]"
            ]
          },
          "metadata": {},
          "execution_count": 54
        },
        {
          "output_type": "display_data",
          "data": {
            "text/plain": [
              "<Figure size 640x480 with 1 Axes>"
            ],
            "image/png": "[encoded data removed]"
          },
          "metadata": {}
        }
      ]
    },
    {
      "cell_type": "code",
      "source": [
        "#Evaluating the test loss and accuracy of the model.\n",
        "model.evaluate(x_test, y_test)\n",
        "\n",
        "#The increase of neurons in the second layer seemed to slightly decreased accuracy and increased loss."
      ],
      "metadata": {
        "colab": {
          "base_uri": "https://localhost:8080/"
        },
        "outputId": "68b23d94-8af2-4045-a6fb-92839bf1c9b9",
        "id": "dbAehOljOX9a"
      },
      "execution_count": null,
      "outputs": [
        {
          "output_type": "stream",
          "name": "stdout",
          "text": [
            "313/313 [==============================] - 1s 3ms/step - loss: 0.0769 - accuracy: 0.9787\n"
          ]
        },
        {
          "output_type": "execute_result",
          "data": {
            "text/plain": [
              "[0.07686794549226761, 0.9786999821662903]"
            ]
          },
          "metadata": {},
          "execution_count": 55
        }
      ]
    },
    {
      "cell_type": "markdown",
      "source": [
        "# **Test 3: Increase Neurons in First Layer**\n",
        "\n",
        "First layer neurons from 128 to 156"
      ],
      "metadata": {
        "id": "77TukMU5RHio"
      }
    },
    {
      "cell_type": "markdown",
      "source": [
        "## Task 3: Build a Classifier using MLP\n",
        "The layer is the most fundamental component of a neural network. Data is put into layers, and they extract representations from it. Choose the number of stacking layers so that model representations should, be useful for the given task."
      ],
      "metadata": {
        "id": "brkWeB6vRHiw"
      }
    },
    {
      "cell_type": "code",
      "source": [
        "#Creating the neural network for the classifier model\n",
        "\n",
        "#Random seed with key 42 was established for reproducibility.\n",
        "tf.random.set_seed(42)\n",
        "\n",
        "#Creating a sequential model using Keras. Sequential model linearly stacks layers one after another.\n",
        "model = tf.keras.Sequential()\n",
        "\n",
        "#Adding the input later of the network and indicating that the shape of the data is 28,28/\n",
        "model.add(tf.keras.layers.Input(shape=[28,28]))\n",
        "\n",
        "#Flattening the 28,28 2D input into a 1D array of 784.\n",
        "#The next layer is expecting to receive a 1D array, which is why we need to do this step.\n",
        "model.add(tf.keras.layers.Flatten())\n",
        "\n",
        "#Creating 2 dense hidden layers of 128, and using the ReLu activation.\n",
        "#ReLu was used due to its non-linearity properties and efficiency.\n",
        "#input shape 784 was from multiplying 28 and 28.\n",
        "model.add(tf.keras.layers.Dense(156, activation=\"relu\", input_shape=(784,)))\n",
        "model.add(tf.keras.layers.Dense(128, activation=\"relu\"))\n",
        "\n",
        "#Creating a droupout layer to help prevent overfitting\n",
        "#Dropout 0.25 means that we are dropping out 25% of our input units randomly.\n",
        "model.add(tf.keras.layers.Dropout(0.25))\n",
        "\n",
        "#Creating the final output layer, which classifies the images from 0 to 9.\n",
        "#Softmax activation is used for multiclass classfication and as the output layer.\n",
        "model.add(tf.keras.layers.Dense(10, activation=\"softmax\"))\n",
        "\n",
        "'''\n",
        "The parameters above were chosen by replicating the clothes classification model.\n",
        "This notebook aims to create a benchmark of the MNIST model so that we can compare its results to other models made.\n",
        "'''"
      ],
      "metadata": {
        "colab": {
          "base_uri": "https://localhost:8080/",
          "height": 70
        },
        "outputId": "d869fd5d-09f9-4560-cd89-31a801aeab07",
        "id": "5bMh5tx9RHiw"
      },
      "execution_count": null,
      "outputs": [
        {
          "output_type": "execute_result",
          "data": {
            "text/plain": [
              "'\\nThe parameters above were chosen by replicating the clothes classification model.\\nThis notebook aims to create a benchmark of the MNIST model so that we can compare its results to other models made.\\n'"
            ],
            "application/vnd.google.colaboratory.intrinsic+json": {
              "type": "string"
            }
          },
          "metadata": {},
          "execution_count": 56
        }
      ]
    },
    {
      "cell_type": "code",
      "source": [
        "#Showing a summary of the model created.\n",
        "model.summary()"
      ],
      "metadata": {
        "colab": {
          "base_uri": "https://localhost:8080/"
        },
        "outputId": "78db3bb9-9bdb-457f-d7ef-72307c2bae60",
        "id": "UKjFLKtkRHix"
      },
      "execution_count": null,
      "outputs": [
        {
          "output_type": "stream",
          "name": "stdout",
          "text": [
            "Model: \"sequential_7\"\n",
            "_________________________________________________________________\n",
            " Layer (type)                Output Shape              Param #   \n",
            "=================================================================\n",
            " flatten_2 (Flatten)         (None, 784)               0         \n",
            "                                                                 \n",
            " dense_21 (Dense)            (None, 156)               122460    \n",
            "                                                                 \n",
            " dense_22 (Dense)            (None, 128)               20096     \n",
            "                                                                 \n",
            " dropout_7 (Dropout)         (None, 128)               0         \n",
            "                                                                 \n",
            " dense_23 (Dense)            (None, 10)                1290      \n",
            "                                                                 \n",
            "=================================================================\n",
            "Total params: 143846 (561.90 KB)\n",
            "Trainable params: 143846 (561.90 KB)\n",
            "Non-trainable params: 0 (0.00 Byte)\n",
            "_________________________________________________________________\n"
          ]
        }
      ]
    },
    {
      "cell_type": "markdown",
      "source": [
        "## Task 4: Compile the Model\n",
        "A few more parameters are required before the model can be used for training.\n",
        "\n",
        "These are added at the build step of the model: Choose these parameters.\n",
        "\n",
        "Loss function\n",
        "\n",
        "Optimizer\n",
        "\n",
        "Metrics"
      ],
      "metadata": {
        "id": "I70rrs_NRHix"
      }
    },
    {
      "cell_type": "code",
      "source": [
        "#Compiling the model by configuring the loss, optimizer, and metrics paramters.\n",
        "model.compile(loss=\"sparse_categorical_crossentropy\",\n",
        "             optimizer = \"adam\",\n",
        "             metrics=['accuracy'])\n",
        "\n",
        "#Trying Categorical Crossentropy since this is multi-class classification and the data is encoded. The loss is also on a Logarithmic scale, so the model penalizes confident but incorrect predictions more heavily.\n",
        "#adam is an extension of SGD and is designed to overcome the limitations of sgd.\n",
        "# Accuracy was used as a metric to evaluate the model's success."
      ],
      "metadata": {
        "id": "ZaFLtJAyRHix"
      },
      "execution_count": null,
      "outputs": []
    },
    {
      "cell_type": "markdown",
      "source": [
        "## Task 5: Train and Test the model.\n",
        "a. Feed the training data to the built model.\n",
        "\n",
        "b. Ask model to make predictions about a test set.\n",
        "\n",
        "c. Verify that the predictions match the labels from the test labels."
      ],
      "metadata": {
        "id": "Kh9j3HvERHiy"
      }
    },
    {
      "cell_type": "code",
      "source": [
        "#Training the model with 20 epochs.\n",
        "#20 epochs will be used across all notebooks for the MNIST dataset for uniformity.\n",
        "history = model.fit(x_train, y_train, epochs=20, validation_data=(x_test, y_test), batch_size=512)\n",
        "\n",
        "#A mini batch was selected to make the training less computationally expensive. A batch size of 512 means that we are processing 512 examples from the training dataset."
      ],
      "metadata": {
        "colab": {
          "base_uri": "https://localhost:8080/"
        },
        "outputId": "27c412d3-9efa-4290-b39e-af23e428d940",
        "id": "uxXmOz3oRHiy"
      },
      "execution_count": null,
      "outputs": [
        {
          "output_type": "stream",
          "name": "stdout",
          "text": [
            "Epoch 1/20\n",
            "118/118 [==============================] - 5s 23ms/step - loss: 0.5751 - accuracy: 0.8297 - val_loss: 0.2182 - val_accuracy: 0.9342\n",
            "Epoch 2/20\n",
            "118/118 [==============================] - 2s 17ms/step - loss: 0.2114 - accuracy: 0.9388 - val_loss: 0.1513 - val_accuracy: 0.9544\n",
            "Epoch 3/20\n",
            "118/118 [==============================] - 2s 14ms/step - loss: 0.1529 - accuracy: 0.9551 - val_loss: 0.1248 - val_accuracy: 0.9603\n",
            "Epoch 4/20\n",
            "118/118 [==============================] - 2s 18ms/step - loss: 0.1219 - accuracy: 0.9642 - val_loss: 0.1032 - val_accuracy: 0.9675\n",
            "Epoch 5/20\n",
            "118/118 [==============================] - 2s 19ms/step - loss: 0.1003 - accuracy: 0.9703 - val_loss: 0.0968 - val_accuracy: 0.9709\n",
            "Epoch 6/20\n",
            "118/118 [==============================] - 3s 27ms/step - loss: 0.0836 - accuracy: 0.9749 - val_loss: 0.0850 - val_accuracy: 0.9737\n",
            "Epoch 7/20\n",
            "118/118 [==============================] - 3s 23ms/step - loss: 0.0709 - accuracy: 0.9788 - val_loss: 0.0825 - val_accuracy: 0.9748\n",
            "Epoch 8/20\n",
            "118/118 [==============================] - 3s 24ms/step - loss: 0.0626 - accuracy: 0.9812 - val_loss: 0.0795 - val_accuracy: 0.9755\n",
            "Epoch 9/20\n",
            "118/118 [==============================] - 3s 27ms/step - loss: 0.0538 - accuracy: 0.9838 - val_loss: 0.0747 - val_accuracy: 0.9772\n",
            "Epoch 10/20\n",
            "118/118 [==============================] - 4s 32ms/step - loss: 0.0470 - accuracy: 0.9858 - val_loss: 0.0734 - val_accuracy: 0.9765\n",
            "Epoch 11/20\n",
            "118/118 [==============================] - 2s 14ms/step - loss: 0.0414 - accuracy: 0.9872 - val_loss: 0.0696 - val_accuracy: 0.9779\n",
            "Epoch 12/20\n",
            "118/118 [==============================] - 2s 20ms/step - loss: 0.0361 - accuracy: 0.9891 - val_loss: 0.0780 - val_accuracy: 0.9769\n",
            "Epoch 13/20\n",
            "118/118 [==============================] - 2s 14ms/step - loss: 0.0333 - accuracy: 0.9900 - val_loss: 0.0692 - val_accuracy: 0.9801\n",
            "Epoch 14/20\n",
            "118/118 [==============================] - 2s 14ms/step - loss: 0.0271 - accuracy: 0.9920 - val_loss: 0.0703 - val_accuracy: 0.9796\n",
            "Epoch 15/20\n",
            "118/118 [==============================] - 2s 16ms/step - loss: 0.0249 - accuracy: 0.9925 - val_loss: 0.0701 - val_accuracy: 0.9797\n",
            "Epoch 16/20\n",
            "118/118 [==============================] - 4s 35ms/step - loss: 0.0216 - accuracy: 0.9935 - val_loss: 0.0702 - val_accuracy: 0.9789\n",
            "Epoch 17/20\n",
            "118/118 [==============================] - 2s 20ms/step - loss: 0.0192 - accuracy: 0.9944 - val_loss: 0.0701 - val_accuracy: 0.9800\n",
            "Epoch 18/20\n",
            "118/118 [==============================] - 2s 14ms/step - loss: 0.0176 - accuracy: 0.9950 - val_loss: 0.0722 - val_accuracy: 0.9796\n",
            "Epoch 19/20\n",
            "118/118 [==============================] - 2s 13ms/step - loss: 0.0160 - accuracy: 0.9955 - val_loss: 0.0709 - val_accuracy: 0.9797\n",
            "Epoch 20/20\n",
            "118/118 [==============================] - 2s 14ms/step - loss: 0.0154 - accuracy: 0.9952 - val_loss: 0.0792 - val_accuracy: 0.9776\n"
          ]
        }
      ]
    },
    {
      "cell_type": "code",
      "source": [
        "#Visualising the training loss and validation loss of the model\n",
        "\n",
        "plt.plot(history.history['loss'])\n",
        "plt.plot(history.history['val_loss'])\n",
        "\n",
        "#We can see that around 5 epochs, the test and validation losses were around the same."
      ],
      "metadata": {
        "colab": {
          "base_uri": "https://localhost:8080/",
          "height": 450
        },
        "outputId": "a6bdcef2-26ab-43c1-f8a2-f07c12b44c7d",
        "id": "ao-d4hzfRHiy"
      },
      "execution_count": null,
      "outputs": [
        {
          "output_type": "execute_result",
          "data": {
            "text/plain": [
              "[<matplotlib.lines.Line2D at 0x7d09fe0b4ee0>]"
            ]
          },
          "metadata": {},
          "execution_count": 60
        },
        {
          "output_type": "display_data",
          "data": {
            "text/plain": [
              "<Figure size 640x480 with 1 Axes>"
            ],
            "image/png": "[encoded data removed]"
          },
          "metadata": {}
        }
      ]
    },
    {
      "cell_type": "code",
      "source": [
        "#Evaluating the test loss and accuracy of the model.\n",
        "model.evaluate(x_test, y_test)\n",
        "\n",
        "#The increase of neurons in the second layer seemed to slightly decreased accuracy and increased loss."
      ],
      "metadata": {
        "colab": {
          "base_uri": "https://localhost:8080/"
        },
        "outputId": "b94f8c71-e0ac-496c-a1f6-ff86aa9be123",
        "id": "gPaEPv1KRHiy"
      },
      "execution_count": null,
      "outputs": [
        {
          "output_type": "stream",
          "name": "stdout",
          "text": [
            "313/313 [==============================] - 1s 3ms/step - loss: 0.0792 - accuracy: 0.9776\n"
          ]
        },
        {
          "output_type": "execute_result",
          "data": {
            "text/plain": [
              "[0.07918824255466461, 0.9775999784469604]"
            ]
          },
          "metadata": {},
          "execution_count": 61
        }
      ]
    },
    {
      "cell_type": "code",
      "source": [],
      "metadata": {
        "id": "XEnExdd3RHiz"
      },
      "execution_count": null,
      "outputs": []
    },
    {
      "cell_type": "markdown",
      "source": [
        "# **Test 4: Decrease Neurons in First Layer**\n",
        "\n",
        "First layer neurons from 128 to 100"
      ],
      "metadata": {
        "id": "0HlbN7JgRzjv"
      }
    },
    {
      "cell_type": "markdown",
      "source": [
        "## Task 3: Build a Classifier using MLP\n",
        "The layer is the most fundamental component of a neural network. Data is put into layers, and they extract representations from it. Choose the number of stacking layers so that model representations should, be useful for the given task."
      ],
      "metadata": {
        "id": "i1eqlCjSRzj6"
      }
    },
    {
      "cell_type": "code",
      "source": [
        "#Creating the neural network for the classifier model\n",
        "\n",
        "#Random seed with key 42 was established for reproducibility.\n",
        "tf.random.set_seed(42)\n",
        "\n",
        "#Creating a sequential model using Keras. Sequential model linearly stacks layers one after another.\n",
        "model = tf.keras.Sequential()\n",
        "\n",
        "#Adding the input later of the network and indicating that the shape of the data is 28,28/\n",
        "model.add(tf.keras.layers.Input(shape=[28,28]))\n",
        "\n",
        "#Flattening the 28,28 2D input into a 1D array of 784.\n",
        "#The next layer is expecting to receive a 1D array, which is why we need to do this step.\n",
        "model.add(tf.keras.layers.Flatten())\n",
        "\n",
        "#Creating 2 dense hidden layers of 128, and using the ReLu activation.\n",
        "#ReLu was used due to its non-linearity properties and efficiency.\n",
        "#input shape 784 was from multiplying 28 and 28.\n",
        "model.add(tf.keras.layers.Dense(100, activation=\"relu\", input_shape=(784,)))\n",
        "model.add(tf.keras.layers.Dense(128, activation=\"relu\"))\n",
        "\n",
        "#Creating a droupout layer to help prevent overfitting\n",
        "#Dropout 0.25 means that we are dropping out 25% of our input units randomly.\n",
        "model.add(tf.keras.layers.Dropout(0.25))\n",
        "\n",
        "#Creating the final output layer, which classifies the images from 0 to 9.\n",
        "#Softmax activation is used for multiclass classfication and as the output layer.\n",
        "model.add(tf.keras.layers.Dense(10, activation=\"softmax\"))\n",
        "\n",
        "'''\n",
        "The parameters above were chosen by replicating the clothes classification model.\n",
        "This notebook aims to create a benchmark of the MNIST model so that we can compare its results to other models made.\n",
        "'''"
      ],
      "metadata": {
        "colab": {
          "base_uri": "https://localhost:8080/",
          "height": 70
        },
        "outputId": "c0189acd-7816-49cf-e6c8-de8e1be73067",
        "id": "1Vl7S036Rzj7"
      },
      "execution_count": null,
      "outputs": [
        {
          "output_type": "execute_result",
          "data": {
            "text/plain": [
              "'\\nThe parameters above were chosen by replicating the clothes classification model.\\nThis notebook aims to create a benchmark of the MNIST model so that we can compare its results to other models made.\\n'"
            ],
            "application/vnd.google.colaboratory.intrinsic+json": {
              "type": "string"
            }
          },
          "metadata": {},
          "execution_count": 65
        }
      ]
    },
    {
      "cell_type": "code",
      "source": [
        "#Showing a summary of the model created.\n",
        "model.summary()"
      ],
      "metadata": {
        "colab": {
          "base_uri": "https://localhost:8080/"
        },
        "outputId": "847d89f0-ee1f-4b1f-aebc-c3b890f652ea",
        "id": "GhsxrkqDRzj7"
      },
      "execution_count": null,
      "outputs": [
        {
          "output_type": "stream",
          "name": "stdout",
          "text": [
            "Model: \"sequential_8\"\n",
            "_________________________________________________________________\n",
            " Layer (type)                Output Shape              Param #   \n",
            "=================================================================\n",
            " flatten_3 (Flatten)         (None, 784)               0         \n",
            "                                                                 \n",
            " dense_24 (Dense)            (None, 100)               78500     \n",
            "                                                                 \n",
            " dense_25 (Dense)            (None, 128)               12928     \n",
            "                                                                 \n",
            " dropout_8 (Dropout)         (None, 128)               0         \n",
            "                                                                 \n",
            " dense_26 (Dense)            (None, 10)                1290      \n",
            "                                                                 \n",
            "=================================================================\n",
            "Total params: 92718 (362.18 KB)\n",
            "Trainable params: 92718 (362.18 KB)\n",
            "Non-trainable params: 0 (0.00 Byte)\n",
            "_________________________________________________________________\n"
          ]
        }
      ]
    },
    {
      "cell_type": "markdown",
      "source": [
        "## Task 4: Compile the Model\n",
        "A few more parameters are required before the model can be used for training.\n",
        "\n",
        "These are added at the build step of the model: Choose these parameters.\n",
        "\n",
        "Loss function\n",
        "\n",
        "Optimizer\n",
        "\n",
        "Metrics"
      ],
      "metadata": {
        "id": "mQaKabgPRzj7"
      }
    },
    {
      "cell_type": "code",
      "source": [
        "#Compiling the model by configuring the loss, optimizer, and metrics paramters.\n",
        "model.compile(loss=\"sparse_categorical_crossentropy\",\n",
        "             optimizer = \"adam\",\n",
        "             metrics=['accuracy'])\n",
        "\n",
        "#Trying Categorical Crossentropy since this is multi-class classification and the data is encoded. The loss is also on a Logarithmic scale, so the model penalizes confident but incorrect predictions more heavily.\n",
        "#adam is an extension of SGD and is designed to overcome the limitations of sgd.\n",
        "# Accuracy was used as a metric to evaluate the model's success."
      ],
      "metadata": {
        "id": "6QfdmkoXRzj7"
      },
      "execution_count": null,
      "outputs": []
    },
    {
      "cell_type": "markdown",
      "source": [
        "## Task 5: Train and Test the model.\n",
        "a. Feed the training data to the built model.\n",
        "\n",
        "b. Ask model to make predictions about a test set.\n",
        "\n",
        "c. Verify that the predictions match the labels from the test labels."
      ],
      "metadata": {
        "id": "t3iaY7dbRzj7"
      }
    },
    {
      "cell_type": "code",
      "source": [
        "#Training the model with 20 epochs.\n",
        "#20 epochs will be used across all notebooks for the MNIST dataset for uniformity.\n",
        "history = model.fit(x_train, y_train, epochs=20, validation_data=(x_test, y_test), batch_size=512)\n",
        "\n",
        "#A mini batch was selected to make the training less computationally expensive. A batch size of 512 means that we are processing 512 examples from the training dataset."
      ],
      "metadata": {
        "colab": {
          "base_uri": "https://localhost:8080/"
        },
        "outputId": "3d1b1c59-6042-4b31-bb89-1f52e9088509",
        "id": "_40IZJbSRzj7"
      },
      "execution_count": null,
      "outputs": [
        {
          "output_type": "stream",
          "name": "stdout",
          "text": [
            "Epoch 1/20\n",
            "118/118 [==============================] - 3s 20ms/step - loss: 0.6518 - accuracy: 0.8055 - val_loss: 0.2550 - val_accuracy: 0.9268\n",
            "Epoch 2/20\n",
            "118/118 [==============================] - 2s 15ms/step - loss: 0.2464 - accuracy: 0.9282 - val_loss: 0.1747 - val_accuracy: 0.9479\n",
            "Epoch 3/20\n",
            "118/118 [==============================] - 1s 12ms/step - loss: 0.1822 - accuracy: 0.9465 - val_loss: 0.1405 - val_accuracy: 0.9581\n",
            "Epoch 4/20\n",
            "118/118 [==============================] - 1s 11ms/step - loss: 0.1459 - accuracy: 0.9566 - val_loss: 0.1172 - val_accuracy: 0.9639\n",
            "Epoch 5/20\n",
            "118/118 [==============================] - 1s 12ms/step - loss: 0.1195 - accuracy: 0.9647 - val_loss: 0.1035 - val_accuracy: 0.9675\n",
            "Epoch 6/20\n",
            "118/118 [==============================] - 1s 12ms/step - loss: 0.1010 - accuracy: 0.9703 - val_loss: 0.0901 - val_accuracy: 0.9734\n",
            "Epoch 7/20\n",
            "118/118 [==============================] - 1s 12ms/step - loss: 0.0877 - accuracy: 0.9748 - val_loss: 0.0853 - val_accuracy: 0.9745\n",
            "Epoch 8/20\n",
            "118/118 [==============================] - 1s 12ms/step - loss: 0.0767 - accuracy: 0.9775 - val_loss: 0.0815 - val_accuracy: 0.9742\n",
            "Epoch 9/20\n",
            "118/118 [==============================] - 2s 15ms/step - loss: 0.0678 - accuracy: 0.9796 - val_loss: 0.0780 - val_accuracy: 0.9764\n",
            "Epoch 10/20\n",
            "118/118 [==============================] - 2s 18ms/step - loss: 0.0598 - accuracy: 0.9818 - val_loss: 0.0736 - val_accuracy: 0.9783\n",
            "Epoch 11/20\n",
            "118/118 [==============================] - 1s 12ms/step - loss: 0.0536 - accuracy: 0.9840 - val_loss: 0.0728 - val_accuracy: 0.9784\n",
            "Epoch 12/20\n",
            "118/118 [==============================] - 1s 12ms/step - loss: 0.0490 - accuracy: 0.9846 - val_loss: 0.0728 - val_accuracy: 0.9769\n",
            "Epoch 13/20\n",
            "118/118 [==============================] - 1s 11ms/step - loss: 0.0445 - accuracy: 0.9862 - val_loss: 0.0686 - val_accuracy: 0.9795\n",
            "Epoch 14/20\n",
            "118/118 [==============================] - 1s 12ms/step - loss: 0.0388 - accuracy: 0.9885 - val_loss: 0.0670 - val_accuracy: 0.9796\n",
            "Epoch 15/20\n",
            "118/118 [==============================] - 1s 12ms/step - loss: 0.0367 - accuracy: 0.9893 - val_loss: 0.0717 - val_accuracy: 0.9768\n",
            "Epoch 16/20\n",
            "118/118 [==============================] - 1s 12ms/step - loss: 0.0335 - accuracy: 0.9898 - val_loss: 0.0690 - val_accuracy: 0.9792\n",
            "Epoch 17/20\n",
            "118/118 [==============================] - 1s 11ms/step - loss: 0.0289 - accuracy: 0.9911 - val_loss: 0.0675 - val_accuracy: 0.9802\n",
            "Epoch 18/20\n",
            "118/118 [==============================] - 2s 18ms/step - loss: 0.0274 - accuracy: 0.9918 - val_loss: 0.0698 - val_accuracy: 0.9801\n",
            "Epoch 19/20\n",
            "118/118 [==============================] - 2s 15ms/step - loss: 0.0258 - accuracy: 0.9922 - val_loss: 0.0723 - val_accuracy: 0.9794\n",
            "Epoch 20/20\n",
            "118/118 [==============================] - 1s 12ms/step - loss: 0.0245 - accuracy: 0.9921 - val_loss: 0.0673 - val_accuracy: 0.9795\n"
          ]
        }
      ]
    },
    {
      "cell_type": "code",
      "source": [
        "#Visualising the training loss and validation loss of the model\n",
        "\n",
        "plt.plot(history.history['loss'])\n",
        "plt.plot(history.history['val_loss'])\n",
        "\n",
        "#We can see that around 5 epochs, the test and validation losses were around the same."
      ],
      "metadata": {
        "colab": {
          "base_uri": "https://localhost:8080/",
          "height": 447
        },
        "outputId": "e39e17c4-de07-46bc-9064-55050ead8a74",
        "id": "nYPIwjPeRzj8"
      },
      "execution_count": null,
      "outputs": [
        {
          "output_type": "execute_result",
          "data": {
            "text/plain": [
              "[<matplotlib.lines.Line2D at 0x7d09eefc9180>]"
            ]
          },
          "metadata": {},
          "execution_count": 69
        },
        {
          "output_type": "display_data",
          "data": {
            "text/plain": [
              "<Figure size 640x480 with 1 Axes>"
            ],
            "image/png": "[encoded data removed]"
          },
          "metadata": {}
        }
      ]
    },
    {
      "cell_type": "code",
      "source": [
        "#Evaluating the test loss and accuracy of the model.\n",
        "model.evaluate(x_test, y_test)\n",
        "\n",
        "#The increase of neurons in the second layer seemed to slightly decreased accuracy and increased loss."
      ],
      "metadata": {
        "colab": {
          "base_uri": "https://localhost:8080/"
        },
        "outputId": "51e0f9d2-e251-4b9b-9f9b-052c921e9577",
        "id": "xqX7yGZXRzj8"
      },
      "execution_count": null,
      "outputs": [
        {
          "output_type": "stream",
          "name": "stdout",
          "text": [
            "313/313 [==============================] - 1s 2ms/step - loss: 0.0673 - accuracy: 0.9795\n"
          ]
        },
        {
          "output_type": "execute_result",
          "data": {
            "text/plain": [
              "[0.06731095165014267, 0.9794999957084656]"
            ]
          },
          "metadata": {},
          "execution_count": 70
        }
      ]
    },
    {
      "cell_type": "markdown",
      "source": [
        "# **Test 5: Increase Neurons in First and Second Layers**\n",
        "\n",
        "Neurons from 128 to 156"
      ],
      "metadata": {
        "id": "HnymEdZCSflj"
      }
    },
    {
      "cell_type": "markdown",
      "source": [
        "## Task 3: Build a Classifier using MLP\n",
        "The layer is the most fundamental component of a neural network. Data is put into layers, and they extract representations from it. Choose the number of stacking layers so that model representations should, be useful for the given task."
      ],
      "metadata": {
        "id": "B45woM2GSflu"
      }
    },
    {
      "cell_type": "code",
      "source": [
        "#Creating the neural network for the classifier model\n",
        "\n",
        "#Random seed with key 42 was established for reproducibility.\n",
        "tf.random.set_seed(42)\n",
        "\n",
        "#Creating a sequential model using Keras. Sequential model linearly stacks layers one after another.\n",
        "model = tf.keras.Sequential()\n",
        "\n",
        "#Adding the input later of the network and indicating that the shape of the data is 28,28/\n",
        "model.add(tf.keras.layers.Input(shape=[28,28]))\n",
        "\n",
        "#Flattening the 28,28 2D input into a 1D array of 784.\n",
        "#The next layer is expecting to receive a 1D array, which is why we need to do this step.\n",
        "model.add(tf.keras.layers.Flatten())\n",
        "\n",
        "#Creating 2 dense hidden layers of 128, and using the ReLu activation.\n",
        "#ReLu was used due to its non-linearity properties and efficiency.\n",
        "#input shape 784 was from multiplying 28 and 28.\n",
        "model.add(tf.keras.layers.Dense(156, activation=\"relu\", input_shape=(784,)))\n",
        "model.add(tf.keras.layers.Dense(156, activation=\"relu\"))\n",
        "\n",
        "#Creating a droupout layer to help prevent overfitting\n",
        "#Dropout 0.25 means that we are dropping out 25% of our input units randomly.\n",
        "model.add(tf.keras.layers.Dropout(0.25))\n",
        "\n",
        "#Creating the final output layer, which classifies the images from 0 to 9.\n",
        "#Softmax activation is used for multiclass classfication and as the output layer.\n",
        "model.add(tf.keras.layers.Dense(10, activation=\"softmax\"))\n",
        "\n",
        "'''\n",
        "The parameters above were chosen by replicating the clothes classification model.\n",
        "This notebook aims to create a benchmark of the MNIST model so that we can compare its results to other models made.\n",
        "'''"
      ],
      "metadata": {
        "colab": {
          "base_uri": "https://localhost:8080/",
          "height": 70
        },
        "outputId": "33e97212-c8e1-4311-95e9-3ee8130b97b5",
        "id": "DalynkOZSflv"
      },
      "execution_count": null,
      "outputs": [
        {
          "output_type": "execute_result",
          "data": {
            "text/plain": [
              "'\\nThe parameters above were chosen by replicating the clothes classification model.\\nThis notebook aims to create a benchmark of the MNIST model so that we can compare its results to other models made.\\n'"
            ],
            "application/vnd.google.colaboratory.intrinsic+json": {
              "type": "string"
            }
          },
          "metadata": {},
          "execution_count": 71
        }
      ]
    },
    {
      "cell_type": "code",
      "source": [
        "#Showing a summary of the model created.\n",
        "model.summary()"
      ],
      "metadata": {
        "colab": {
          "base_uri": "https://localhost:8080/"
        },
        "outputId": "c58fe1d0-67af-4ce5-99f6-7f9d7d4de5d5",
        "id": "59NVYkoHSflv"
      },
      "execution_count": null,
      "outputs": [
        {
          "output_type": "stream",
          "name": "stdout",
          "text": [
            "Model: \"sequential_9\"\n",
            "_________________________________________________________________\n",
            " Layer (type)                Output Shape              Param #   \n",
            "=================================================================\n",
            " flatten_4 (Flatten)         (None, 784)               0         \n",
            "                                                                 \n",
            " dense_27 (Dense)            (None, 156)               122460    \n",
            "                                                                 \n",
            " dense_28 (Dense)            (None, 156)               24492     \n",
            "                                                                 \n",
            " dropout_9 (Dropout)         (None, 156)               0         \n",
            "                                                                 \n",
            " dense_29 (Dense)            (None, 10)                1570      \n",
            "                                                                 \n",
            "=================================================================\n",
            "Total params: 148522 (580.16 KB)\n",
            "Trainable params: 148522 (580.16 KB)\n",
            "Non-trainable params: 0 (0.00 Byte)\n",
            "_________________________________________________________________\n"
          ]
        }
      ]
    },
    {
      "cell_type": "markdown",
      "source": [
        "## Task 4: Compile the Model\n",
        "A few more parameters are required before the model can be used for training.\n",
        "\n",
        "These are added at the build step of the model: Choose these parameters.\n",
        "\n",
        "Loss function\n",
        "\n",
        "Optimizer\n",
        "\n",
        "Metrics"
      ],
      "metadata": {
        "id": "X3kaBKHwSflv"
      }
    },
    {
      "cell_type": "code",
      "source": [
        "#Compiling the model by configuring the loss, optimizer, and metrics paramters.\n",
        "model.compile(loss=\"sparse_categorical_crossentropy\",\n",
        "             optimizer = \"adam\",\n",
        "             metrics=['accuracy'])\n",
        "\n",
        "#Trying Categorical Crossentropy since this is multi-class classification and the data is encoded. The loss is also on a Logarithmic scale, so the model penalizes confident but incorrect predictions more heavily.\n",
        "#adam is an extension of SGD and is designed to overcome the limitations of sgd.\n",
        "# Accuracy was used as a metric to evaluate the model's success."
      ],
      "metadata": {
        "id": "DvsX8brCSflv"
      },
      "execution_count": null,
      "outputs": []
    },
    {
      "cell_type": "markdown",
      "source": [
        "## Task 5: Train and Test the model.\n",
        "a. Feed the training data to the built model.\n",
        "\n",
        "b. Ask model to make predictions about a test set.\n",
        "\n",
        "c. Verify that the predictions match the labels from the test labels."
      ],
      "metadata": {
        "id": "7zpdj4k7Sflv"
      }
    },
    {
      "cell_type": "code",
      "source": [
        "#Training the model with 20 epochs.\n",
        "#20 epochs will be used across all notebooks for the MNIST dataset for uniformity.\n",
        "history = model.fit(x_train, y_train, epochs=20, validation_data=(x_test, y_test), batch_size=512)\n",
        "\n",
        "#A mini batch was selected to make the training less computationally expensive. A batch size of 512 means that we are processing 512 examples from the training dataset."
      ],
      "metadata": {
        "colab": {
          "base_uri": "https://localhost:8080/"
        },
        "outputId": "99f2f580-e3c1-4496-9cac-7ad900cee4f1",
        "id": "M_81LwUuSflv"
      },
      "execution_count": null,
      "outputs": [
        {
          "output_type": "stream",
          "name": "stdout",
          "text": [
            "Epoch 1/20\n",
            "118/118 [==============================] - 3s 17ms/step - loss: 0.5550 - accuracy: 0.8424 - val_loss: 0.2135 - val_accuracy: 0.9382\n",
            "Epoch 2/20\n",
            "118/118 [==============================] - 2s 17ms/step - loss: 0.2025 - accuracy: 0.9410 - val_loss: 0.1459 - val_accuracy: 0.9571\n",
            "Epoch 3/20\n",
            "118/118 [==============================] - 2s 15ms/step - loss: 0.1438 - accuracy: 0.9580 - val_loss: 0.1166 - val_accuracy: 0.9648\n",
            "Epoch 4/20\n",
            "118/118 [==============================] - 2s 18ms/step - loss: 0.1125 - accuracy: 0.9669 - val_loss: 0.1027 - val_accuracy: 0.9699\n",
            "Epoch 5/20\n",
            "118/118 [==============================] - 3s 21ms/step - loss: 0.0924 - accuracy: 0.9721 - val_loss: 0.0879 - val_accuracy: 0.9734\n",
            "Epoch 6/20\n",
            "118/118 [==============================] - 2s 14ms/step - loss: 0.0760 - accuracy: 0.9776 - val_loss: 0.0820 - val_accuracy: 0.9752\n",
            "Epoch 7/20\n",
            "118/118 [==============================] - 2s 15ms/step - loss: 0.0634 - accuracy: 0.9809 - val_loss: 0.0772 - val_accuracy: 0.9774\n",
            "Epoch 8/20\n",
            "118/118 [==============================] - 2s 15ms/step - loss: 0.0565 - accuracy: 0.9832 - val_loss: 0.0751 - val_accuracy: 0.9757\n",
            "Epoch 9/20\n",
            "118/118 [==============================] - 2s 14ms/step - loss: 0.0466 - accuracy: 0.9861 - val_loss: 0.0706 - val_accuracy: 0.9789\n",
            "Epoch 10/20\n",
            "118/118 [==============================] - 2s 15ms/step - loss: 0.0420 - accuracy: 0.9871 - val_loss: 0.0744 - val_accuracy: 0.9767\n",
            "Epoch 11/20\n",
            "118/118 [==============================] - 4s 33ms/step - loss: 0.0373 - accuracy: 0.9886 - val_loss: 0.0692 - val_accuracy: 0.9792\n",
            "Epoch 12/20\n",
            "118/118 [==============================] - 3s 27ms/step - loss: 0.0324 - accuracy: 0.9900 - val_loss: 0.0702 - val_accuracy: 0.9794\n",
            "Epoch 13/20\n",
            "118/118 [==============================] - 2s 15ms/step - loss: 0.0278 - accuracy: 0.9915 - val_loss: 0.0666 - val_accuracy: 0.9804\n",
            "Epoch 14/20\n",
            "118/118 [==============================] - 2s 14ms/step - loss: 0.0254 - accuracy: 0.9923 - val_loss: 0.0682 - val_accuracy: 0.9807\n",
            "Epoch 15/20\n",
            "118/118 [==============================] - 2s 15ms/step - loss: 0.0227 - accuracy: 0.9934 - val_loss: 0.0733 - val_accuracy: 0.9781\n",
            "Epoch 16/20\n",
            "118/118 [==============================] - 2s 15ms/step - loss: 0.0207 - accuracy: 0.9936 - val_loss: 0.0737 - val_accuracy: 0.9792\n",
            "Epoch 17/20\n",
            "118/118 [==============================] - 3s 21ms/step - loss: 0.0173 - accuracy: 0.9947 - val_loss: 0.0707 - val_accuracy: 0.9805\n",
            "Epoch 18/20\n",
            "118/118 [==============================] - 2s 17ms/step - loss: 0.0155 - accuracy: 0.9956 - val_loss: 0.0705 - val_accuracy: 0.9806\n",
            "Epoch 19/20\n",
            "118/118 [==============================] - 2s 15ms/step - loss: 0.0127 - accuracy: 0.9963 - val_loss: 0.0714 - val_accuracy: 0.9803\n",
            "Epoch 20/20\n",
            "118/118 [==============================] - 2s 17ms/step - loss: 0.0137 - accuracy: 0.9959 - val_loss: 0.0715 - val_accuracy: 0.9806\n"
          ]
        }
      ]
    },
    {
      "cell_type": "code",
      "source": [
        "#Visualising the training loss and validation loss of the model\n",
        "\n",
        "plt.plot(history.history['loss'])\n",
        "plt.plot(history.history['val_loss'])\n",
        "\n",
        "#We can see that around 5 epochs, the test and validation losses were around the same."
      ],
      "metadata": {
        "colab": {
          "base_uri": "https://localhost:8080/",
          "height": 447
        },
        "outputId": "6a98f055-8766-4d2b-a6ac-aff5192a5454",
        "id": "6nU3LdkpSflw"
      },
      "execution_count": null,
      "outputs": [
        {
          "output_type": "execute_result",
          "data": {
            "text/plain": [
              "[<matplotlib.lines.Line2D at 0x7d0a1febbc40>]"
            ]
          },
          "metadata": {},
          "execution_count": 75
        },
        {
          "output_type": "display_data",
          "data": {
            "text/plain": [
              "<Figure size 640x480 with 1 Axes>"
            ],
            "image/png": "[encoded data removed]"
          },
          "metadata": {}
        }
      ]
    },
    {
      "cell_type": "code",
      "source": [
        "#Evaluating the test loss and accuracy of the model.\n",
        "model.evaluate(x_test, y_test)\n",
        "\n",
        "#The increase of neurons in the second layer seemed to slightly decreased accuracy and increased loss."
      ],
      "metadata": {
        "colab": {
          "base_uri": "https://localhost:8080/"
        },
        "outputId": "2cf6e926-b1ec-4803-af97-6f4f330aab94",
        "id": "m1xPpTJuSflw"
      },
      "execution_count": null,
      "outputs": [
        {
          "output_type": "stream",
          "name": "stdout",
          "text": [
            "313/313 [==============================] - 1s 3ms/step - loss: 0.0715 - accuracy: 0.9806\n"
          ]
        },
        {
          "output_type": "execute_result",
          "data": {
            "text/plain": [
              "[0.07145833969116211, 0.9805999994277954]"
            ]
          },
          "metadata": {},
          "execution_count": 76
        }
      ]
    },
    {
      "cell_type": "markdown",
      "source": [
        "# **Test 6: Increase Neurons in First Layer and Decrease Neurons in Second Layers**\n",
        "\n",
        "First layer 128 to 156\n",
        "Second layer 128 to 100"
      ],
      "metadata": {
        "id": "rqM6YHwWTAGv"
      }
    },
    {
      "cell_type": "markdown",
      "source": [
        "## Task 3: Build a Classifier using MLP\n",
        "The layer is the most fundamental component of a neural network. Data is put into layers, and they extract representations from it. Choose the number of stacking layers so that model representations should, be useful for the given task."
      ],
      "metadata": {
        "id": "gQUnKaMhTAG2"
      }
    },
    {
      "cell_type": "code",
      "source": [
        "#Creating the neural network for the classifier model\n",
        "\n",
        "#Random seed with key 42 was established for reproducibility.\n",
        "tf.random.set_seed(42)\n",
        "\n",
        "#Creating a sequential model using Keras. Sequential model linearly stacks layers one after another.\n",
        "model = tf.keras.Sequential()\n",
        "\n",
        "#Adding the input later of the network and indicating that the shape of the data is 28,28/\n",
        "model.add(tf.keras.layers.Input(shape=[28,28]))\n",
        "\n",
        "#Flattening the 28,28 2D input into a 1D array of 784.\n",
        "#The next layer is expecting to receive a 1D array, which is why we need to do this step.\n",
        "model.add(tf.keras.layers.Flatten())\n",
        "\n",
        "#Creating 2 dense hidden layers of 128, and using the ReLu activation.\n",
        "#ReLu was used due to its non-linearity properties and efficiency.\n",
        "#input shape 784 was from multiplying 28 and 28.\n",
        "model.add(tf.keras.layers.Dense(156, activation=\"relu\", input_shape=(784,)))\n",
        "model.add(tf.keras.layers.Dense(100, activation=\"relu\"))\n",
        "\n",
        "#Creating a droupout layer to help prevent overfitting\n",
        "#Dropout 0.25 means that we are dropping out 25% of our input units randomly.\n",
        "model.add(tf.keras.layers.Dropout(0.25))\n",
        "\n",
        "#Creating the final output layer, which classifies the images from 0 to 9.\n",
        "#Softmax activation is used for multiclass classfication and as the output layer.\n",
        "model.add(tf.keras.layers.Dense(10, activation=\"softmax\"))\n",
        "\n",
        "'''\n",
        "The parameters above were chosen by replicating the clothes classification model.\n",
        "This notebook aims to create a benchmark of the MNIST model so that we can compare its results to other models made.\n",
        "'''"
      ],
      "metadata": {
        "colab": {
          "base_uri": "https://localhost:8080/",
          "height": 70
        },
        "outputId": "ae0b6c4c-0452-4652-81e1-4583de90fb0f",
        "id": "rkcUjvv5TAG2"
      },
      "execution_count": null,
      "outputs": [
        {
          "output_type": "execute_result",
          "data": {
            "text/plain": [
              "'\\nThe parameters above were chosen by replicating the clothes classification model.\\nThis notebook aims to create a benchmark of the MNIST model so that we can compare its results to other models made.\\n'"
            ],
            "application/vnd.google.colaboratory.intrinsic+json": {
              "type": "string"
            }
          },
          "metadata": {},
          "execution_count": 77
        }
      ]
    },
    {
      "cell_type": "code",
      "source": [
        "#Showing a summary of the model created.\n",
        "model.summary()"
      ],
      "metadata": {
        "colab": {
          "base_uri": "https://localhost:8080/"
        },
        "outputId": "be7323dc-f747-4e92-ef3f-600b7cb0a691",
        "id": "aPPCSI0kTAG2"
      },
      "execution_count": null,
      "outputs": [
        {
          "output_type": "stream",
          "name": "stdout",
          "text": [
            "Model: \"sequential_10\"\n",
            "_________________________________________________________________\n",
            " Layer (type)                Output Shape              Param #   \n",
            "=================================================================\n",
            " flatten_5 (Flatten)         (None, 784)               0         \n",
            "                                                                 \n",
            " dense_30 (Dense)            (None, 156)               122460    \n",
            "                                                                 \n",
            " dense_31 (Dense)            (None, 100)               15700     \n",
            "                                                                 \n",
            " dropout_10 (Dropout)        (None, 100)               0         \n",
            "                                                                 \n",
            " dense_32 (Dense)            (None, 10)                1010      \n",
            "                                                                 \n",
            "=================================================================\n",
            "Total params: 139170 (543.63 KB)\n",
            "Trainable params: 139170 (543.63 KB)\n",
            "Non-trainable params: 0 (0.00 Byte)\n",
            "_________________________________________________________________\n"
          ]
        }
      ]
    },
    {
      "cell_type": "markdown",
      "source": [
        "## Task 4: Compile the Model\n",
        "A few more parameters are required before the model can be used for training.\n",
        "\n",
        "These are added at the build step of the model: Choose these parameters.\n",
        "\n",
        "Loss function\n",
        "\n",
        "Optimizer\n",
        "\n",
        "Metrics"
      ],
      "metadata": {
        "id": "gItjnMa_TAG2"
      }
    },
    {
      "cell_type": "code",
      "source": [
        "#Compiling the model by configuring the loss, optimizer, and metrics paramters.\n",
        "model.compile(loss=\"sparse_categorical_crossentropy\",\n",
        "             optimizer = \"adam\",\n",
        "             metrics=['accuracy'])\n",
        "\n",
        "#Trying Categorical Crossentropy since this is multi-class classification and the data is encoded. The loss is also on a Logarithmic scale, so the model penalizes confident but incorrect predictions more heavily.\n",
        "#adam is an extension of SGD and is designed to overcome the limitations of sgd.\n",
        "# Accuracy was used as a metric to evaluate the model's success."
      ],
      "metadata": {
        "id": "yz4jFZhKTAG3"
      },
      "execution_count": null,
      "outputs": []
    },
    {
      "cell_type": "markdown",
      "source": [
        "## Task 5: Train and Test the model.\n",
        "a. Feed the training data to the built model.\n",
        "\n",
        "b. Ask model to make predictions about a test set.\n",
        "\n",
        "c. Verify that the predictions match the labels from the test labels."
      ],
      "metadata": {
        "id": "JM9wHqqNTAG3"
      }
    },
    {
      "cell_type": "code",
      "source": [
        "#Training the model with 20 epochs.\n",
        "#20 epochs will be used across all notebooks for the MNIST dataset for uniformity.\n",
        "history = model.fit(x_train, y_train, epochs=20, validation_data=(x_test, y_test), batch_size=512)\n",
        "\n",
        "#A mini batch was selected to make the training less computationally expensive. A batch size of 512 means that we are processing 512 examples from the training dataset."
      ],
      "metadata": {
        "colab": {
          "base_uri": "https://localhost:8080/"
        },
        "outputId": "67cf620b-f824-426e-a85c-a37bd9f2972d",
        "id": "fIz7ntTJTAG3"
      },
      "execution_count": null,
      "outputs": [
        {
          "output_type": "stream",
          "name": "stdout",
          "text": [
            "Epoch 1/20\n",
            "118/118 [==============================] - 4s 30ms/step - loss: 0.5696 - accuracy: 0.8355 - val_loss: 0.2262 - val_accuracy: 0.9346\n",
            "Epoch 2/20\n",
            "118/118 [==============================] - 2s 19ms/step - loss: 0.2234 - accuracy: 0.9346 - val_loss: 0.1572 - val_accuracy: 0.9533\n",
            "Epoch 3/20\n",
            "118/118 [==============================] - 2s 14ms/step - loss: 0.1643 - accuracy: 0.9525 - val_loss: 0.1262 - val_accuracy: 0.9619\n",
            "Epoch 4/20\n",
            "118/118 [==============================] - 2s 14ms/step - loss: 0.1306 - accuracy: 0.9619 - val_loss: 0.1069 - val_accuracy: 0.9676\n",
            "Epoch 5/20\n",
            "118/118 [==============================] - 2s 13ms/step - loss: 0.1095 - accuracy: 0.9678 - val_loss: 0.0943 - val_accuracy: 0.9707\n",
            "Epoch 6/20\n",
            "118/118 [==============================] - 2s 13ms/step - loss: 0.0912 - accuracy: 0.9731 - val_loss: 0.0860 - val_accuracy: 0.9741\n",
            "Epoch 7/20\n",
            "118/118 [==============================] - 2s 13ms/step - loss: 0.0782 - accuracy: 0.9767 - val_loss: 0.0822 - val_accuracy: 0.9744\n",
            "Epoch 8/20\n",
            "118/118 [==============================] - 2s 14ms/step - loss: 0.0680 - accuracy: 0.9794 - val_loss: 0.0783 - val_accuracy: 0.9754\n",
            "Epoch 9/20\n",
            "118/118 [==============================] - 3s 22ms/step - loss: 0.0588 - accuracy: 0.9824 - val_loss: 0.0747 - val_accuracy: 0.9772\n",
            "Epoch 10/20\n",
            "118/118 [==============================] - 2s 16ms/step - loss: 0.0516 - accuracy: 0.9846 - val_loss: 0.0737 - val_accuracy: 0.9772\n",
            "Epoch 11/20\n",
            "118/118 [==============================] - 2s 13ms/step - loss: 0.0455 - accuracy: 0.9868 - val_loss: 0.0673 - val_accuracy: 0.9795\n",
            "Epoch 12/20\n",
            "118/118 [==============================] - 2s 14ms/step - loss: 0.0399 - accuracy: 0.9877 - val_loss: 0.0721 - val_accuracy: 0.9780\n",
            "Epoch 13/20\n",
            "118/118 [==============================] - 2s 14ms/step - loss: 0.0367 - accuracy: 0.9889 - val_loss: 0.0667 - val_accuracy: 0.9801\n",
            "Epoch 14/20\n",
            "118/118 [==============================] - 2s 14ms/step - loss: 0.0325 - accuracy: 0.9900 - val_loss: 0.0689 - val_accuracy: 0.9805\n",
            "Epoch 15/20\n",
            "118/118 [==============================] - 2s 14ms/step - loss: 0.0298 - accuracy: 0.9907 - val_loss: 0.0694 - val_accuracy: 0.9791\n",
            "Epoch 16/20\n",
            "118/118 [==============================] - 2s 19ms/step - loss: 0.0254 - accuracy: 0.9923 - val_loss: 0.0652 - val_accuracy: 0.9803\n",
            "Epoch 17/20\n",
            "118/118 [==============================] - 3s 23ms/step - loss: 0.0242 - accuracy: 0.9926 - val_loss: 0.0704 - val_accuracy: 0.9799\n",
            "Epoch 18/20\n",
            "118/118 [==============================] - 2s 14ms/step - loss: 0.0209 - accuracy: 0.9938 - val_loss: 0.0683 - val_accuracy: 0.9818\n",
            "Epoch 19/20\n",
            "118/118 [==============================] - 2s 14ms/step - loss: 0.0181 - accuracy: 0.9947 - val_loss: 0.0685 - val_accuracy: 0.9810\n",
            "Epoch 20/20\n",
            "118/118 [==============================] - 2s 13ms/step - loss: 0.0168 - accuracy: 0.9949 - val_loss: 0.0778 - val_accuracy: 0.9781\n"
          ]
        }
      ]
    },
    {
      "cell_type": "code",
      "source": [
        "#Visualising the training loss and validation loss of the model\n",
        "\n",
        "plt.plot(history.history['loss'])\n",
        "plt.plot(history.history['val_loss'])\n",
        "\n",
        "#We can see that around 5 epochs, the test and validation losses were around the same."
      ],
      "metadata": {
        "colab": {
          "base_uri": "https://localhost:8080/",
          "height": 447
        },
        "outputId": "95abad65-41c8-48bb-e79f-158dcc4a5d79",
        "id": "qNrZw3PfTAG3"
      },
      "execution_count": null,
      "outputs": [
        {
          "output_type": "execute_result",
          "data": {
            "text/plain": [
              "[<matplotlib.lines.Line2D at 0x7d0a207c81f0>]"
            ]
          },
          "metadata": {},
          "execution_count": 81
        },
        {
          "output_type": "display_data",
          "data": {
            "text/plain": [
              "<Figure size 640x480 with 1 Axes>"
            ],
            "image/png": "[encoded data removed]"
          },
          "metadata": {}
        }
      ]
    },
    {
      "cell_type": "code",
      "source": [
        "#Evaluating the test loss and accuracy of the model.\n",
        "model.evaluate(x_test, y_test)\n",
        "\n",
        "#The increase of neurons in the second layer seemed to slightly decreased accuracy and increased loss."
      ],
      "metadata": {
        "colab": {
          "base_uri": "https://localhost:8080/"
        },
        "outputId": "a0032c1f-58a0-4a55-8378-009331c35031",
        "id": "B_yoUqVwTAG3"
      },
      "execution_count": null,
      "outputs": [
        {
          "output_type": "stream",
          "name": "stdout",
          "text": [
            "313/313 [==============================] - 1s 2ms/step - loss: 0.0778 - accuracy: 0.9781\n"
          ]
        },
        {
          "output_type": "execute_result",
          "data": {
            "text/plain": [
              "[0.07777629047632217, 0.9781000018119812]"
            ]
          },
          "metadata": {},
          "execution_count": 82
        }
      ]
    },
    {
      "cell_type": "code",
      "source": [],
      "metadata": {
        "id": "gtxGk96GTaIy"
      },
      "execution_count": null,
      "outputs": []
    },
    {
      "cell_type": "markdown",
      "source": [
        "# **Test 7: Increasing Dropout to 50%**"
      ],
      "metadata": {
        "id": "JEEUlz-HUUqs"
      }
    },
    {
      "cell_type": "markdown",
      "source": [
        "## Task 3: Build a Classifier using MLP\n",
        "The layer is the most fundamental component of a neural network. Data is put into layers, and they extract representations from it. Choose the number of stacking layers so that model representations should, be useful for the given task."
      ],
      "metadata": {
        "id": "jiiGyn-fUUq1"
      }
    },
    {
      "cell_type": "code",
      "source": [
        "#Creating the neural network for the classifier model\n",
        "\n",
        "#Random seed with key 42 was established for reproducibility.\n",
        "tf.random.set_seed(42)\n",
        "\n",
        "#Creating a sequential model using Keras. Sequential model linearly stacks layers one after another.\n",
        "model = tf.keras.Sequential()\n",
        "\n",
        "#Adding the input later of the network and indicating that the shape of the data is 28,28/\n",
        "model.add(tf.keras.layers.Input(shape=[28,28]))\n",
        "\n",
        "#Flattening the 28,28 2D input into a 1D array of 784.\n",
        "#The next layer is expecting to receive a 1D array, which is why we need to do this step.\n",
        "model.add(tf.keras.layers.Flatten())\n",
        "\n",
        "#Creating 2 dense hidden layers of 128, and using the ReLu activation.\n",
        "#ReLu was used due to its non-linearity properties and efficiency.\n",
        "#input shape 784 was from multiplying 28 and 28.\n",
        "model.add(tf.keras.layers.Dense(128, activation=\"relu\", input_shape=(784,)))\n",
        "model.add(tf.keras.layers.Dense(128, activation=\"relu\"))\n",
        "\n",
        "#Creating a droupout layer to help prevent overfitting\n",
        "#Dropout 0.25 means that we are dropping out 50% of our input units randomly.\n",
        "model.add(tf.keras.layers.Dropout(0.50))\n",
        "\n",
        "#Creating the final output layer, which classifies the images from 0 to 9.\n",
        "#Softmax activation is used for multiclass classfication and as the output layer.\n",
        "model.add(tf.keras.layers.Dense(10, activation=\"softmax\"))\n",
        "\n",
        "'''\n",
        "The parameters above were chosen by replicating the clothes classification model.\n",
        "This notebook aims to create a benchmark of the MNIST model so that we can compare its results to other models made.\n",
        "'''"
      ],
      "metadata": {
        "colab": {
          "base_uri": "https://localhost:8080/",
          "height": 70
        },
        "outputId": "64be2dd8-462e-43f1-9855-c1fdad761c40",
        "id": "0ZhS4dOwUUq1"
      },
      "execution_count": null,
      "outputs": [
        {
          "output_type": "execute_result",
          "data": {
            "text/plain": [
              "'\\nThe parameters above were chosen by replicating the clothes classification model.\\nThis notebook aims to create a benchmark of the MNIST model so that we can compare its results to other models made.\\n'"
            ],
            "application/vnd.google.colaboratory.intrinsic+json": {
              "type": "string"
            }
          },
          "metadata": {},
          "execution_count": 83
        }
      ]
    },
    {
      "cell_type": "code",
      "source": [
        "#Showing a summary of the model created.\n",
        "model.summary()"
      ],
      "metadata": {
        "colab": {
          "base_uri": "https://localhost:8080/"
        },
        "outputId": "f6569d8b-8635-4529-8ac9-ae94eafda9b6",
        "id": "1Pcy69DjUUq1"
      },
      "execution_count": null,
      "outputs": [
        {
          "output_type": "stream",
          "name": "stdout",
          "text": [
            "Model: \"sequential_11\"\n",
            "_________________________________________________________________\n",
            " Layer (type)                Output Shape              Param #   \n",
            "=================================================================\n",
            " flatten_6 (Flatten)         (None, 784)               0         \n",
            "                                                                 \n",
            " dense_33 (Dense)            (None, 128)               100480    \n",
            "                                                                 \n",
            " dense_34 (Dense)            (None, 128)               16512     \n",
            "                                                                 \n",
            " dropout_11 (Dropout)        (None, 128)               0         \n",
            "                                                                 \n",
            " dense_35 (Dense)            (None, 10)                1290      \n",
            "                                                                 \n",
            "=================================================================\n",
            "Total params: 118282 (462.04 KB)\n",
            "Trainable params: 118282 (462.04 KB)\n",
            "Non-trainable params: 0 (0.00 Byte)\n",
            "_________________________________________________________________\n"
          ]
        }
      ]
    },
    {
      "cell_type": "markdown",
      "source": [
        "## Task 4: Compile the Model\n",
        "A few more parameters are required before the model can be used for training.\n",
        "\n",
        "These are added at the build step of the model: Choose these parameters.\n",
        "\n",
        "Loss function\n",
        "\n",
        "Optimizer\n",
        "\n",
        "Metrics"
      ],
      "metadata": {
        "id": "YOz_cv5RUUq2"
      }
    },
    {
      "cell_type": "code",
      "source": [
        "#Compiling the model by configuring the loss, optimizer, and metrics paramters.\n",
        "model.compile(loss=\"sparse_categorical_crossentropy\",\n",
        "             optimizer = \"adam\",\n",
        "             metrics=['accuracy'])\n",
        "\n",
        "#Trying Categorical Crossentropy since this is multi-class classification and the data is encoded. The loss is also on a Logarithmic scale, so the model penalizes confident but incorrect predictions more heavily.\n",
        "#adam is an extension of SGD and is designed to overcome the limitations of sgd.\n",
        "# Accuracy was used as a metric to evaluate the model's success."
      ],
      "metadata": {
        "id": "cDboMV2lUUq2"
      },
      "execution_count": null,
      "outputs": []
    },
    {
      "cell_type": "markdown",
      "source": [
        "## Task 5: Train and Test the model.\n",
        "a. Feed the training data to the built model.\n",
        "\n",
        "b. Ask model to make predictions about a test set.\n",
        "\n",
        "c. Verify that the predictions match the labels from the test labels."
      ],
      "metadata": {
        "id": "mDMZzVpdUUq2"
      }
    },
    {
      "cell_type": "code",
      "source": [
        "#Training the model with 20 epochs.\n",
        "#20 epochs will be used across all notebooks for the MNIST dataset for uniformity.\n",
        "history = model.fit(x_train, y_train, epochs=20, validation_data=(x_test, y_test), batch_size=512)\n",
        "\n",
        "#A mini batch was selected to make the training less computationally expensive. A batch size of 512 means that we are processing 512 examples from the training dataset."
      ],
      "metadata": {
        "colab": {
          "base_uri": "https://localhost:8080/"
        },
        "outputId": "4cba5d0b-2bbf-4e21-f56b-8ce29fe4f3c2",
        "id": "kn1JgcXwUUq2"
      },
      "execution_count": null,
      "outputs": [
        {
          "output_type": "stream",
          "name": "stdout",
          "text": [
            "Epoch 1/20\n",
            "118/118 [==============================] - 3s 19ms/step - loss: 0.6715 - accuracy: 0.7970 - val_loss: 0.2419 - val_accuracy: 0.9287\n",
            "Epoch 2/20\n",
            "118/118 [==============================] - 2s 18ms/step - loss: 0.2645 - accuracy: 0.9232 - val_loss: 0.1660 - val_accuracy: 0.9512\n",
            "Epoch 3/20\n",
            "118/118 [==============================] - 2s 13ms/step - loss: 0.1945 - accuracy: 0.9441 - val_loss: 0.1370 - val_accuracy: 0.9583\n",
            "Epoch 4/20\n",
            "118/118 [==============================] - 1s 12ms/step - loss: 0.1550 - accuracy: 0.9552 - val_loss: 0.1133 - val_accuracy: 0.9642\n",
            "Epoch 5/20\n",
            "118/118 [==============================] - 1s 13ms/step - loss: 0.1297 - accuracy: 0.9624 - val_loss: 0.1031 - val_accuracy: 0.9674\n",
            "Epoch 6/20\n",
            "118/118 [==============================] - 1s 13ms/step - loss: 0.1124 - accuracy: 0.9676 - val_loss: 0.0941 - val_accuracy: 0.9722\n",
            "Epoch 7/20\n",
            "118/118 [==============================] - 1s 13ms/step - loss: 0.0975 - accuracy: 0.9712 - val_loss: 0.0877 - val_accuracy: 0.9736\n",
            "Epoch 8/20\n",
            "118/118 [==============================] - 2s 13ms/step - loss: 0.0872 - accuracy: 0.9740 - val_loss: 0.0802 - val_accuracy: 0.9750\n",
            "Epoch 9/20\n",
            "118/118 [==============================] - 2s 19ms/step - loss: 0.0761 - accuracy: 0.9778 - val_loss: 0.0775 - val_accuracy: 0.9755\n",
            "Epoch 10/20\n",
            "118/118 [==============================] - 2s 17ms/step - loss: 0.0683 - accuracy: 0.9795 - val_loss: 0.0732 - val_accuracy: 0.9765\n",
            "Epoch 11/20\n",
            "118/118 [==============================] - 1s 13ms/step - loss: 0.0632 - accuracy: 0.9812 - val_loss: 0.0730 - val_accuracy: 0.9771\n",
            "Epoch 12/20\n",
            "118/118 [==============================] - 2s 16ms/step - loss: 0.0563 - accuracy: 0.9834 - val_loss: 0.0801 - val_accuracy: 0.9761\n",
            "Epoch 13/20\n",
            "118/118 [==============================] - 2s 13ms/step - loss: 0.0521 - accuracy: 0.9843 - val_loss: 0.0716 - val_accuracy: 0.9795\n",
            "Epoch 14/20\n",
            "118/118 [==============================] - 1s 12ms/step - loss: 0.0474 - accuracy: 0.9861 - val_loss: 0.0697 - val_accuracy: 0.9789\n",
            "Epoch 15/20\n",
            "118/118 [==============================] - 1s 12ms/step - loss: 0.0437 - accuracy: 0.9862 - val_loss: 0.0693 - val_accuracy: 0.9798\n",
            "Epoch 16/20\n",
            "118/118 [==============================] - 2s 13ms/step - loss: 0.0413 - accuracy: 0.9880 - val_loss: 0.0711 - val_accuracy: 0.9788\n",
            "Epoch 17/20\n",
            "118/118 [==============================] - 2s 19ms/step - loss: 0.0361 - accuracy: 0.9881 - val_loss: 0.0684 - val_accuracy: 0.9791\n",
            "Epoch 18/20\n",
            "118/118 [==============================] - 2s 15ms/step - loss: 0.0321 - accuracy: 0.9901 - val_loss: 0.0710 - val_accuracy: 0.9787\n",
            "Epoch 19/20\n",
            "118/118 [==============================] - 1s 13ms/step - loss: 0.0299 - accuracy: 0.9908 - val_loss: 0.0712 - val_accuracy: 0.9799\n",
            "Epoch 20/20\n",
            "118/118 [==============================] - 1s 13ms/step - loss: 0.0281 - accuracy: 0.9910 - val_loss: 0.0723 - val_accuracy: 0.9795\n"
          ]
        }
      ]
    },
    {
      "cell_type": "code",
      "source": [
        "#Visualising the training loss and validation loss of the model\n",
        "\n",
        "plt.plot(history.history['loss'])\n",
        "plt.plot(history.history['val_loss'])\n",
        "\n",
        "#We can see that around 5 epochs, the test and validation losses were around the same."
      ],
      "metadata": {
        "colab": {
          "base_uri": "https://localhost:8080/",
          "height": 450
        },
        "outputId": "b4f9841c-ac72-434e-d42f-537c603d5097",
        "id": "jd28fnKtUUq2"
      },
      "execution_count": null,
      "outputs": [
        {
          "output_type": "execute_result",
          "data": {
            "text/plain": [
              "[<matplotlib.lines.Line2D at 0x7d0a2049d5d0>]"
            ]
          },
          "metadata": {},
          "execution_count": 87
        },
        {
          "output_type": "display_data",
          "data": {
            "text/plain": [
              "<Figure size 640x480 with 1 Axes>"
            ],
            "image/png": "[encoded data removed]"
          },
          "metadata": {}
        }
      ]
    },
    {
      "cell_type": "code",
      "source": [
        "#Evaluating the test loss and accuracy of the model.\n",
        "model.evaluate(x_test, y_test)\n",
        "\n",
        "#The increase of neurons in the second layer seemed to slightly decreased accuracy and increased loss."
      ],
      "metadata": {
        "colab": {
          "base_uri": "https://localhost:8080/"
        },
        "outputId": "80cb3a7b-fa58-442f-93a6-8d9a144f9db9",
        "id": "73LHWuJAUUq3"
      },
      "execution_count": null,
      "outputs": [
        {
          "output_type": "stream",
          "name": "stdout",
          "text": [
            "313/313 [==============================] - 1s 3ms/step - loss: 0.0723 - accuracy: 0.9795\n"
          ]
        },
        {
          "output_type": "execute_result",
          "data": {
            "text/plain": [
              "[0.07228115200996399, 0.9794999957084656]"
            ]
          },
          "metadata": {},
          "execution_count": 88
        }
      ]
    },
    {
      "cell_type": "code",
      "source": [],
      "metadata": {
        "id": "0_3-tbECUUq3"
      },
      "execution_count": null,
      "outputs": []
    },
    {
      "cell_type": "markdown",
      "source": [
        "# **Test 8: Increasing Dropout to 50% and increasing neurons to 156 on both layers**"
      ],
      "metadata": {
        "id": "UAOW140dU7eX"
      }
    },
    {
      "cell_type": "markdown",
      "source": [
        "## Task 3: Build a Classifier using MLP\n",
        "The layer is the most fundamental component of a neural network. Data is put into layers, and they extract representations from it. Choose the number of stacking layers so that model representations should, be useful for the given task."
      ],
      "metadata": {
        "id": "Ab3VXXVDU7ei"
      }
    },
    {
      "cell_type": "code",
      "source": [
        "#Creating the neural network for the classifier model\n",
        "\n",
        "#Random seed with key 42 was established for reproducibility.\n",
        "tf.random.set_seed(42)\n",
        "\n",
        "#Creating a sequential model using Keras. Sequential model linearly stacks layers one after another.\n",
        "model = tf.keras.Sequential()\n",
        "\n",
        "#Adding the input later of the network and indicating that the shape of the data is 28,28/\n",
        "model.add(tf.keras.layers.Input(shape=[28,28]))\n",
        "\n",
        "#Flattening the 28,28 2D input into a 1D array of 784.\n",
        "#The next layer is expecting to receive a 1D array, which is why we need to do this step.\n",
        "model.add(tf.keras.layers.Flatten())\n",
        "\n",
        "#Creating 2 dense hidden layers of 128, and using the ReLu activation.\n",
        "#ReLu was used due to its non-linearity properties and efficiency.\n",
        "#input shape 784 was from multiplying 28 and 28.\n",
        "model.add(tf.keras.layers.Dense(156, activation=\"relu\", input_shape=(784,)))\n",
        "model.add(tf.keras.layers.Dense(156, activation=\"relu\"))\n",
        "\n",
        "#Creating a droupout layer to help prevent overfitting\n",
        "#Dropout 0.25 means that we are dropping out 50% of our input units randomly.\n",
        "model.add(tf.keras.layers.Dropout(0.50))\n",
        "\n",
        "#Creating the final output layer, which classifies the images from 0 to 9.\n",
        "#Softmax activation is used for multiclass classfication and as the output layer.\n",
        "model.add(tf.keras.layers.Dense(10, activation=\"softmax\"))\n",
        "\n",
        "'''\n",
        "The parameters above were chosen by replicating the clothes classification model.\n",
        "This notebook aims to create a benchmark of the MNIST model so that we can compare its results to other models made.\n",
        "'''"
      ],
      "metadata": {
        "colab": {
          "base_uri": "https://localhost:8080/",
          "height": 70
        },
        "outputId": "4912774b-c905-4dd6-be12-5d7b09403179",
        "id": "y4WIRYQYU7ej"
      },
      "execution_count": null,
      "outputs": [
        {
          "output_type": "execute_result",
          "data": {
            "text/plain": [
              "'\\nThe parameters above were chosen by replicating the clothes classification model.\\nThis notebook aims to create a benchmark of the MNIST model so that we can compare its results to other models made.\\n'"
            ],
            "application/vnd.google.colaboratory.intrinsic+json": {
              "type": "string"
            }
          },
          "metadata": {},
          "execution_count": 89
        }
      ]
    },
    {
      "cell_type": "code",
      "source": [
        "#Showing a summary of the model created.\n",
        "model.summary()"
      ],
      "metadata": {
        "colab": {
          "base_uri": "https://localhost:8080/"
        },
        "outputId": "96632b7d-3fcc-43c4-dd33-4c13b25044aa",
        "id": "UKuzTsq5U7ej"
      },
      "execution_count": null,
      "outputs": [
        {
          "output_type": "stream",
          "name": "stdout",
          "text": [
            "Model: \"sequential_12\"\n",
            "_________________________________________________________________\n",
            " Layer (type)                Output Shape              Param #   \n",
            "=================================================================\n",
            " flatten_7 (Flatten)         (None, 784)               0         \n",
            "                                                                 \n",
            " dense_36 (Dense)            (None, 156)               122460    \n",
            "                                                                 \n",
            " dense_37 (Dense)            (None, 156)               24492     \n",
            "                                                                 \n",
            " dropout_12 (Dropout)        (None, 156)               0         \n",
            "                                                                 \n",
            " dense_38 (Dense)            (None, 10)                1570      \n",
            "                                                                 \n",
            "=================================================================\n",
            "Total params: 148522 (580.16 KB)\n",
            "Trainable params: 148522 (580.16 KB)\n",
            "Non-trainable params: 0 (0.00 Byte)\n",
            "_________________________________________________________________\n"
          ]
        }
      ]
    },
    {
      "cell_type": "markdown",
      "source": [
        "## Task 4: Compile the Model\n",
        "A few more parameters are required before the model can be used for training.\n",
        "\n",
        "These are added at the build step of the model: Choose these parameters.\n",
        "\n",
        "Loss function\n",
        "\n",
        "Optimizer\n",
        "\n",
        "Metrics"
      ],
      "metadata": {
        "id": "LuFXa76sU7ej"
      }
    },
    {
      "cell_type": "code",
      "source": [
        "#Compiling the model by configuring the loss, optimizer, and metrics paramters.\n",
        "model.compile(loss=\"sparse_categorical_crossentropy\",\n",
        "             optimizer = \"adam\",\n",
        "             metrics=['accuracy'])\n",
        "\n",
        "#Trying Categorical Crossentropy since this is multi-class classification and the data is encoded. The loss is also on a Logarithmic scale, so the model penalizes confident but incorrect predictions more heavily.\n",
        "#adam is an extension of SGD and is designed to overcome the limitations of sgd.\n",
        "# Accuracy was used as a metric to evaluate the model's success."
      ],
      "metadata": {
        "id": "vl-yyg4iU7ej"
      },
      "execution_count": null,
      "outputs": []
    },
    {
      "cell_type": "markdown",
      "source": [
        "## Task 5: Train and Test the model.\n",
        "a. Feed the training data to the built model.\n",
        "\n",
        "b. Ask model to make predictions about a test set.\n",
        "\n",
        "c. Verify that the predictions match the labels from the test labels."
      ],
      "metadata": {
        "id": "uHiQDN2tU7ej"
      }
    },
    {
      "cell_type": "code",
      "source": [
        "#Training the model with 20 epochs.\n",
        "#20 epochs will be used across all notebooks for the MNIST dataset for uniformity.\n",
        "history = model.fit(x_train, y_train, epochs=20, validation_data=(x_test, y_test), batch_size=512)\n",
        "\n",
        "#A mini batch was selected to make the training less computationally expensive. A batch size of 512 means that we are processing 512 examples from the training dataset."
      ],
      "metadata": {
        "colab": {
          "base_uri": "https://localhost:8080/"
        },
        "outputId": "abde44c7-0b54-4a97-f5c8-1066cf6fb4d1",
        "id": "oHonH44iU7ej"
      },
      "execution_count": null,
      "outputs": [
        {
          "output_type": "stream",
          "name": "stdout",
          "text": [
            "Epoch 1/20\n",
            "118/118 [==============================] - 3s 18ms/step - loss: 0.6358 - accuracy: 0.8079 - val_loss: 0.2222 - val_accuracy: 0.9351\n",
            "Epoch 2/20\n",
            "118/118 [==============================] - 2s 15ms/step - loss: 0.2388 - accuracy: 0.9314 - val_loss: 0.1507 - val_accuracy: 0.9545\n",
            "Epoch 3/20\n",
            "118/118 [==============================] - 2s 15ms/step - loss: 0.1717 - accuracy: 0.9502 - val_loss: 0.1213 - val_accuracy: 0.9622\n",
            "Epoch 4/20\n",
            "118/118 [==============================] - 2s 15ms/step - loss: 0.1371 - accuracy: 0.9602 - val_loss: 0.1082 - val_accuracy: 0.9670\n",
            "Epoch 5/20\n",
            "118/118 [==============================] - 3s 23ms/step - loss: 0.1146 - accuracy: 0.9664 - val_loss: 0.0947 - val_accuracy: 0.9704\n",
            "Epoch 6/20\n",
            "118/118 [==============================] - 2s 18ms/step - loss: 0.0960 - accuracy: 0.9722 - val_loss: 0.0876 - val_accuracy: 0.9740\n",
            "Epoch 7/20\n",
            "118/118 [==============================] - 2s 15ms/step - loss: 0.0836 - accuracy: 0.9756 - val_loss: 0.0816 - val_accuracy: 0.9755\n",
            "Epoch 8/20\n",
            "118/118 [==============================] - 2s 15ms/step - loss: 0.0716 - accuracy: 0.9788 - val_loss: 0.0724 - val_accuracy: 0.9769\n",
            "Epoch 9/20\n",
            "118/118 [==============================] - 2s 14ms/step - loss: 0.0627 - accuracy: 0.9814 - val_loss: 0.0745 - val_accuracy: 0.9774\n",
            "Epoch 10/20\n",
            "118/118 [==============================] - 2s 14ms/step - loss: 0.0549 - accuracy: 0.9833 - val_loss: 0.0709 - val_accuracy: 0.9785\n",
            "Epoch 11/20\n",
            "118/118 [==============================] - 2s 16ms/step - loss: 0.0509 - accuracy: 0.9846 - val_loss: 0.0713 - val_accuracy: 0.9786\n",
            "Epoch 12/20\n",
            "118/118 [==============================] - 3s 23ms/step - loss: 0.0445 - accuracy: 0.9863 - val_loss: 0.0742 - val_accuracy: 0.9784\n",
            "Epoch 13/20\n",
            "118/118 [==============================] - 2s 15ms/step - loss: 0.0408 - accuracy: 0.9877 - val_loss: 0.0675 - val_accuracy: 0.9796\n",
            "Epoch 14/20\n",
            "118/118 [==============================] - 2s 15ms/step - loss: 0.0345 - accuracy: 0.9897 - val_loss: 0.0692 - val_accuracy: 0.9794\n",
            "Epoch 15/20\n",
            "118/118 [==============================] - 2s 15ms/step - loss: 0.0305 - accuracy: 0.9907 - val_loss: 0.0720 - val_accuracy: 0.9802\n",
            "Epoch 16/20\n",
            "118/118 [==============================] - 2s 15ms/step - loss: 0.0296 - accuracy: 0.9909 - val_loss: 0.0695 - val_accuracy: 0.9803\n",
            "Epoch 17/20\n",
            "118/118 [==============================] - 2s 15ms/step - loss: 0.0259 - accuracy: 0.9920 - val_loss: 0.0678 - val_accuracy: 0.9812\n",
            "Epoch 18/20\n",
            "118/118 [==============================] - 2s 16ms/step - loss: 0.0234 - accuracy: 0.9930 - val_loss: 0.0714 - val_accuracy: 0.9807\n",
            "Epoch 19/20\n",
            "118/118 [==============================] - 4s 33ms/step - loss: 0.0218 - accuracy: 0.9935 - val_loss: 0.0705 - val_accuracy: 0.9820\n",
            "Epoch 20/20\n",
            "118/118 [==============================] - 3s 26ms/step - loss: 0.0207 - accuracy: 0.9936 - val_loss: 0.0680 - val_accuracy: 0.9809\n"
          ]
        }
      ]
    },
    {
      "cell_type": "code",
      "source": [
        "#Visualising the training loss and validation loss of the model\n",
        "\n",
        "plt.plot(history.history['loss'])\n",
        "plt.plot(history.history['val_loss'])\n",
        "\n",
        "#We can see that around 5 epochs, the test and validation losses were around the same."
      ],
      "metadata": {
        "colab": {
          "base_uri": "https://localhost:8080/",
          "height": 447
        },
        "outputId": "9124081a-a513-4189-e554-ff326ac4007f",
        "id": "iM4li6t9U7ej"
      },
      "execution_count": null,
      "outputs": [
        {
          "output_type": "execute_result",
          "data": {
            "text/plain": [
              "[<matplotlib.lines.Line2D at 0x7d0a1fd8a5c0>]"
            ]
          },
          "metadata": {},
          "execution_count": 93
        },
        {
          "output_type": "display_data",
          "data": {
            "text/plain": [
              "<Figure size 640x480 with 1 Axes>"
            ],
            "image/png": "[encoded data removed]"
          },
          "metadata": {}
        }
      ]
    },
    {
      "cell_type": "code",
      "source": [
        "#Evaluating the test loss and accuracy of the model.\n",
        "model.evaluate(x_test, y_test)\n",
        "\n",
        "#The increase of neurons in the second layer seemed to slightly decreased accuracy and increased loss."
      ],
      "metadata": {
        "colab": {
          "base_uri": "https://localhost:8080/"
        },
        "outputId": "0f7f790f-9bbf-423f-a242-7d9097cdbfc0",
        "id": "XlJXnUVYU7ek"
      },
      "execution_count": null,
      "outputs": [
        {
          "output_type": "stream",
          "name": "stdout",
          "text": [
            "313/313 [==============================] - 1s 2ms/step - loss: 0.0680 - accuracy: 0.9809\n"
          ]
        },
        {
          "output_type": "execute_result",
          "data": {
            "text/plain": [
              "[0.06795920431613922, 0.98089998960495]"
            ]
          },
          "metadata": {},
          "execution_count": 94
        }
      ]
    },
    {
      "cell_type": "code",
      "source": [],
      "metadata": {
        "id": "yxytPStBU7ek"
      },
      "execution_count": null,
      "outputs": []
    },
    {
      "cell_type": "markdown",
      "source": [
        "# **Test 9: Increasing number of layers to 3**"
      ],
      "metadata": {
        "id": "bMv1v5niVf4J"
      }
    },
    {
      "cell_type": "markdown",
      "source": [
        "## Task 3: Build a Classifier using MLP\n",
        "The layer is the most fundamental component of a neural network. Data is put into layers, and they extract representations from it. Choose the number of stacking layers so that model representations should, be useful for the given task."
      ],
      "metadata": {
        "id": "cCVsYFTNVf4Q"
      }
    },
    {
      "cell_type": "code",
      "source": [
        "#Creating the neural network for the classifier model\n",
        "\n",
        "#Random seed with key 42 was established for reproducibility.\n",
        "tf.random.set_seed(42)\n",
        "\n",
        "#Creating a sequential model using Keras. Sequential model linearly stacks layers one after another.\n",
        "model = tf.keras.Sequential()\n",
        "\n",
        "#Adding the input later of the network and indicating that the shape of the data is 28,28/\n",
        "model.add(tf.keras.layers.Input(shape=[28,28]))\n",
        "\n",
        "#Flattening the 28,28 2D input into a 1D array of 784.\n",
        "#The next layer is expecting to receive a 1D array, which is why we need to do this step.\n",
        "model.add(tf.keras.layers.Flatten())\n",
        "\n",
        "#Creating 2 dense hidden layers of 128, and using the ReLu activation.\n",
        "#ReLu was used due to its non-linearity properties and efficiency.\n",
        "#input shape 784 was from multiplying 28 and 28.\n",
        "model.add(tf.keras.layers.Dense(128, activation=\"relu\", input_shape=(784,)))\n",
        "model.add(tf.keras.layers.Dense(128, activation=\"relu\"))\n",
        "model.add(tf.keras.layers.Dense(128, activation=\"relu\"))\n",
        "\n",
        "#Creating a droupout layer to help prevent overfitting\n",
        "#Dropout 0.25 means that we are dropping out 25% of our input units randomly.\n",
        "model.add(tf.keras.layers.Dropout(0.25))\n",
        "\n",
        "#Creating the final output layer, which classifies the images from 0 to 9.\n",
        "#Softmax activation is used for multiclass classfication and as the output layer.\n",
        "model.add(tf.keras.layers.Dense(10, activation=\"softmax\"))\n",
        "\n",
        "'''\n",
        "The parameters above were chosen by replicating the clothes classification model.\n",
        "This notebook aims to create a benchmark of the MNIST model so that we can compare its results to other models made.\n",
        "'''"
      ],
      "metadata": {
        "colab": {
          "base_uri": "https://localhost:8080/",
          "height": 70
        },
        "outputId": "61ed6918-4599-414c-df92-6ad97fa9d658",
        "id": "P-93nAn_Vf4Q"
      },
      "execution_count": null,
      "outputs": [
        {
          "output_type": "execute_result",
          "data": {
            "text/plain": [
              "'\\nThe parameters above were chosen by replicating the clothes classification model.\\nThis notebook aims to create a benchmark of the MNIST model so that we can compare its results to other models made.\\n'"
            ],
            "application/vnd.google.colaboratory.intrinsic+json": {
              "type": "string"
            }
          },
          "metadata": {},
          "execution_count": 95
        }
      ]
    },
    {
      "cell_type": "code",
      "source": [
        "#Showing a summary of the model created.\n",
        "model.summary()"
      ],
      "metadata": {
        "colab": {
          "base_uri": "https://localhost:8080/"
        },
        "outputId": "040a09e1-3d4c-4ec6-858a-d3273be6abfd",
        "id": "nKETFuoUVf4R"
      },
      "execution_count": null,
      "outputs": [
        {
          "output_type": "stream",
          "name": "stdout",
          "text": [
            "Model: \"sequential_13\"\n",
            "_________________________________________________________________\n",
            " Layer (type)                Output Shape              Param #   \n",
            "=================================================================\n",
            " flatten_8 (Flatten)         (None, 784)               0         \n",
            "                                                                 \n",
            " dense_39 (Dense)            (None, 128)               100480    \n",
            "                                                                 \n",
            " dense_40 (Dense)            (None, 128)               16512     \n",
            "                                                                 \n",
            " dense_41 (Dense)            (None, 128)               16512     \n",
            "                                                                 \n",
            " dropout_13 (Dropout)        (None, 128)               0         \n",
            "                                                                 \n",
            " dense_42 (Dense)            (None, 10)                1290      \n",
            "                                                                 \n",
            "=================================================================\n",
            "Total params: 134794 (526.54 KB)\n",
            "Trainable params: 134794 (526.54 KB)\n",
            "Non-trainable params: 0 (0.00 Byte)\n",
            "_________________________________________________________________\n"
          ]
        }
      ]
    },
    {
      "cell_type": "markdown",
      "source": [
        "## Task 4: Compile the Model\n",
        "A few more parameters are required before the model can be used for training.\n",
        "\n",
        "These are added at the build step of the model: Choose these parameters.\n",
        "\n",
        "Loss function\n",
        "\n",
        "Optimizer\n",
        "\n",
        "Metrics"
      ],
      "metadata": {
        "id": "6zF5wBCZVf4R"
      }
    },
    {
      "cell_type": "code",
      "source": [
        "#Compiling the model by configuring the loss, optimizer, and metrics paramters.\n",
        "model.compile(loss=\"sparse_categorical_crossentropy\",\n",
        "             optimizer = \"adam\",\n",
        "             metrics=['accuracy'])\n",
        "\n",
        "#Trying Categorical Crossentropy since this is multi-class classification and the data is encoded. The loss is also on a Logarithmic scale, so the model penalizes confident but incorrect predictions more heavily.\n",
        "#adam is an extension of SGD and is designed to overcome the limitations of sgd.\n",
        "# Accuracy was used as a metric to evaluate the model's success."
      ],
      "metadata": {
        "id": "rNXySsCrVf4R"
      },
      "execution_count": null,
      "outputs": []
    },
    {
      "cell_type": "markdown",
      "source": [
        "## Task 5: Train and Test the model.\n",
        "a. Feed the training data to the built model.\n",
        "\n",
        "b. Ask model to make predictions about a test set.\n",
        "\n",
        "c. Verify that the predictions match the labels from the test labels."
      ],
      "metadata": {
        "id": "W4I6S7ZZVf4R"
      }
    },
    {
      "cell_type": "code",
      "source": [
        "#Training the model with 20 epochs.\n",
        "#20 epochs will be used across all notebooks for the MNIST dataset for uniformity.\n",
        "history = model.fit(x_train, y_train, epochs=20, validation_data=(x_test, y_test), batch_size=512)\n",
        "\n",
        "#A mini batch was selected to make the training less computationally expensive. A batch size of 512 means that we are processing 512 examples from the training dataset."
      ],
      "metadata": {
        "colab": {
          "base_uri": "https://localhost:8080/"
        },
        "outputId": "c5b44ee4-a13f-4490-aa5e-3af38c48fb1e",
        "id": "-aPdpdTJVf4R"
      },
      "execution_count": null,
      "outputs": [
        {
          "output_type": "stream",
          "name": "stdout",
          "text": [
            "Epoch 1/20\n",
            "118/118 [==============================] - 3s 16ms/step - loss: 0.5451 - accuracy: 0.8382 - val_loss: 0.2051 - val_accuracy: 0.9396\n",
            "Epoch 2/20\n",
            "118/118 [==============================] - 4s 37ms/step - loss: 0.1893 - accuracy: 0.9445 - val_loss: 0.1360 - val_accuracy: 0.9588\n",
            "Epoch 3/20\n",
            "118/118 [==============================] - 2s 21ms/step - loss: 0.1357 - accuracy: 0.9600 - val_loss: 0.1102 - val_accuracy: 0.9647\n",
            "Epoch 4/20\n",
            "118/118 [==============================] - 2s 13ms/step - loss: 0.1076 - accuracy: 0.9681 - val_loss: 0.0996 - val_accuracy: 0.9688\n",
            "Epoch 5/20\n",
            "118/118 [==============================] - 2s 14ms/step - loss: 0.0858 - accuracy: 0.9748 - val_loss: 0.0931 - val_accuracy: 0.9703\n",
            "Epoch 6/20\n",
            "118/118 [==============================] - 2s 14ms/step - loss: 0.0728 - accuracy: 0.9782 - val_loss: 0.0814 - val_accuracy: 0.9759\n",
            "Epoch 7/20\n",
            "118/118 [==============================] - 2s 13ms/step - loss: 0.0591 - accuracy: 0.9820 - val_loss: 0.0763 - val_accuracy: 0.9774\n",
            "Epoch 8/20\n",
            "118/118 [==============================] - 2s 18ms/step - loss: 0.0500 - accuracy: 0.9845 - val_loss: 0.0785 - val_accuracy: 0.9763\n",
            "Epoch 9/20\n",
            "118/118 [==============================] - 2s 19ms/step - loss: 0.0431 - accuracy: 0.9866 - val_loss: 0.0755 - val_accuracy: 0.9779\n",
            "Epoch 10/20\n",
            "118/118 [==============================] - 2s 14ms/step - loss: 0.0372 - accuracy: 0.9885 - val_loss: 0.0742 - val_accuracy: 0.9777\n",
            "Epoch 11/20\n",
            "118/118 [==============================] - 2s 14ms/step - loss: 0.0320 - accuracy: 0.9903 - val_loss: 0.0761 - val_accuracy: 0.9765\n",
            "Epoch 12/20\n",
            "118/118 [==============================] - 2s 14ms/step - loss: 0.0285 - accuracy: 0.9911 - val_loss: 0.0745 - val_accuracy: 0.9792\n",
            "Epoch 13/20\n",
            "118/118 [==============================] - 2s 14ms/step - loss: 0.0232 - accuracy: 0.9929 - val_loss: 0.0696 - val_accuracy: 0.9803\n",
            "Epoch 14/20\n",
            "118/118 [==============================] - 2s 13ms/step - loss: 0.0209 - accuracy: 0.9934 - val_loss: 0.0722 - val_accuracy: 0.9805\n",
            "Epoch 15/20\n",
            "118/118 [==============================] - 2s 14ms/step - loss: 0.0195 - accuracy: 0.9937 - val_loss: 0.0849 - val_accuracy: 0.9776\n",
            "Epoch 16/20\n",
            "118/118 [==============================] - 3s 21ms/step - loss: 0.0167 - accuracy: 0.9944 - val_loss: 0.0754 - val_accuracy: 0.9795\n",
            "Epoch 17/20\n",
            "118/118 [==============================] - 2s 15ms/step - loss: 0.0142 - accuracy: 0.9957 - val_loss: 0.0802 - val_accuracy: 0.9790\n",
            "Epoch 18/20\n",
            "118/118 [==============================] - 2s 13ms/step - loss: 0.0127 - accuracy: 0.9959 - val_loss: 0.0780 - val_accuracy: 0.9794\n",
            "Epoch 19/20\n",
            "118/118 [==============================] - 2s 14ms/step - loss: 0.0143 - accuracy: 0.9952 - val_loss: 0.0748 - val_accuracy: 0.9807\n",
            "Epoch 20/20\n",
            "118/118 [==============================] - 2s 14ms/step - loss: 0.0104 - accuracy: 0.9967 - val_loss: 0.0838 - val_accuracy: 0.9790\n"
          ]
        }
      ]
    },
    {
      "cell_type": "code",
      "source": [
        "#Visualising the training loss and validation loss of the model\n",
        "\n",
        "plt.plot(history.history['loss'])\n",
        "plt.plot(history.history['val_loss'])\n",
        "\n",
        "#We can see that around 5 epochs, the test and validation losses were around the same."
      ],
      "metadata": {
        "colab": {
          "base_uri": "https://localhost:8080/",
          "height": 447
        },
        "outputId": "cd52f71e-ff7b-4742-c30f-34f47d0e51f9",
        "id": "iMgqPXXTVf4R"
      },
      "execution_count": null,
      "outputs": [
        {
          "output_type": "execute_result",
          "data": {
            "text/plain": [
              "[<matplotlib.lines.Line2D at 0x7d0a1ad902e0>]"
            ]
          },
          "metadata": {},
          "execution_count": 99
        },
        {
          "output_type": "display_data",
          "data": {
            "text/plain": [
              "<Figure size 640x480 with 1 Axes>"
            ],
            "image/png": "[encoded data removed]"
          },
          "metadata": {}
        }
      ]
    },
    {
      "cell_type": "code",
      "source": [
        "#Evaluating the test loss and accuracy of the model.\n",
        "model.evaluate(x_test, y_test)\n",
        "\n",
        "#The increase of neurons in the second layer seemed to slightly decreased accuracy and increased loss."
      ],
      "metadata": {
        "colab": {
          "base_uri": "https://localhost:8080/"
        },
        "outputId": "f1405951-2b70-492d-bbe2-59c91a9f38b8",
        "id": "7kkbFhF3Vf4R"
      },
      "execution_count": null,
      "outputs": [
        {
          "output_type": "stream",
          "name": "stdout",
          "text": [
            "313/313 [==============================] - 1s 2ms/step - loss: 0.0838 - accuracy: 0.9790\n"
          ]
        },
        {
          "output_type": "execute_result",
          "data": {
            "text/plain": [
              "[0.08381436765193939, 0.9789999723434448]"
            ]
          },
          "metadata": {},
          "execution_count": 100
        }
      ]
    },
    {
      "cell_type": "code",
      "source": [],
      "metadata": {
        "id": "8jqoa8kDVf4S"
      },
      "execution_count": null,
      "outputs": []
    },
    {
      "cell_type": "markdown",
      "source": [
        "# **Test 10: Increasing number of layers to 3 and Increasing Dropout**"
      ],
      "metadata": {
        "id": "BAVXxZd0WHHX"
      }
    },
    {
      "cell_type": "markdown",
      "source": [
        "## Task 3: Build a Classifier using MLP\n",
        "The layer is the most fundamental component of a neural network. Data is put into layers, and they extract representations from it. Choose the number of stacking layers so that model representations should, be useful for the given task."
      ],
      "metadata": {
        "id": "6-tECDUBWHHh"
      }
    },
    {
      "cell_type": "code",
      "source": [
        "#Creating the neural network for the classifier model\n",
        "\n",
        "#Random seed with key 42 was established for reproducibility.\n",
        "tf.random.set_seed(42)\n",
        "\n",
        "#Creating a sequential model using Keras. Sequential model linearly stacks layers one after another.\n",
        "model = tf.keras.Sequential()\n",
        "\n",
        "#Adding the input later of the network and indicating that the shape of the data is 28,28/\n",
        "model.add(tf.keras.layers.Input(shape=[28,28]))\n",
        "\n",
        "#Flattening the 28,28 2D input into a 1D array of 784.\n",
        "#The next layer is expecting to receive a 1D array, which is why we need to do this step.\n",
        "model.add(tf.keras.layers.Flatten())\n",
        "\n",
        "#Creating 2 dense hidden layers of 128, and using the ReLu activation.\n",
        "#ReLu was used due to its non-linearity properties and efficiency.\n",
        "#input shape 784 was from multiplying 28 and 28.\n",
        "model.add(tf.keras.layers.Dense(128, activation=\"relu\", input_shape=(784,)))\n",
        "model.add(tf.keras.layers.Dense(128, activation=\"relu\"))\n",
        "model.add(tf.keras.layers.Dense(128, activation=\"relu\"))\n",
        "\n",
        "#Creating a droupout layer to help prevent overfitting\n",
        "#Dropout 0.25 means that we are dropping out 25% of our input units randomly.\n",
        "model.add(tf.keras.layers.Dropout(0.50))\n",
        "\n",
        "#Creating the final output layer, which classifies the images from 0 to 9.\n",
        "#Softmax activation is used for multiclass classfication and as the output layer.\n",
        "model.add(tf.keras.layers.Dense(10, activation=\"softmax\"))\n",
        "\n",
        "'''\n",
        "The parameters above were chosen by replicating the clothes classification model.\n",
        "This notebook aims to create a benchmark of the MNIST model so that we can compare its results to other models made.\n",
        "'''"
      ],
      "metadata": {
        "colab": {
          "base_uri": "https://localhost:8080/",
          "height": 70
        },
        "outputId": "3025a050-c9cd-428b-8543-c89760751c1c",
        "id": "r_DkmHuKWHHi"
      },
      "execution_count": null,
      "outputs": [
        {
          "output_type": "execute_result",
          "data": {
            "text/plain": [
              "'\\nThe parameters above were chosen by replicating the clothes classification model.\\nThis notebook aims to create a benchmark of the MNIST model so that we can compare its results to other models made.\\n'"
            ],
            "application/vnd.google.colaboratory.intrinsic+json": {
              "type": "string"
            }
          },
          "metadata": {},
          "execution_count": 101
        }
      ]
    },
    {
      "cell_type": "code",
      "source": [
        "#Showing a summary of the model created.\n",
        "model.summary()"
      ],
      "metadata": {
        "colab": {
          "base_uri": "https://localhost:8080/"
        },
        "outputId": "30a3743a-d1f5-4ae7-da7b-3e3641f51a68",
        "id": "grvCFZu_WHHi"
      },
      "execution_count": null,
      "outputs": [
        {
          "output_type": "stream",
          "name": "stdout",
          "text": [
            "Model: \"sequential_14\"\n",
            "_________________________________________________________________\n",
            " Layer (type)                Output Shape              Param #   \n",
            "=================================================================\n",
            " flatten_9 (Flatten)         (None, 784)               0         \n",
            "                                                                 \n",
            " dense_43 (Dense)            (None, 128)               100480    \n",
            "                                                                 \n",
            " dense_44 (Dense)            (None, 128)               16512     \n",
            "                                                                 \n",
            " dense_45 (Dense)            (None, 128)               16512     \n",
            "                                                                 \n",
            " dropout_14 (Dropout)        (None, 128)               0         \n",
            "                                                                 \n",
            " dense_46 (Dense)            (None, 10)                1290      \n",
            "                                                                 \n",
            "=================================================================\n",
            "Total params: 134794 (526.54 KB)\n",
            "Trainable params: 134794 (526.54 KB)\n",
            "Non-trainable params: 0 (0.00 Byte)\n",
            "_________________________________________________________________\n"
          ]
        }
      ]
    },
    {
      "cell_type": "markdown",
      "source": [
        "## Task 4: Compile the Model\n",
        "A few more parameters are required before the model can be used for training.\n",
        "\n",
        "These are added at the build step of the model: Choose these parameters.\n",
        "\n",
        "Loss function\n",
        "\n",
        "Optimizer\n",
        "\n",
        "Metrics"
      ],
      "metadata": {
        "id": "iV3bazNgWHHi"
      }
    },
    {
      "cell_type": "code",
      "source": [
        "#Compiling the model by configuring the loss, optimizer, and metrics paramters.\n",
        "model.compile(loss=\"sparse_categorical_crossentropy\",\n",
        "             optimizer = \"adam\",\n",
        "             metrics=['accuracy'])\n",
        "\n",
        "#Trying Categorical Crossentropy since this is multi-class classification and the data is encoded. The loss is also on a Logarithmic scale, so the model penalizes confident but incorrect predictions more heavily.\n",
        "#adam is an extension of SGD and is designed to overcome the limitations of sgd.\n",
        "# Accuracy was used as a metric to evaluate the model's success."
      ],
      "metadata": {
        "id": "y7TcKssEWHHi"
      },
      "execution_count": null,
      "outputs": []
    },
    {
      "cell_type": "markdown",
      "source": [
        "## Task 5: Train and Test the model.\n",
        "a. Feed the training data to the built model.\n",
        "\n",
        "b. Ask model to make predictions about a test set.\n",
        "\n",
        "c. Verify that the predictions match the labels from the test labels."
      ],
      "metadata": {
        "id": "5XPBhhV5WHHi"
      }
    },
    {
      "cell_type": "code",
      "source": [
        "#Training the model with 20 epochs.\n",
        "#20 epochs will be used across all notebooks for the MNIST dataset for uniformity.\n",
        "history = model.fit(x_train, y_train, epochs=20, validation_data=(x_test, y_test), batch_size=512)\n",
        "\n",
        "#A mini batch was selected to make the training less computationally expensive. A batch size of 512 means that we are processing 512 examples from the training dataset."
      ],
      "metadata": {
        "colab": {
          "base_uri": "https://localhost:8080/"
        },
        "outputId": "49c28748-baca-47d4-829f-fed9ea08ee44",
        "id": "MJ8fl-3fWHHj"
      },
      "execution_count": null,
      "outputs": [
        {
          "output_type": "stream",
          "name": "stdout",
          "text": [
            "Epoch 1/20\n",
            "118/118 [==============================] - 3s 16ms/step - loss: 0.6569 - accuracy: 0.7975 - val_loss: 0.2045 - val_accuracy: 0.9386\n",
            "Epoch 2/20\n",
            "118/118 [==============================] - 2s 14ms/step - loss: 0.2204 - accuracy: 0.9372 - val_loss: 0.1439 - val_accuracy: 0.9554\n",
            "Epoch 3/20\n",
            "118/118 [==============================] - 2s 13ms/step - loss: 0.1562 - accuracy: 0.9551 - val_loss: 0.1124 - val_accuracy: 0.9645\n",
            "Epoch 4/20\n",
            "118/118 [==============================] - 2s 14ms/step - loss: 0.1195 - accuracy: 0.9661 - val_loss: 0.1031 - val_accuracy: 0.9678\n",
            "Epoch 5/20\n",
            "118/118 [==============================] - 2s 14ms/step - loss: 0.0990 - accuracy: 0.9709 - val_loss: 0.0941 - val_accuracy: 0.9706\n",
            "Epoch 6/20\n",
            "118/118 [==============================] - 2s 19ms/step - loss: 0.0827 - accuracy: 0.9755 - val_loss: 0.0869 - val_accuracy: 0.9733\n",
            "Epoch 7/20\n",
            "118/118 [==============================] - 4s 33ms/step - loss: 0.0693 - accuracy: 0.9798 - val_loss: 0.0774 - val_accuracy: 0.9764\n",
            "Epoch 8/20\n",
            "118/118 [==============================] - 3s 25ms/step - loss: 0.0609 - accuracy: 0.9822 - val_loss: 0.0784 - val_accuracy: 0.9749\n",
            "Epoch 9/20\n",
            "118/118 [==============================] - 2s 14ms/step - loss: 0.0515 - accuracy: 0.9848 - val_loss: 0.0821 - val_accuracy: 0.9762\n",
            "Epoch 10/20\n",
            "118/118 [==============================] - 2s 14ms/step - loss: 0.0460 - accuracy: 0.9860 - val_loss: 0.0764 - val_accuracy: 0.9757\n",
            "Epoch 11/20\n",
            "118/118 [==============================] - 2s 14ms/step - loss: 0.0393 - accuracy: 0.9885 - val_loss: 0.0868 - val_accuracy: 0.9755\n",
            "Epoch 12/20\n",
            "118/118 [==============================] - 2s 18ms/step - loss: 0.0352 - accuracy: 0.9893 - val_loss: 0.0753 - val_accuracy: 0.9772\n",
            "Epoch 13/20\n",
            "118/118 [==============================] - 2s 19ms/step - loss: 0.0305 - accuracy: 0.9905 - val_loss: 0.0766 - val_accuracy: 0.9783\n",
            "Epoch 14/20\n",
            "118/118 [==============================] - 2s 14ms/step - loss: 0.0268 - accuracy: 0.9916 - val_loss: 0.0774 - val_accuracy: 0.9781\n",
            "Epoch 15/20\n",
            "118/118 [==============================] - 2s 13ms/step - loss: 0.0249 - accuracy: 0.9926 - val_loss: 0.0822 - val_accuracy: 0.9778\n",
            "Epoch 16/20\n",
            "118/118 [==============================] - 2s 14ms/step - loss: 0.0211 - accuracy: 0.9934 - val_loss: 0.0855 - val_accuracy: 0.9764\n",
            "Epoch 17/20\n",
            "118/118 [==============================] - 2s 14ms/step - loss: 0.0191 - accuracy: 0.9940 - val_loss: 0.0751 - val_accuracy: 0.9793\n",
            "Epoch 18/20\n",
            "118/118 [==============================] - 2s 14ms/step - loss: 0.0172 - accuracy: 0.9947 - val_loss: 0.0893 - val_accuracy: 0.9773\n",
            "Epoch 19/20\n",
            "118/118 [==============================] - 2s 15ms/step - loss: 0.0167 - accuracy: 0.9949 - val_loss: 0.0981 - val_accuracy: 0.9765\n",
            "Epoch 20/20\n",
            "118/118 [==============================] - 4s 32ms/step - loss: 0.0151 - accuracy: 0.9953 - val_loss: 0.0814 - val_accuracy: 0.9796\n"
          ]
        }
      ]
    },
    {
      "cell_type": "code",
      "source": [
        "#Visualising the training loss and validation loss of the model\n",
        "\n",
        "plt.plot(history.history['loss'])\n",
        "plt.plot(history.history['val_loss'])\n",
        "\n",
        "#We can see that around 5 epochs, the test and validation losses were around the same."
      ],
      "metadata": {
        "colab": {
          "base_uri": "https://localhost:8080/",
          "height": 447
        },
        "outputId": "d24ce614-abe3-41e7-d5e7-08a012eebf61",
        "id": "0tiAnjn8WHHj"
      },
      "execution_count": null,
      "outputs": [
        {
          "output_type": "execute_result",
          "data": {
            "text/plain": [
              "[<matplotlib.lines.Line2D at 0x7d0a1e5fa350>]"
            ]
          },
          "metadata": {},
          "execution_count": 105
        },
        {
          "output_type": "display_data",
          "data": {
            "text/plain": [
              "<Figure size 640x480 with 1 Axes>"
            ],
            "image/png": "[encoded data removed]"
          },
          "metadata": {}
        }
      ]
    },
    {
      "cell_type": "code",
      "source": [
        "#Evaluating the test loss and accuracy of the model.\n",
        "model.evaluate(x_test, y_test)\n",
        "\n",
        "#The increase of neurons in the second layer seemed to slightly decreased accuracy and increased loss."
      ],
      "metadata": {
        "colab": {
          "base_uri": "https://localhost:8080/"
        },
        "outputId": "ec5573a3-3b2c-46e4-da17-63cb6e458707",
        "id": "h9xtbHx9WHHj"
      },
      "execution_count": null,
      "outputs": [
        {
          "output_type": "stream",
          "name": "stdout",
          "text": [
            "313/313 [==============================] - 1s 2ms/step - loss: 0.0814 - accuracy: 0.9796\n"
          ]
        },
        {
          "output_type": "execute_result",
          "data": {
            "text/plain": [
              "[0.0813920721411705, 0.9796000123023987]"
            ]
          },
          "metadata": {},
          "execution_count": 106
        }
      ]
    },
    {
      "cell_type": "code",
      "source": [],
      "metadata": {
        "id": "tbOBQ1S2WHHj"
      },
      "execution_count": null,
      "outputs": []
    }
  ]
}